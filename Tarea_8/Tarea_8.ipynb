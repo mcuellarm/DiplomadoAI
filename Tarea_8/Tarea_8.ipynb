{
 "cells": [
  {
   "cell_type": "markdown",
   "id": "ac7c6e78",
   "metadata": {
    "id": "ac7c6e78",
    "papermill": {
     "duration": 0.021419,
     "end_time": "2023-05-03T17:05:32.422045",
     "exception": false,
     "start_time": "2023-05-03T17:05:32.400626",
     "status": "completed"
    },
    "tags": []
   },
   "source": [
    "\n",
    "# Tarea 8: practica Pythorch Lightning\n",
    "\n",
    "1. Abre el enlace correspondiente al tutorial sobre introducción a Pytorch alojado en la página  de  Pythorch Lightning: \n",
    "https://lightning.ai/docs/pytorch/stable/notebooks/course_UvA-DL/01-introduction-to-pytorch.html\n",
    "\n",
    "\n",
    "2. Lee el tutorial y pon en práctica cada uno de los pasos expuestos en este.\n",
    "\n",
    "3. Haz un cuaderno con la implementación del código junto con la explicación expuesta en dicho tutorial."
   ]
  },
  {
   "cell_type": "code",
   "execution_count": 4,
   "id": "ef060fb4",
   "metadata": {
    "execution": {
     "iopub.execute_input": "2023-05-03T17:05:36.126572Z",
     "iopub.status.busy": "2023-05-03T17:05:36.126192Z",
     "iopub.status.idle": "2023-05-03T17:05:37.362410Z",
     "shell.execute_reply": "2023-05-03T17:05:37.361159Z"
    },
    "id": "ef060fb4",
    "papermill": {
     "duration": 1.253162,
     "end_time": "2023-05-03T17:05:37.365219",
     "exception": false,
     "start_time": "2023-05-03T17:05:36.112057",
     "status": "completed"
    },
    "tags": []
   },
   "outputs": [],
   "source": [
    "import time\n",
    "\n",
    "import matplotlib.pyplot as plt\n",
    "\n",
    "%matplotlib inline\n",
    "import matplotlib_inline.backend_inline\n",
    "import numpy as np\n",
    "import torch\n",
    "import torch.nn as nn\n",
    "import torch.utils.data as data\n",
    "from matplotlib.colors import to_rgba\n",
    "from torch import Tensor\n",
    "from tqdm.notebook import tqdm  # Progress bar\n",
    "\n",
    "matplotlib_inline.backend_inline.set_matplotlib_formats(\"svg\", \"pdf\")  # For export"
   ]
  },
  {
   "cell_type": "code",
   "execution_count": 3,
   "id": "ee4f9313",
   "metadata": {
    "execution": {
     "iopub.execute_input": "2023-05-03T17:05:37.421480Z",
     "iopub.status.busy": "2023-05-03T17:05:37.420955Z",
     "iopub.status.idle": "2023-05-03T17:05:37.427741Z",
     "shell.execute_reply": "2023-05-03T17:05:37.426499Z"
    },
    "id": "ee4f9313",
    "outputId": "8736a764-c899-4e71-fc99-8c57ee352b0d",
    "papermill": {
     "duration": 0.022416,
     "end_time": "2023-05-03T17:05:37.429291",
     "exception": false,
     "start_time": "2023-05-03T17:05:37.406875",
     "status": "completed"
    },
    "tags": []
   },
   "outputs": [
    {
     "name": "stdout",
     "output_type": "stream",
     "text": [
      "Using torch 1.12.1\n"
     ]
    }
   ],
   "source": [
    "print(\"Using torch\", torch.__version__)"
   ]
  },
  {
   "cell_type": "markdown",
   "id": "91916ed0",
   "metadata": {
    "id": "91916ed0",
    "papermill": {
     "duration": 0.012691,
     "end_time": "2023-05-03T17:05:37.460216",
     "exception": false,
     "start_time": "2023-05-03T17:05:37.447525",
     "status": "completed"
    },
    "tags": []
   },
   "source": [
    "Pythorch permite configurar la semilla para que los experimentos sean reproducibles, por ejemplo al generar números aleatorios\n"
   ]
  },
  {
   "cell_type": "code",
   "execution_count": 4,
   "id": "4ffbb15c",
   "metadata": {
    "execution": {
     "iopub.execute_input": "2023-05-03T17:05:37.488098Z",
     "iopub.status.busy": "2023-05-03T17:05:37.487544Z",
     "iopub.status.idle": "2023-05-03T17:05:37.498395Z",
     "shell.execute_reply": "2023-05-03T17:05:37.497297Z"
    },
    "id": "4ffbb15c",
    "outputId": "3a14ffff-4d55-4ee9-b27f-8db885904577",
    "papermill": {
     "duration": 0.027807,
     "end_time": "2023-05-03T17:05:37.500815",
     "exception": false,
     "start_time": "2023-05-03T17:05:37.473008",
     "status": "completed"
    },
    "tags": []
   },
   "outputs": [
    {
     "data": {
      "text/plain": [
       "<torch._C.Generator at 0x20d1336d6f0>"
      ]
     },
     "execution_count": 4,
     "metadata": {},
     "output_type": "execute_result"
    }
   ],
   "source": [
    "torch.manual_seed(42)  # Setting the seed"
   ]
  },
  {
   "cell_type": "markdown",
   "id": "6dbdfcd6",
   "metadata": {
    "id": "6dbdfcd6",
    "papermill": {
     "duration": 0.01277,
     "end_time": "2023-05-03T17:05:37.530254",
     "exception": false,
     "start_time": "2023-05-03T17:05:37.517484",
     "status": "completed"
    },
    "tags": []
   },
   "source": [
    "#### Inicializar tensores\n",
    "\n",
    "Se inicializa el tensor pasando el shape deseado"
   ]
  },
  {
   "cell_type": "code",
   "execution_count": 5,
   "id": "899e4216",
   "metadata": {
    "execution": {
     "iopub.execute_input": "2023-05-03T17:05:37.559861Z",
     "iopub.status.busy": "2023-05-03T17:05:37.559469Z",
     "iopub.status.idle": "2023-05-03T17:05:37.570514Z",
     "shell.execute_reply": "2023-05-03T17:05:37.569642Z"
    },
    "id": "899e4216",
    "outputId": "b781154f-a909-42ec-ffdd-4b237e2b0386",
    "papermill": {
     "duration": 0.029322,
     "end_time": "2023-05-03T17:05:37.572743",
     "exception": false,
     "start_time": "2023-05-03T17:05:37.543421",
     "status": "completed"
    },
    "tags": []
   },
   "outputs": [
    {
     "name": "stdout",
     "output_type": "stream",
     "text": [
      "tensor([[[1.0337e-24, 7.3568e-43, 1.0337e-24, 7.3568e-43],\n",
      "         [1.0337e-24, 7.3568e-43, 1.0337e-24, 7.3568e-43],\n",
      "         [1.0337e-24, 7.3568e-43, 1.0336e-24, 7.3568e-43]],\n",
      "\n",
      "        [[1.0336e-24, 7.3568e-43, 1.0336e-24, 7.3568e-43],\n",
      "         [1.0336e-24, 7.3568e-43, 1.0336e-24, 7.3568e-43],\n",
      "         [1.0336e-24, 7.3568e-43, 1.0335e-24, 7.3568e-43]]])\n"
     ]
    }
   ],
   "source": [
    "x = Tensor(2, 3, 4)\n",
    "print(x)"
   ]
  },
  {
   "cell_type": "code",
   "execution_count": 6,
   "id": "5f6faaa4",
   "metadata": {
    "execution": {
     "iopub.execute_input": "2023-05-03T17:05:37.629725Z",
     "iopub.status.busy": "2023-05-03T17:05:37.629088Z",
     "iopub.status.idle": "2023-05-03T17:05:37.635741Z",
     "shell.execute_reply": "2023-05-03T17:05:37.634662Z"
    },
    "id": "5f6faaa4",
    "outputId": "b814f242-cb76-48cf-8d71-78a9b6f323c2",
    "papermill": {
     "duration": 0.022253,
     "end_time": "2023-05-03T17:05:37.637352",
     "exception": false,
     "start_time": "2023-05-03T17:05:37.615099",
     "status": "completed"
    },
    "tags": []
   },
   "outputs": [
    {
     "name": "stdout",
     "output_type": "stream",
     "text": [
      "tensor([[1., 2.],\n",
      "        [3., 4.]])\n"
     ]
    }
   ],
   "source": [
    "# Create a tensor from a (nested) list\n",
    "x = Tensor([[1, 2], [3, 4]])\n",
    "print(x)"
   ]
  },
  {
   "cell_type": "code",
   "execution_count": 7,
   "id": "c80d2c4f",
   "metadata": {
    "execution": {
     "iopub.execute_input": "2023-05-03T17:05:37.667304Z",
     "iopub.status.busy": "2023-05-03T17:05:37.666990Z",
     "iopub.status.idle": "2023-05-03T17:05:37.672586Z",
     "shell.execute_reply": "2023-05-03T17:05:37.671641Z"
    },
    "id": "c80d2c4f",
    "outputId": "c2b2f145-9ff4-48c5-a182-41618ffedc5a",
    "papermill": {
     "duration": 0.020746,
     "end_time": "2023-05-03T17:05:37.673995",
     "exception": false,
     "start_time": "2023-05-03T17:05:37.653249",
     "status": "completed"
    },
    "tags": []
   },
   "outputs": [
    {
     "name": "stdout",
     "output_type": "stream",
     "text": [
      "tensor([[[0.8823, 0.9150, 0.3829, 0.9593],\n",
      "         [0.3904, 0.6009, 0.2566, 0.7936],\n",
      "         [0.9408, 0.1332, 0.9346, 0.5936]],\n",
      "\n",
      "        [[0.8694, 0.5677, 0.7411, 0.4294],\n",
      "         [0.8854, 0.5739, 0.2666, 0.6274],\n",
      "         [0.2696, 0.4414, 0.2969, 0.8317]]])\n"
     ]
    }
   ],
   "source": [
    "# Create a tensor with random values between 0 and 1 with the shape [2, 3, 4]\n",
    "x = torch.rand(2, 3, 4)\n",
    "print(x)"
   ]
  },
  {
   "cell_type": "markdown",
   "id": "a66db10d",
   "metadata": {
    "id": "a66db10d",
    "papermill": {
     "duration": 0.013051,
     "end_time": "2023-05-03T17:05:37.703196",
     "exception": false,
     "start_time": "2023-05-03T17:05:37.690145",
     "status": "completed"
    },
    "tags": []
   },
   "source": [
    "Se puede obtener la forma del tensor igual que en numpy ('x.shape'), o utilizando el método '.size':"
   ]
  },
  {
   "cell_type": "code",
   "execution_count": 8,
   "id": "cc8880b0",
   "metadata": {
    "execution": {
     "iopub.execute_input": "2023-05-03T17:05:37.730771Z",
     "iopub.status.busy": "2023-05-03T17:05:37.730397Z",
     "iopub.status.idle": "2023-05-03T17:05:37.737514Z",
     "shell.execute_reply": "2023-05-03T17:05:37.736426Z"
    },
    "id": "cc8880b0",
    "outputId": "182b59e1-de8f-4e58-f14b-4e407530a7e7",
    "papermill": {
     "duration": 0.022978,
     "end_time": "2023-05-03T17:05:37.739240",
     "exception": false,
     "start_time": "2023-05-03T17:05:37.716262",
     "status": "completed"
    },
    "tags": []
   },
   "outputs": [
    {
     "name": "stdout",
     "output_type": "stream",
     "text": [
      "Shape: torch.Size([2, 3, 4])\n",
      "Size: torch.Size([2, 3, 4])\n",
      "Size: 2 3 4\n"
     ]
    }
   ],
   "source": [
    "shape = x.shape\n",
    "print(\"Shape:\", x.shape)\n",
    "\n",
    "size = x.size()\n",
    "print(\"Size:\", size)\n",
    "\n",
    "dim1, dim2, dim3 = x.size()\n",
    "print(\"Size:\", dim1, dim2, dim3)"
   ]
  },
  {
   "cell_type": "markdown",
   "id": "5cc138df",
   "metadata": {
    "id": "5cc138df",
    "papermill": {
     "duration": 0.01305,
     "end_time": "2023-05-03T17:05:37.768923",
     "exception": false,
     "start_time": "2023-05-03T17:05:37.755873",
     "status": "completed"
    },
    "tags": []
   },
   "source": [
    "Los tensores se pueden convertir a Numpy arrays y veceversa. PAra convertir de Numpy a Tensor:"
   ]
  },
  {
   "cell_type": "code",
   "execution_count": 9,
   "id": "2015edfe",
   "metadata": {
    "execution": {
     "iopub.execute_input": "2023-05-03T17:05:37.796407Z",
     "iopub.status.busy": "2023-05-03T17:05:37.796098Z",
     "iopub.status.idle": "2023-05-03T17:05:37.801989Z",
     "shell.execute_reply": "2023-05-03T17:05:37.801044Z"
    },
    "id": "2015edfe",
    "outputId": "d9e30e5f-0dce-4c1d-b1c8-1a80b3dfac2d",
    "papermill": {
     "duration": 0.021433,
     "end_time": "2023-05-03T17:05:37.803443",
     "exception": false,
     "start_time": "2023-05-03T17:05:37.782010",
     "status": "completed"
    },
    "tags": []
   },
   "outputs": [
    {
     "name": "stdout",
     "output_type": "stream",
     "text": [
      "Numpy array: [[1 2]\n",
      " [3 4]]\n",
      "PyTorch tensor: tensor([[1, 2],\n",
      "        [3, 4]], dtype=torch.int32)\n"
     ]
    }
   ],
   "source": [
    "np_arr = np.array([[1, 2], [3, 4]])\n",
    "tensor = torch.from_numpy(np_arr)\n",
    "\n",
    "print(\"Numpy array:\", np_arr)\n",
    "print(\"PyTorch tensor:\", tensor)"
   ]
  },
  {
   "cell_type": "markdown",
   "id": "7a4197e7",
   "metadata": {
    "id": "7a4197e7",
    "papermill": {
     "duration": 0.013093,
     "end_time": "2023-05-03T17:05:37.833137",
     "exception": false,
     "start_time": "2023-05-03T17:05:37.820044",
     "status": "completed"
    },
    "tags": []
   },
   "source": [
    "Para convertir de Tensor a Numpy"
   ]
  },
  {
   "cell_type": "code",
   "execution_count": 10,
   "id": "ae72833d",
   "metadata": {
    "execution": {
     "iopub.execute_input": "2023-05-03T17:05:37.861016Z",
     "iopub.status.busy": "2023-05-03T17:05:37.860570Z",
     "iopub.status.idle": "2023-05-03T17:05:37.867294Z",
     "shell.execute_reply": "2023-05-03T17:05:37.866269Z"
    },
    "id": "ae72833d",
    "outputId": "5affb30d-6b46-4244-cafd-19d818d548b7",
    "papermill": {
     "duration": 0.023351,
     "end_time": "2023-05-03T17:05:37.869693",
     "exception": false,
     "start_time": "2023-05-03T17:05:37.846342",
     "status": "completed"
    },
    "tags": []
   },
   "outputs": [
    {
     "name": "stdout",
     "output_type": "stream",
     "text": [
      "PyTorch tensor: tensor([0, 1, 2, 3])\n",
      "Numpy array: [0 1 2 3]\n"
     ]
    }
   ],
   "source": [
    "tensor = torch.arange(4)\n",
    "np_arr = tensor.numpy()\n",
    "\n",
    "print(\"PyTorch tensor:\", tensor)\n",
    "print(\"Numpy array:\", np_arr)"
   ]
  },
  {
   "cell_type": "markdown",
   "id": "5b617c9d",
   "metadata": {
    "id": "5b617c9d",
    "papermill": {
     "duration": 0.013174,
     "end_time": "2023-05-03T17:05:37.928248",
     "exception": false,
     "start_time": "2023-05-03T17:05:37.915074",
     "status": "completed"
    },
    "tags": []
   },
   "source": [
    "#### Operaciones\n",
    "\n",
    "Operaciones con tensores en Pytorch"
   ]
  },
  {
   "cell_type": "code",
   "execution_count": 11,
   "id": "c5bb5655",
   "metadata": {
    "execution": {
     "iopub.execute_input": "2023-05-03T17:05:37.955942Z",
     "iopub.status.busy": "2023-05-03T17:05:37.955702Z",
     "iopub.status.idle": "2023-05-03T17:05:37.962441Z",
     "shell.execute_reply": "2023-05-03T17:05:37.961513Z"
    },
    "id": "c5bb5655",
    "outputId": "eeadbbe6-ae6a-4d14-f8ab-14cb3f51ed13",
    "papermill": {
     "duration": 0.022619,
     "end_time": "2023-05-03T17:05:37.964136",
     "exception": false,
     "start_time": "2023-05-03T17:05:37.941517",
     "status": "completed"
    },
    "tags": []
   },
   "outputs": [
    {
     "name": "stdout",
     "output_type": "stream",
     "text": [
      "X1 tensor([[0.1053, 0.2695, 0.3588],\n",
      "        [0.1994, 0.5472, 0.0062]])\n",
      "X2 tensor([[0.9516, 0.0753, 0.8860],\n",
      "        [0.5832, 0.3376, 0.8090]])\n",
      "Y tensor([[1.0569, 0.3448, 1.2448],\n",
      "        [0.7826, 0.8848, 0.8151]])\n"
     ]
    }
   ],
   "source": [
    "x1 = torch.rand(2, 3)\n",
    "x2 = torch.rand(2, 3)\n",
    "y = x1 + x2\n",
    "\n",
    "print(\"X1\", x1)\n",
    "print(\"X2\", x2)\n",
    "print(\"Y\", y)"
   ]
  },
  {
   "cell_type": "markdown",
   "id": "ee68cea8",
   "metadata": {
    "id": "ee68cea8",
    "papermill": {
     "duration": 0.013327,
     "end_time": "2023-05-03T17:05:37.995075",
     "exception": false,
     "start_time": "2023-05-03T17:05:37.981748",
     "status": "completed"
    },
    "tags": []
   },
   "source": [
    "'x1 + x2' crea un nuevo tensor. Es posible utilizar el método 'add_' para realizar la suma directamente en uno de los dos tensores:"
   ]
  },
  {
   "cell_type": "code",
   "execution_count": 12,
   "id": "cc3f88ca",
   "metadata": {
    "execution": {
     "iopub.execute_input": "2023-05-03T17:05:38.023297Z",
     "iopub.status.busy": "2023-05-03T17:05:38.022891Z",
     "iopub.status.idle": "2023-05-03T17:05:38.030029Z",
     "shell.execute_reply": "2023-05-03T17:05:38.029094Z"
    },
    "id": "cc3f88ca",
    "outputId": "1d5cb8a3-45c4-4fef-e74e-341aac26e903",
    "papermill": {
     "duration": 0.022797,
     "end_time": "2023-05-03T17:05:38.031336",
     "exception": false,
     "start_time": "2023-05-03T17:05:38.008539",
     "status": "completed"
    },
    "tags": []
   },
   "outputs": [
    {
     "name": "stdout",
     "output_type": "stream",
     "text": [
      "X1 (before) tensor([[0.5779, 0.9040, 0.5547],\n",
      "        [0.3423, 0.6343, 0.3644]])\n",
      "X2 (before) tensor([[0.7104, 0.9464, 0.7890],\n",
      "        [0.2814, 0.7886, 0.5895]])\n",
      "X1 (after) tensor([[0.5779, 0.9040, 0.5547],\n",
      "        [0.3423, 0.6343, 0.3644]])\n",
      "X2 (after) tensor([[1.2884, 1.8504, 1.3437],\n",
      "        [0.6237, 1.4230, 0.9539]])\n"
     ]
    }
   ],
   "source": [
    "x1 = torch.rand(2, 3)\n",
    "x2 = torch.rand(2, 3)\n",
    "print(\"X1 (before)\", x1)\n",
    "print(\"X2 (before)\", x2)\n",
    "\n",
    "x2.add_(x1)\n",
    "print(\"X1 (after)\", x1)\n",
    "print(\"X2 (after)\", x2)"
   ]
  },
  {
   "cell_type": "markdown",
   "id": "acc8e413",
   "metadata": {
    "id": "acc8e413",
    "papermill": {
     "duration": 0.013356,
     "end_time": "2023-05-03T17:05:38.062609",
     "exception": false,
     "start_time": "2023-05-03T17:05:38.049253",
     "status": "completed"
    },
    "tags": []
   },
   "source": [
    "Cambiar la forma del tensor utilizando el método 'view':"
   ]
  },
  {
   "cell_type": "code",
   "execution_count": 13,
   "id": "3e788250",
   "metadata": {
    "execution": {
     "iopub.execute_input": "2023-05-03T17:05:38.091135Z",
     "iopub.status.busy": "2023-05-03T17:05:38.090687Z",
     "iopub.status.idle": "2023-05-03T17:05:38.096680Z",
     "shell.execute_reply": "2023-05-03T17:05:38.095667Z"
    },
    "id": "3e788250",
    "outputId": "575ec7d7-85f2-4405-d4fb-46c020cab8a9",
    "papermill": {
     "duration": 0.021988,
     "end_time": "2023-05-03T17:05:38.098071",
     "exception": false,
     "start_time": "2023-05-03T17:05:38.076083",
     "status": "completed"
    },
    "tags": []
   },
   "outputs": [
    {
     "name": "stdout",
     "output_type": "stream",
     "text": [
      "X tensor([0, 1, 2, 3, 4, 5])\n"
     ]
    }
   ],
   "source": [
    "x = torch.arange(6)\n",
    "print(\"X\", x)"
   ]
  },
  {
   "cell_type": "code",
   "execution_count": 14,
   "id": "b89e4bbe",
   "metadata": {
    "execution": {
     "iopub.execute_input": "2023-05-03T17:05:38.129101Z",
     "iopub.status.busy": "2023-05-03T17:05:38.128676Z",
     "iopub.status.idle": "2023-05-03T17:05:38.134024Z",
     "shell.execute_reply": "2023-05-03T17:05:38.133175Z"
    },
    "id": "b89e4bbe",
    "outputId": "28d534e8-c993-4bf3-a1fb-a787cb575ddd",
    "papermill": {
     "duration": 0.021397,
     "end_time": "2023-05-03T17:05:38.135436",
     "exception": false,
     "start_time": "2023-05-03T17:05:38.114039",
     "status": "completed"
    },
    "tags": []
   },
   "outputs": [
    {
     "name": "stdout",
     "output_type": "stream",
     "text": [
      "X tensor([[0, 1, 2],\n",
      "        [3, 4, 5]])\n"
     ]
    }
   ],
   "source": [
    "x = x.view(2, 3)\n",
    "print(\"X\", x)"
   ]
  },
  {
   "cell_type": "code",
   "execution_count": 15,
   "id": "ccf150b2",
   "metadata": {
    "execution": {
     "iopub.execute_input": "2023-05-03T17:05:38.166003Z",
     "iopub.status.busy": "2023-05-03T17:05:38.165704Z",
     "iopub.status.idle": "2023-05-03T17:05:38.170859Z",
     "shell.execute_reply": "2023-05-03T17:05:38.170027Z"
    },
    "id": "ccf150b2",
    "outputId": "e22e5154-c1f1-4f22-eb17-234e1685a176",
    "papermill": {
     "duration": 0.020789,
     "end_time": "2023-05-03T17:05:38.172162",
     "exception": false,
     "start_time": "2023-05-03T17:05:38.151373",
     "status": "completed"
    },
    "tags": []
   },
   "outputs": [
    {
     "name": "stdout",
     "output_type": "stream",
     "text": [
      "X tensor([[0, 3],\n",
      "        [1, 4],\n",
      "        [2, 5]])\n"
     ]
    }
   ],
   "source": [
    "x = x.permute(1, 0)  # Swapping dimension 0 and 1\n",
    "print(\"X\", x)"
   ]
  },
  {
   "cell_type": "markdown",
   "id": "6713371d",
   "metadata": {
    "id": "6713371d",
    "papermill": {
     "duration": 0.013635,
     "end_time": "2023-05-03T17:05:38.201813",
     "exception": false,
     "start_time": "2023-05-03T17:05:38.188178",
     "status": "completed"
    },
    "tags": []
   },
   "source": [
    "Operaciones con matrices:"
   ]
  },
  {
   "cell_type": "code",
   "execution_count": 16,
   "id": "5c71b963",
   "metadata": {
    "execution": {
     "iopub.execute_input": "2023-05-03T17:05:38.230672Z",
     "iopub.status.busy": "2023-05-03T17:05:38.230328Z",
     "iopub.status.idle": "2023-05-03T17:05:38.235455Z",
     "shell.execute_reply": "2023-05-03T17:05:38.234607Z"
    },
    "id": "5c71b963",
    "outputId": "8b6c821d-cb04-476c-b8be-97e93edb7d76",
    "papermill": {
     "duration": 0.021444,
     "end_time": "2023-05-03T17:05:38.237074",
     "exception": false,
     "start_time": "2023-05-03T17:05:38.215630",
     "status": "completed"
    },
    "tags": []
   },
   "outputs": [
    {
     "name": "stdout",
     "output_type": "stream",
     "text": [
      "X tensor([[0, 1, 2],\n",
      "        [3, 4, 5]])\n"
     ]
    }
   ],
   "source": [
    "x = torch.arange(6)\n",
    "x = x.view(2, 3)\n",
    "print(\"X\", x)"
   ]
  },
  {
   "cell_type": "code",
   "execution_count": 17,
   "id": "ed6f026d",
   "metadata": {
    "execution": {
     "iopub.execute_input": "2023-05-03T17:05:38.269608Z",
     "iopub.status.busy": "2023-05-03T17:05:38.269310Z",
     "iopub.status.idle": "2023-05-03T17:05:38.274430Z",
     "shell.execute_reply": "2023-05-03T17:05:38.273597Z"
    },
    "id": "ed6f026d",
    "outputId": "a4b7e4df-38c6-456f-c611-627613628519",
    "papermill": {
     "duration": 0.022219,
     "end_time": "2023-05-03T17:05:38.277046",
     "exception": false,
     "start_time": "2023-05-03T17:05:38.254827",
     "status": "completed"
    },
    "tags": []
   },
   "outputs": [
    {
     "name": "stdout",
     "output_type": "stream",
     "text": [
      "W tensor([[0, 1, 2],\n",
      "        [3, 4, 5],\n",
      "        [6, 7, 8]])\n"
     ]
    }
   ],
   "source": [
    "W = torch.arange(9).view(3, 3)  # We can also stack multiple operations in a single line\n",
    "print(\"W\", W)"
   ]
  },
  {
   "cell_type": "code",
   "execution_count": 18,
   "id": "b47d4b2d",
   "metadata": {
    "execution": {
     "iopub.execute_input": "2023-05-03T17:05:38.310912Z",
     "iopub.status.busy": "2023-05-03T17:05:38.310614Z",
     "iopub.status.idle": "2023-05-03T17:05:38.315702Z",
     "shell.execute_reply": "2023-05-03T17:05:38.314820Z"
    },
    "id": "b47d4b2d",
    "outputId": "98c0fd38-021d-4ee2-b394-d3db8742423e",
    "papermill": {
     "duration": 0.021778,
     "end_time": "2023-05-03T17:05:38.317360",
     "exception": false,
     "start_time": "2023-05-03T17:05:38.295582",
     "status": "completed"
    },
    "tags": []
   },
   "outputs": [
    {
     "name": "stdout",
     "output_type": "stream",
     "text": [
      "h tensor([[15, 18, 21],\n",
      "        [42, 54, 66]])\n"
     ]
    }
   ],
   "source": [
    "h = torch.matmul(x, W)  # Verify the result by calculating it by hand too!\n",
    "print(\"h\", h)"
   ]
  },
  {
   "cell_type": "markdown",
   "id": "16cd52c8",
   "metadata": {
    "id": "16cd52c8",
    "papermill": {
     "duration": 0.013855,
     "end_time": "2023-05-03T17:05:38.348131",
     "exception": false,
     "start_time": "2023-05-03T17:05:38.334276",
     "status": "completed"
    },
    "tags": []
   },
   "source": [
    "#### Indexación\n",
    "\n",
    "Acceder a dator del tensor a través de sus indices:"
   ]
  },
  {
   "cell_type": "code",
   "execution_count": 19,
   "id": "b4182c5b",
   "metadata": {
    "execution": {
     "iopub.execute_input": "2023-05-03T17:05:38.378139Z",
     "iopub.status.busy": "2023-05-03T17:05:38.377211Z",
     "iopub.status.idle": "2023-05-03T17:05:38.383830Z",
     "shell.execute_reply": "2023-05-03T17:05:38.382718Z"
    },
    "id": "b4182c5b",
    "outputId": "a1e0f6c1-0a68-4f16-f74b-25fd8ceaac05",
    "papermill": {
     "duration": 0.023157,
     "end_time": "2023-05-03T17:05:38.385233",
     "exception": false,
     "start_time": "2023-05-03T17:05:38.362076",
     "status": "completed"
    },
    "tags": []
   },
   "outputs": [
    {
     "name": "stdout",
     "output_type": "stream",
     "text": [
      "X tensor([[ 0,  1,  2,  3],\n",
      "        [ 4,  5,  6,  7],\n",
      "        [ 8,  9, 10, 11]])\n"
     ]
    }
   ],
   "source": [
    "x = torch.arange(12).view(3, 4)\n",
    "print(\"X\", x)"
   ]
  },
  {
   "cell_type": "code",
   "execution_count": 20,
   "id": "4d690996",
   "metadata": {
    "execution": {
     "iopub.execute_input": "2023-05-03T17:05:38.419864Z",
     "iopub.status.busy": "2023-05-03T17:05:38.419561Z",
     "iopub.status.idle": "2023-05-03T17:05:38.423728Z",
     "shell.execute_reply": "2023-05-03T17:05:38.422988Z"
    },
    "id": "4d690996",
    "outputId": "09f94f38-9c4b-4409-f12f-8f46b920fbc8",
    "papermill": {
     "duration": 0.020487,
     "end_time": "2023-05-03T17:05:38.425310",
     "exception": false,
     "start_time": "2023-05-03T17:05:38.404823",
     "status": "completed"
    },
    "tags": []
   },
   "outputs": [
    {
     "name": "stdout",
     "output_type": "stream",
     "text": [
      "tensor([1, 5, 9])\n"
     ]
    }
   ],
   "source": [
    "print(x[:, 1])  # Second column"
   ]
  },
  {
   "cell_type": "code",
   "execution_count": 21,
   "id": "9b000bee",
   "metadata": {
    "execution": {
     "iopub.execute_input": "2023-05-03T17:05:38.457934Z",
     "iopub.status.busy": "2023-05-03T17:05:38.457511Z",
     "iopub.status.idle": "2023-05-03T17:05:38.463238Z",
     "shell.execute_reply": "2023-05-03T17:05:38.462230Z"
    },
    "id": "9b000bee",
    "outputId": "93c59e3c-cda0-4f04-b7c9-87f51d66569f",
    "papermill": {
     "duration": 0.022186,
     "end_time": "2023-05-03T17:05:38.464512",
     "exception": false,
     "start_time": "2023-05-03T17:05:38.442326",
     "status": "completed"
    },
    "tags": []
   },
   "outputs": [
    {
     "name": "stdout",
     "output_type": "stream",
     "text": [
      "tensor([0, 1, 2, 3])\n"
     ]
    }
   ],
   "source": [
    "print(x[0])  # First row"
   ]
  },
  {
   "cell_type": "code",
   "execution_count": 22,
   "id": "ae2e204d",
   "metadata": {
    "execution": {
     "iopub.execute_input": "2023-05-03T17:05:38.496309Z",
     "iopub.status.busy": "2023-05-03T17:05:38.496009Z",
     "iopub.status.idle": "2023-05-03T17:05:38.501025Z",
     "shell.execute_reply": "2023-05-03T17:05:38.500181Z"
    },
    "id": "ae2e204d",
    "outputId": "63ef7bd9-540e-42ad-d2a5-654626bad8c3",
    "papermill": {
     "duration": 0.021377,
     "end_time": "2023-05-03T17:05:38.502364",
     "exception": false,
     "start_time": "2023-05-03T17:05:38.480987",
     "status": "completed"
    },
    "tags": []
   },
   "outputs": [
    {
     "name": "stdout",
     "output_type": "stream",
     "text": [
      "tensor([3, 7])\n"
     ]
    }
   ],
   "source": [
    "print(x[:2, -1])  # First two rows, last column"
   ]
  },
  {
   "cell_type": "code",
   "execution_count": 23,
   "id": "c953e24a",
   "metadata": {
    "execution": {
     "iopub.execute_input": "2023-05-03T17:05:38.534466Z",
     "iopub.status.busy": "2023-05-03T17:05:38.534122Z",
     "iopub.status.idle": "2023-05-03T17:05:38.540189Z",
     "shell.execute_reply": "2023-05-03T17:05:38.539093Z"
    },
    "id": "c953e24a",
    "outputId": "cd3c6123-a1d1-4ac8-dc61-adf7cd3bc7fc",
    "papermill": {
     "duration": 0.022678,
     "end_time": "2023-05-03T17:05:38.541574",
     "exception": false,
     "start_time": "2023-05-03T17:05:38.518896",
     "status": "completed"
    },
    "tags": []
   },
   "outputs": [
    {
     "name": "stdout",
     "output_type": "stream",
     "text": [
      "tensor([[ 4,  5,  6,  7],\n",
      "        [ 8,  9, 10, 11]])\n"
     ]
    }
   ],
   "source": [
    "print(x[1:3, :])  # Middle two rows"
   ]
  },
  {
   "cell_type": "markdown",
   "id": "07bc4c06",
   "metadata": {
    "id": "07bc4c06",
    "papermill": {
     "duration": 0.014313,
     "end_time": "2023-05-03T17:05:38.573421",
     "exception": false,
     "start_time": "2023-05-03T17:05:38.559108",
     "status": "completed"
    },
    "tags": []
   },
   "source": [
    "Pytorch permite obtener el gradiente de un Tensor. Al crear un tensor, normalmente no requiere gradiente:"
   ]
  },
  {
   "cell_type": "code",
   "execution_count": 25,
   "id": "61f8890b",
   "metadata": {
    "execution": {
     "iopub.execute_input": "2023-05-03T17:05:38.603383Z",
     "iopub.status.busy": "2023-05-03T17:05:38.602989Z",
     "iopub.status.idle": "2023-05-03T17:05:38.607792Z",
     "shell.execute_reply": "2023-05-03T17:05:38.606848Z"
    },
    "id": "61f8890b",
    "outputId": "70e302d6-feeb-4d4b-9c14-b9a73590df54",
    "papermill": {
     "duration": 0.021477,
     "end_time": "2023-05-03T17:05:38.609188",
     "exception": false,
     "start_time": "2023-05-03T17:05:38.587711",
     "status": "completed"
    },
    "tags": []
   },
   "outputs": [
    {
     "name": "stdout",
     "output_type": "stream",
     "text": [
      "False\n"
     ]
    }
   ],
   "source": [
    "x = torch.ones((3,))\n",
    "print(x.requires_grad)"
   ]
  },
  {
   "cell_type": "markdown",
   "id": "461517a7",
   "metadata": {
    "id": "461517a7",
    "papermill": {
     "duration": 0.014322,
     "end_time": "2023-05-03T17:05:38.641303",
     "exception": false,
     "start_time": "2023-05-03T17:05:38.626981",
     "status": "completed"
    },
    "tags": []
   },
   "source": [
    "El método `requires_grad_()` se usa para indicar que sí requiere gradiente.\n",
    "También podemos usar el siguiente parámetro al crear un Tensor \n",
    "`requires_grad=True` para indicar que requiere gradiente."
   ]
  },
  {
   "cell_type": "code",
   "execution_count": 26,
   "id": "aa0d2e59",
   "metadata": {
    "execution": {
     "iopub.execute_input": "2023-05-03T17:05:38.671162Z",
     "iopub.status.busy": "2023-05-03T17:05:38.670848Z",
     "iopub.status.idle": "2023-05-03T17:05:38.675547Z",
     "shell.execute_reply": "2023-05-03T17:05:38.674676Z"
    },
    "id": "aa0d2e59",
    "outputId": "09d97734-04d6-4320-83a7-a06321f150e8",
    "papermill": {
     "duration": 0.02122,
     "end_time": "2023-05-03T17:05:38.676891",
     "exception": false,
     "start_time": "2023-05-03T17:05:38.655671",
     "status": "completed"
    },
    "tags": []
   },
   "outputs": [
    {
     "name": "stdout",
     "output_type": "stream",
     "text": [
      "True\n"
     ]
    }
   ],
   "source": [
    "x.requires_grad_(True)\n",
    "print(x.requires_grad)"
   ]
  },
  {
   "cell_type": "markdown",
   "id": "66ae4399",
   "metadata": {
    "id": "66ae4399",
    "papermill": {
     "duration": 0.01437,
     "end_time": "2023-05-03T17:05:38.708101",
     "exception": false,
     "start_time": "2023-05-03T17:05:38.693731",
     "status": "completed"
    },
    "tags": []
   },
   "source": [
    "Se crea la siguiente función:\n",
    "\n",
    "$$y = \\frac{1}{|x|}\\sum_i \\left[(x_i + 2)^2 + 3\\right]$$\n",
    "\n",
    "Suponemos que $x$ son los parámetros de entrada y queremos optimizar la salida $y$.\n",
    "Para esto, queremos obtener los gradientes $\\partial y / \\partial \\mathbf{x}$.\n",
    "Para el ejemplo utilizamos $\\mathbf{x}=[0,1,2]$ como entrada."
   ]
  },
  {
   "cell_type": "code",
   "execution_count": 27,
   "id": "d59fe4a7",
   "metadata": {
    "execution": {
     "iopub.execute_input": "2023-05-03T17:05:38.738543Z",
     "iopub.status.busy": "2023-05-03T17:05:38.738139Z",
     "iopub.status.idle": "2023-05-03T17:05:38.745260Z",
     "shell.execute_reply": "2023-05-03T17:05:38.744241Z"
    },
    "id": "d59fe4a7",
    "outputId": "fa25655f-3068-4694-a2a9-0eac9c93b8ef",
    "papermill": {
     "duration": 0.02403,
     "end_time": "2023-05-03T17:05:38.746679",
     "exception": false,
     "start_time": "2023-05-03T17:05:38.722649",
     "status": "completed"
    },
    "tags": []
   },
   "outputs": [
    {
     "name": "stdout",
     "output_type": "stream",
     "text": [
      "X tensor([0., 1., 2.], requires_grad=True)\n"
     ]
    }
   ],
   "source": [
    "x = torch.arange(3, dtype=torch.float32, requires_grad=True)  # Only float tensors can have gradients\n",
    "print(\"X\", x)"
   ]
  },
  {
   "cell_type": "markdown",
   "id": "42c93744",
   "metadata": {
    "id": "42c93744",
    "papermill": {
     "duration": 0.014641,
     "end_time": "2023-05-03T17:05:38.780992",
     "exception": false,
     "start_time": "2023-05-03T17:05:38.766351",
     "status": "completed"
    },
    "tags": []
   },
   "source": [
    "Ahora se crea el grafo computacional:"
   ]
  },
  {
   "cell_type": "code",
   "execution_count": null,
   "id": "2186ab70",
   "metadata": {
    "execution": {
     "iopub.execute_input": "2023-05-03T17:05:38.811854Z",
     "iopub.status.busy": "2023-05-03T17:05:38.811483Z",
     "iopub.status.idle": "2023-05-03T17:05:38.818329Z",
     "shell.execute_reply": "2023-05-03T17:05:38.817316Z"
    },
    "id": "2186ab70",
    "outputId": "304c99ba-8872-4873-82e5-a8694d2cae86",
    "papermill": {
     "duration": 0.024097,
     "end_time": "2023-05-03T17:05:38.819849",
     "exception": false,
     "start_time": "2023-05-03T17:05:38.795752",
     "status": "completed"
    },
    "tags": []
   },
   "outputs": [
    {
     "name": "stdout",
     "output_type": "stream",
     "text": [
      "Y tensor(12.6667, grad_fn=<MeanBackward0>)\n"
     ]
    }
   ],
   "source": [
    "a = x + 2\n",
    "b = a**2\n",
    "c = b + 3\n",
    "y = c.mean()\n",
    "print(\"Y\", y)"
   ]
  },
  {
   "cell_type": "code",
   "execution_count": 29,
   "id": "efb525ed",
   "metadata": {
    "execution": {
     "iopub.execute_input": "2023-05-03T17:05:38.883966Z",
     "iopub.status.busy": "2023-05-03T17:05:38.883652Z",
     "iopub.status.idle": "2023-05-03T17:05:38.974997Z",
     "shell.execute_reply": "2023-05-03T17:05:38.973812Z"
    },
    "id": "efb525ed",
    "papermill": {
     "duration": 0.109442,
     "end_time": "2023-05-03T17:05:38.977408",
     "exception": false,
     "start_time": "2023-05-03T17:05:38.867966",
     "status": "completed"
    },
    "tags": []
   },
   "outputs": [
    {
     "ename": "RuntimeError",
     "evalue": "grad can be implicitly created only for scalar outputs",
     "output_type": "error",
     "traceback": [
      "\u001b[1;31m---------------------------------------------------------------------------\u001b[0m",
      "\u001b[1;31mRuntimeError\u001b[0m                              Traceback (most recent call last)",
      "Cell \u001b[1;32mIn[29], line 2\u001b[0m\n\u001b[0;32m      1\u001b[0m y\u001b[38;5;241m.\u001b[39mrequires_grad_(\u001b[38;5;28;01mTrue\u001b[39;00m)\n\u001b[1;32m----> 2\u001b[0m \u001b[43my\u001b[49m\u001b[38;5;241;43m.\u001b[39;49m\u001b[43mbackward\u001b[49m\u001b[43m(\u001b[49m\u001b[43m)\u001b[49m\n",
      "File \u001b[1;32m~\\anaconda3\\envs\\Pruebas\\lib\\site-packages\\torch\\_tensor.py:396\u001b[0m, in \u001b[0;36mTensor.backward\u001b[1;34m(self, gradient, retain_graph, create_graph, inputs)\u001b[0m\n\u001b[0;32m    387\u001b[0m \u001b[38;5;28;01mif\u001b[39;00m has_torch_function_unary(\u001b[38;5;28mself\u001b[39m):\n\u001b[0;32m    388\u001b[0m     \u001b[38;5;28;01mreturn\u001b[39;00m handle_torch_function(\n\u001b[0;32m    389\u001b[0m         Tensor\u001b[38;5;241m.\u001b[39mbackward,\n\u001b[0;32m    390\u001b[0m         (\u001b[38;5;28mself\u001b[39m,),\n\u001b[1;32m   (...)\u001b[0m\n\u001b[0;32m    394\u001b[0m         create_graph\u001b[38;5;241m=\u001b[39mcreate_graph,\n\u001b[0;32m    395\u001b[0m         inputs\u001b[38;5;241m=\u001b[39minputs)\n\u001b[1;32m--> 396\u001b[0m \u001b[43mtorch\u001b[49m\u001b[38;5;241;43m.\u001b[39;49m\u001b[43mautograd\u001b[49m\u001b[38;5;241;43m.\u001b[39;49m\u001b[43mbackward\u001b[49m\u001b[43m(\u001b[49m\u001b[38;5;28;43mself\u001b[39;49m\u001b[43m,\u001b[49m\u001b[43m \u001b[49m\u001b[43mgradient\u001b[49m\u001b[43m,\u001b[49m\u001b[43m \u001b[49m\u001b[43mretain_graph\u001b[49m\u001b[43m,\u001b[49m\u001b[43m \u001b[49m\u001b[43mcreate_graph\u001b[49m\u001b[43m,\u001b[49m\u001b[43m \u001b[49m\u001b[43minputs\u001b[49m\u001b[38;5;241;43m=\u001b[39;49m\u001b[43minputs\u001b[49m\u001b[43m)\u001b[49m\n",
      "File \u001b[1;32m~\\anaconda3\\envs\\Pruebas\\lib\\site-packages\\torch\\autograd\\__init__.py:166\u001b[0m, in \u001b[0;36mbackward\u001b[1;34m(tensors, grad_tensors, retain_graph, create_graph, grad_variables, inputs)\u001b[0m\n\u001b[0;32m    162\u001b[0m inputs \u001b[38;5;241m=\u001b[39m (inputs,) \u001b[38;5;28;01mif\u001b[39;00m \u001b[38;5;28misinstance\u001b[39m(inputs, torch\u001b[38;5;241m.\u001b[39mTensor) \u001b[38;5;28;01melse\u001b[39;00m \\\n\u001b[0;32m    163\u001b[0m     \u001b[38;5;28mtuple\u001b[39m(inputs) \u001b[38;5;28;01mif\u001b[39;00m inputs \u001b[38;5;129;01mis\u001b[39;00m \u001b[38;5;129;01mnot\u001b[39;00m \u001b[38;5;28;01mNone\u001b[39;00m \u001b[38;5;28;01melse\u001b[39;00m \u001b[38;5;28mtuple\u001b[39m()\n\u001b[0;32m    165\u001b[0m grad_tensors_ \u001b[38;5;241m=\u001b[39m _tensor_or_tensors_to_tuple(grad_tensors, \u001b[38;5;28mlen\u001b[39m(tensors))\n\u001b[1;32m--> 166\u001b[0m grad_tensors_ \u001b[38;5;241m=\u001b[39m \u001b[43m_make_grads\u001b[49m\u001b[43m(\u001b[49m\u001b[43mtensors\u001b[49m\u001b[43m,\u001b[49m\u001b[43m \u001b[49m\u001b[43mgrad_tensors_\u001b[49m\u001b[43m,\u001b[49m\u001b[43m \u001b[49m\u001b[43mis_grads_batched\u001b[49m\u001b[38;5;241;43m=\u001b[39;49m\u001b[38;5;28;43;01mFalse\u001b[39;49;00m\u001b[43m)\u001b[49m\n\u001b[0;32m    167\u001b[0m \u001b[38;5;28;01mif\u001b[39;00m retain_graph \u001b[38;5;129;01mis\u001b[39;00m \u001b[38;5;28;01mNone\u001b[39;00m:\n\u001b[0;32m    168\u001b[0m     retain_graph \u001b[38;5;241m=\u001b[39m create_graph\n",
      "File \u001b[1;32m~\\anaconda3\\envs\\Pruebas\\lib\\site-packages\\torch\\autograd\\__init__.py:67\u001b[0m, in \u001b[0;36m_make_grads\u001b[1;34m(outputs, grads, is_grads_batched)\u001b[0m\n\u001b[0;32m     65\u001b[0m \u001b[38;5;28;01mif\u001b[39;00m out\u001b[38;5;241m.\u001b[39mrequires_grad:\n\u001b[0;32m     66\u001b[0m     \u001b[38;5;28;01mif\u001b[39;00m out\u001b[38;5;241m.\u001b[39mnumel() \u001b[38;5;241m!=\u001b[39m \u001b[38;5;241m1\u001b[39m:\n\u001b[1;32m---> 67\u001b[0m         \u001b[38;5;28;01mraise\u001b[39;00m \u001b[38;5;167;01mRuntimeError\u001b[39;00m(\u001b[38;5;124m\"\u001b[39m\u001b[38;5;124mgrad can be implicitly created only for scalar outputs\u001b[39m\u001b[38;5;124m\"\u001b[39m)\n\u001b[0;32m     68\u001b[0m     new_grads\u001b[38;5;241m.\u001b[39mappend(torch\u001b[38;5;241m.\u001b[39mones_like(out, memory_format\u001b[38;5;241m=\u001b[39mtorch\u001b[38;5;241m.\u001b[39mpreserve_format))\n\u001b[0;32m     69\u001b[0m \u001b[38;5;28;01melse\u001b[39;00m:\n",
      "\u001b[1;31mRuntimeError\u001b[0m: grad can be implicitly created only for scalar outputs"
     ]
    }
   ],
   "source": [
    "y.backward()"
   ]
  },
  {
   "cell_type": "code",
   "execution_count": 31,
   "id": "7940bafb",
   "metadata": {
    "execution": {
     "iopub.execute_input": "2023-05-03T17:05:39.045917Z",
     "iopub.status.busy": "2023-05-03T17:05:39.045530Z",
     "iopub.status.idle": "2023-05-03T17:05:39.052108Z",
     "shell.execute_reply": "2023-05-03T17:05:39.051132Z"
    },
    "id": "7940bafb",
    "outputId": "87037159-6330-44f6-9f57-90a10d452178",
    "papermill": {
     "duration": 0.024423,
     "end_time": "2023-05-03T17:05:39.053786",
     "exception": false,
     "start_time": "2023-05-03T17:05:39.029363",
     "status": "completed"
    },
    "tags": []
   },
   "outputs": [
    {
     "name": "stdout",
     "output_type": "stream",
     "text": [
      "None\n"
     ]
    }
   ],
   "source": [
    "print(x.grad)"
   ]
  },
  {
   "cell_type": "markdown",
   "id": "920c5453",
   "metadata": {
    "id": "920c5453",
    "papermill": {
     "duration": 0.014877,
     "end_time": "2023-05-03T17:05:39.116958",
     "exception": false,
     "start_time": "2023-05-03T17:05:39.102081",
     "status": "completed"
    },
    "tags": []
   },
   "source": [
    "### soporte para GPU\n",
    "\n",
    "Utilizar la GPU permite optimizar las operaciones realizando muchas pequeñas opeaciones en paralelo\n"
   ]
  },
  {
   "cell_type": "code",
   "execution_count": 5,
   "id": "8f37df15",
   "metadata": {
    "execution": {
     "iopub.execute_input": "2023-05-03T17:05:39.147644Z",
     "iopub.status.busy": "2023-05-03T17:05:39.147403Z",
     "iopub.status.idle": "2023-05-03T17:05:39.152080Z",
     "shell.execute_reply": "2023-05-03T17:05:39.151196Z"
    },
    "id": "8f37df15",
    "outputId": "571cedac-c5bc-4af8-9e9e-38afc7a3eeb3",
    "papermill": {
     "duration": 0.021888,
     "end_time": "2023-05-03T17:05:39.153574",
     "exception": false,
     "start_time": "2023-05-03T17:05:39.131686",
     "status": "completed"
    },
    "tags": []
   },
   "outputs": [
    {
     "name": "stdout",
     "output_type": "stream",
     "text": [
      "Is the GPU available? False\n"
     ]
    }
   ],
   "source": [
    "gpu_avail = torch.cuda.is_available()\n",
    "print(f\"Is the GPU available? {gpu_avail}\")"
   ]
  },
  {
   "cell_type": "markdown",
   "id": "d73d6e65",
   "metadata": {
    "id": "d73d6e65",
    "papermill": {
     "duration": 0.014818,
     "end_time": "2023-05-03T17:05:39.186141",
     "exception": false,
     "start_time": "2023-05-03T17:05:39.171323",
     "status": "completed"
    },
    "tags": []
   },
   "source": [
    "Si se tiene disponible una GPU se pueden convertir los tensores para ser trabajdos en GPU. De lo contrario de trabajan en CPU. Por defecto se trabajan en CPU, pero se puede especificar de la siguiente forma:"
   ]
  },
  {
   "cell_type": "code",
   "execution_count": 6,
   "id": "5ca81537",
   "metadata": {
    "execution": {
     "iopub.execute_input": "2023-05-03T17:05:39.217428Z",
     "iopub.status.busy": "2023-05-03T17:05:39.217062Z",
     "iopub.status.idle": "2023-05-03T17:05:39.223045Z",
     "shell.execute_reply": "2023-05-03T17:05:39.222058Z"
    },
    "id": "5ca81537",
    "outputId": "1be739e2-314d-4eb3-e706-c31b81b89d31",
    "papermill": {
     "duration": 0.024482,
     "end_time": "2023-05-03T17:05:39.225481",
     "exception": false,
     "start_time": "2023-05-03T17:05:39.200999",
     "status": "completed"
    },
    "tags": []
   },
   "outputs": [
    {
     "name": "stdout",
     "output_type": "stream",
     "text": [
      "Device cpu\n"
     ]
    }
   ],
   "source": [
    "device = torch.device(\"cuda\") if torch.cuda.is_available() else torch.device(\"cpu\")\n",
    "print(\"Device\", device)"
   ]
  },
  {
   "cell_type": "markdown",
   "id": "112a791e",
   "metadata": {
    "id": "112a791e",
    "papermill": {
     "duration": 0.014864,
     "end_time": "2023-05-03T17:05:39.260973",
     "exception": false,
     "start_time": "2023-05-03T17:05:39.246109",
     "status": "completed"
    },
    "tags": []
   },
   "source": [
    "Se crea un Tensor y se asigna el device:"
   ]
  },
  {
   "cell_type": "code",
   "execution_count": 34,
   "id": "49b3275f",
   "metadata": {
    "execution": {
     "iopub.execute_input": "2023-05-03T17:05:39.292071Z",
     "iopub.status.busy": "2023-05-03T17:05:39.291756Z",
     "iopub.status.idle": "2023-05-03T17:05:40.422151Z",
     "shell.execute_reply": "2023-05-03T17:05:40.420894Z"
    },
    "id": "49b3275f",
    "outputId": "2feaa79e-505e-4abd-8571-abca1b1b08fc",
    "papermill": {
     "duration": 1.148884,
     "end_time": "2023-05-03T17:05:40.424769",
     "exception": false,
     "start_time": "2023-05-03T17:05:39.275885",
     "status": "completed"
    },
    "tags": []
   },
   "outputs": [
    {
     "name": "stdout",
     "output_type": "stream",
     "text": [
      "X tensor([[0., 0., 0.],\n",
      "        [0., 0., 0.]])\n"
     ]
    }
   ],
   "source": [
    "x = torch.zeros(2, 3)\n",
    "x = x.to(device)\n",
    "print(\"X\", x)"
   ]
  },
  {
   "cell_type": "markdown",
   "id": "5f00df0b",
   "metadata": {
    "id": "5f00df0b",
    "papermill": {
     "duration": 0.015425,
     "end_time": "2023-05-03T17:05:40.459629",
     "exception": false,
     "start_time": "2023-05-03T17:05:40.444204",
     "status": "completed"
    },
    "tags": []
   },
   "source": [
    "En caso de tener disponible GPU, se verá el atributo `device='cuda:0'` impreso al final del tensor.\n",
    "\n",
    "El siguiente ejemplo compara el tiempo de procesamiento entre CPU y GPU, pero no tenego disponible una GPU"
   ]
  },
  {
   "cell_type": "code",
   "execution_count": 35,
   "id": "858b43fc",
   "metadata": {
    "execution": {
     "iopub.execute_input": "2023-05-03T17:05:40.492999Z",
     "iopub.status.busy": "2023-05-03T17:05:40.492523Z",
     "iopub.status.idle": "2023-05-03T17:05:42.249581Z",
     "shell.execute_reply": "2023-05-03T17:05:42.248252Z"
    },
    "id": "858b43fc",
    "outputId": "b7bafe95-e837-4289-d3d9-2cd4f1745241",
    "papermill": {
     "duration": 1.777167,
     "end_time": "2023-05-03T17:05:42.252196",
     "exception": false,
     "start_time": "2023-05-03T17:05:40.475029",
     "status": "completed"
    },
    "tags": []
   },
   "outputs": [
    {
     "name": "stdout",
     "output_type": "stream",
     "text": [
      "CPU time: 127.21043s\n"
     ]
    }
   ],
   "source": [
    "x = torch.randn(5000, 5000)\n",
    "\n",
    "# CPU version\n",
    "start_time = time.time()\n",
    "_ = torch.matmul(x, x)\n",
    "end_time = time.time()\n",
    "print(f\"CPU time: {(end_time - start_time):6.5f}s\")\n",
    "\n",
    "# GPU version\n",
    "if torch.cuda.is_available():\n",
    "    x = x.to(device)\n",
    "    # CUDA is asynchronous, so we need to use different timing functions\n",
    "    start = torch.cuda.Event(enable_timing=True)\n",
    "    end = torch.cuda.Event(enable_timing=True)\n",
    "    start.record()\n",
    "    _ = torch.matmul(x, x)\n",
    "    end.record()\n",
    "    torch.cuda.synchronize()  # Waits for everything to finish running on the GPU\n",
    "    print(f\"GPU time: {0.001 * start.elapsed_time(end):6.5f}s\")  # Milliseconds to seconds"
   ]
  },
  {
   "cell_type": "code",
   "execution_count": 36,
   "id": "c917d79b",
   "metadata": {
    "execution": {
     "iopub.execute_input": "2023-05-03T17:05:42.319889Z",
     "iopub.status.busy": "2023-05-03T17:05:42.319471Z",
     "iopub.status.idle": "2023-05-03T17:05:42.327421Z",
     "shell.execute_reply": "2023-05-03T17:05:42.326220Z"
    },
    "id": "c917d79b",
    "papermill": {
     "duration": 0.026338,
     "end_time": "2023-05-03T17:05:42.329097",
     "exception": false,
     "start_time": "2023-05-03T17:05:42.302759",
     "status": "completed"
    },
    "tags": []
   },
   "outputs": [],
   "source": [
    "# GPU operations have a separate seed we also want to set\n",
    "if torch.cuda.is_available():\n",
    "    torch.cuda.manual_seed(42)\n",
    "    torch.cuda.manual_seed_all(42)\n",
    "\n",
    "# Additionally, some operations on a GPU are implemented stochastic for efficiency\n",
    "# We want to ensure that all operations are deterministic on GPU (if used) for reproducibility\n",
    "torch.backends.cudnn.deterministic = True\n",
    "torch.backends.cudnn.benchmark = False"
   ]
  },
  {
   "cell_type": "markdown",
   "id": "a0b6aec3",
   "metadata": {
    "id": "a0b6aec3",
    "papermill": {
     "duration": 0.015215,
     "end_time": "2023-05-03T17:05:42.363973",
     "exception": false,
     "start_time": "2023-05-03T17:05:42.348758",
     "status": "completed"
    },
    "tags": []
   },
   "source": [
    "## Learning by example: Continuous XOR\n",
    "<div class=\"center-wrapper\"><div class=\"video-wrapper\"><iframe src=\"https://www.youtube.com/embed/schbjeU5X2g\" title=\"YouTube video player\" frameborder=\"0\" allow=\"accelerometer; autoplay; clipboard-write; encrypted-media; gyroscope; picture-in-picture\" allowfullscreen></iframe></div></div>\n",
    "\n",
    "Si queremos construir una red neuronal en PyTorch, podemos especificar todos nuestros parámetros (matrices de peso, vectores de sesgo) usando tensores (con require_grad=True), pedirle a PyTorch que calcule los gradientes y luego ajuste los parámetros. Pero las cosas pueden volverse engorrosas rápidamente si tenemos muchos parámetros. En PyTorch, hay un paquete llamado torch.nn que hace que la construcción de redes neuronales sea más conveniente. Presentaremos las bibliotecas y todas las partes adicionales que pueda necesitar para entrenar una red neuronal en PyTorch, usando un clasificador de ejemplo simple en un ejemplo simple pero bien conocido: XOR. Dadas dos entradas binarias 𝑥1 y 𝑥2 , la etiqueta para predecir es 1 si 𝑥1 o 𝑥2 es 1 mientras que el otro es 0 , o la etiqueta es 0 en todos los demás casos. El ejemplo se hizo famoso por el hecho de que una sola neurona, es decir, un clasificador lineal, no puede aprender esta función simple. Por lo tanto, aprenderemos cómo construir una pequeña red neuronal que pueda aprender esta función. Para hacerlo un poco más interesante, movemos el XOR al espacio continuo e introducimos algo de ruido gaussiano en las entradas binarias. Nuestra separación deseada de un conjunto de datos XOR podría verse de la siguiente manera\n",
    "\n",
    "\n",
    "<center style=\"width: 100%\"><img src=\"https://github.com/Lightning-AI/lightning-tutorials/raw/main/course_UvA-DL/01-introduction-to-pytorch/continuous_xor.svg\" width=\"350px\"></center>"
   ]
  },
  {
   "cell_type": "markdown",
   "id": "67d91fd6",
   "metadata": {
    "id": "67d91fd6",
    "papermill": {
     "duration": 0.015158,
     "end_time": "2023-05-03T17:05:42.394360",
     "exception": false,
     "start_time": "2023-05-03T17:05:42.379202",
     "status": "completed"
    },
    "tags": []
   },
   "source": [
    "### El modelo\n",
    "\n",
    "El paquete `torch.nn` define una serie de clases muy útiles como capas de redes lineales, funciones de activación, funciones de pérdida, etc."
   ]
  },
  {
   "cell_type": "code",
   "execution_count": 7,
   "id": "be32d383",
   "metadata": {
    "id": "be32d383",
    "lines_to_next_cell": 0,
    "papermill": {
     "duration": 0.015171,
     "end_time": "2023-05-03T17:05:42.424948",
     "exception": false,
     "start_time": "2023-05-03T17:05:42.409777",
     "status": "completed"
    },
    "tags": []
   },
   "outputs": [],
   "source": [
    "import torch.nn as nn"
   ]
  },
  {
   "cell_type": "code",
   "execution_count": null,
   "id": "7a501c41",
   "metadata": {
    "id": "7a501c41",
    "papermill": {
     "duration": 0.015295,
     "end_time": "2023-05-03T17:05:42.455699",
     "exception": false,
     "start_time": "2023-05-03T17:05:42.440404",
     "status": "completed"
    },
    "tags": []
   },
   "outputs": [],
   "source": []
  },
  {
   "cell_type": "markdown",
   "id": "f4a71b40",
   "metadata": {
    "id": "f4a71b40",
    "lines_to_next_cell": 2,
    "papermill": {
     "duration": 0.015247,
     "end_time": "2023-05-03T17:05:42.516778",
     "exception": false,
     "start_time": "2023-05-03T17:05:42.501531",
     "status": "completed"
    },
    "tags": []
   },
   "source": [
    "#### nn.Module\n",
    "\n",
    "Este modulo incluye otros módulos.\n",
    "La siguiente, es la plantilla básica de un módulo:"
   ]
  },
  {
   "cell_type": "code",
   "execution_count": 8,
   "id": "3c06d0e7",
   "metadata": {
    "execution": {
     "iopub.execute_input": "2023-05-03T17:05:42.549086Z",
     "iopub.status.busy": "2023-05-03T17:05:42.548711Z",
     "iopub.status.idle": "2023-05-03T17:05:42.555207Z",
     "shell.execute_reply": "2023-05-03T17:05:42.554027Z"
    },
    "id": "3c06d0e7",
    "lines_to_next_cell": 2,
    "papermill": {
     "duration": 0.0255,
     "end_time": "2023-05-03T17:05:42.557678",
     "exception": false,
     "start_time": "2023-05-03T17:05:42.532178",
     "status": "completed"
    },
    "tags": []
   },
   "outputs": [],
   "source": [
    "class MyModule(nn.Module):\n",
    "    def __init__(self):\n",
    "        super().__init__()\n",
    "        # Some init for my module\n",
    "\n",
    "    def forward(self, x):\n",
    "        # Function for performing the calculation of the module.\n",
    "        pass"
   ]
  },
  {
   "cell_type": "markdown",
   "id": "21447f82",
   "metadata": {
    "id": "21447f82",
    "lines_to_next_cell": 2,
    "papermill": {
     "duration": 0.015278,
     "end_time": "2023-05-03T17:05:42.591961",
     "exception": false,
     "start_time": "2023-05-03T17:05:42.576683",
     "status": "completed"
    },
    "tags": []
   },
   "source": [
    "\n",
    "#### Clasificador simple\n",
    "\n",
    "Ahora podemos hacer uso de los módulos predefinidos en el paquete `torch.nn` y definir nuestra propia red neuronal pequeña. Usaremos una red mínima con una capa de entrada, una capa oculta con tanh como función de activación y una capa de salida. En otras palabras, nuestras redes deberían verse así:\n",
    "\n",
    "<center width=\"100%\"><img src=\"https://github.com/Lightning-AI/lightning-tutorials/raw/main/course_UvA-DL/01-introduction-to-pytorch/small_neural_network.svg\" width=\"300px\"></center>\n",
    "\n",
    "Las neuronas de entrada se muestran en azul y representan las coordenadas $x_1$ y $x_2$ de un punto de datos.\n",
    "Las neuronas ocultas que incluyen una activación de tanh se muestran en blanco y la neurona de salida en rojo.\n",
    "En PyTorch, podemos definir esto de la siguiente manera:"
   ]
  },
  {
   "cell_type": "code",
   "execution_count": 9,
   "id": "0736be46",
   "metadata": {
    "execution": {
     "iopub.execute_input": "2023-05-03T17:05:42.624513Z",
     "iopub.status.busy": "2023-05-03T17:05:42.623789Z",
     "iopub.status.idle": "2023-05-03T17:05:42.631984Z",
     "shell.execute_reply": "2023-05-03T17:05:42.630802Z"
    },
    "id": "0736be46",
    "papermill": {
     "duration": 0.026246,
     "end_time": "2023-05-03T17:05:42.633499",
     "exception": false,
     "start_time": "2023-05-03T17:05:42.607253",
     "status": "completed"
    },
    "tags": []
   },
   "outputs": [],
   "source": [
    "class SimpleClassifier(nn.Module):\n",
    "    def __init__(self, num_inputs, num_hidden, num_outputs):\n",
    "        super().__init__()\n",
    "        # Initialize the modules we need to build the network\n",
    "        self.linear1 = nn.Linear(num_inputs, num_hidden)\n",
    "        self.act_fn = nn.Tanh()\n",
    "        self.linear2 = nn.Linear(num_hidden, num_outputs)\n",
    "\n",
    "    def forward(self, x):\n",
    "        # Perform the calculation of the model to determine the prediction\n",
    "        x = self.linear1(x)\n",
    "        x = self.act_fn(x)\n",
    "        x = self.linear2(x)\n",
    "        return x"
   ]
  },
  {
   "cell_type": "markdown",
   "id": "5c3faae3",
   "metadata": {
    "id": "5c3faae3",
    "papermill": {
     "duration": 0.015298,
     "end_time": "2023-05-03T17:05:42.669699",
     "exception": false,
     "start_time": "2023-05-03T17:05:42.654401",
     "status": "completed"
    },
    "tags": []
   },
   "source": [
    "Para los ejemplos de este cuaderno, usaremos una pequeña red neuronal con dos neuronas de entrada y cuatro neuronas ocultas.\n",
    "A medida que realizamos la clasificación binaria, utilizaremos una sola neurona de salida.\n",
    "Tenga en cuenta que todavía no aplicamos un sigmoide en la salida.\n",
    "Esto se debe a que otras funciones, especialmente la pérdida, son más eficientes y precisas para calcular las salidas originales en lugar de la salida sigmoidea.\n",
    "Discutiremos la razón detallada más adelante."
   ]
  },
  {
   "cell_type": "code",
   "execution_count": 10,
   "id": "d6bb65d4",
   "metadata": {
    "execution": {
     "iopub.execute_input": "2023-05-03T17:05:42.701667Z",
     "iopub.status.busy": "2023-05-03T17:05:42.701296Z",
     "iopub.status.idle": "2023-05-03T17:05:42.709285Z",
     "shell.execute_reply": "2023-05-03T17:05:42.708081Z"
    },
    "id": "d6bb65d4",
    "outputId": "ed1d5d0d-c466-4f75-f174-039922e969a2",
    "papermill": {
     "duration": 0.025964,
     "end_time": "2023-05-03T17:05:42.710947",
     "exception": false,
     "start_time": "2023-05-03T17:05:42.684983",
     "status": "completed"
    },
    "tags": []
   },
   "outputs": [
    {
     "name": "stdout",
     "output_type": "stream",
     "text": [
      "SimpleClassifier(\n",
      "  (linear1): Linear(in_features=2, out_features=4, bias=True)\n",
      "  (act_fn): Tanh()\n",
      "  (linear2): Linear(in_features=4, out_features=1, bias=True)\n",
      ")\n"
     ]
    }
   ],
   "source": [
    "model = SimpleClassifier(num_inputs=2, num_hidden=4, num_outputs=1)\n",
    "# Printing a module shows all its submodules\n",
    "print(model)"
   ]
  },
  {
   "cell_type": "markdown",
   "id": "75860e15",
   "metadata": {
    "id": "75860e15",
    "papermill": {
     "duration": 0.015316,
     "end_time": "2023-05-03T17:05:42.744112",
     "exception": false,
     "start_time": "2023-05-03T17:05:42.728796",
     "status": "completed"
    },
    "tags": []
   },
   "source": [
    "Imprimir el modelo enumera todos los submódulos que contiene.\n",
    "Los parámetros de un módulo se pueden obtener usando sus funciones `parameters()`, o `named_parameters()` para obtener un nombre para cada objeto de parámetro.\n",
    "Para nuestra pequeña red neuronal, tenemos los siguientes parámetros:"
   ]
  },
  {
   "cell_type": "code",
   "execution_count": 11,
   "id": "713179ea",
   "metadata": {
    "execution": {
     "iopub.execute_input": "2023-05-03T17:05:42.776720Z",
     "iopub.status.busy": "2023-05-03T17:05:42.776352Z",
     "iopub.status.idle": "2023-05-03T17:05:42.781928Z",
     "shell.execute_reply": "2023-05-03T17:05:42.780975Z"
    },
    "id": "713179ea",
    "outputId": "3d72ddb7-251d-409c-b5f7-6ef39a0113a4",
    "papermill": {
     "duration": 0.023549,
     "end_time": "2023-05-03T17:05:42.783231",
     "exception": false,
     "start_time": "2023-05-03T17:05:42.759682",
     "status": "completed"
    },
    "tags": []
   },
   "outputs": [
    {
     "name": "stdout",
     "output_type": "stream",
     "text": [
      "Parameter linear1.weight, shape torch.Size([4, 2])\n",
      "Parameter linear1.bias, shape torch.Size([4])\n",
      "Parameter linear2.weight, shape torch.Size([1, 4])\n",
      "Parameter linear2.bias, shape torch.Size([1])\n"
     ]
    }
   ],
   "source": [
    "for name, param in model.named_parameters():\n",
    "    print(f\"Parameter {name}, shape {param.shape}\")"
   ]
  },
  {
   "cell_type": "markdown",
   "id": "0b4acf19",
   "metadata": {
    "id": "0b4acf19",
    "papermill": {
     "duration": 0.01539,
     "end_time": "2023-05-03T17:05:42.816359",
     "exception": false,
     "start_time": "2023-05-03T17:05:42.800969",
     "status": "completed"
    },
    "tags": []
   },
   "source": [
    "Each linear layer has a weight matrix of the shape `[output, input]`, and a bias of the shape `[output]`.\n",
    "The tanh activation function does not have any parameters.\n",
    "Note that parameters are only registered for `nn.Module` objects that are direct object attributes, i.e. `self.a = ...`.\n",
    "If you define a list of modules, the parameters of those are not registered for the outer module and can cause some issues when you try to optimize your module.\n",
    "There are alternatives, like `nn.ModuleList`, `nn.ModuleDict` and `nn.Sequential`, that allow you to have different data structures of modules.\n",
    "We will use them in a few later tutorials and explain them there."
   ]
  },
  {
   "cell_type": "markdown",
   "id": "41761733",
   "metadata": {
    "id": "41761733",
    "papermill": {
     "duration": 0.015409,
     "end_time": "2023-05-03T17:05:42.847202",
     "exception": false,
     "start_time": "2023-05-03T17:05:42.831793",
     "status": "completed"
    },
    "tags": []
   },
   "source": [
    "### La data\n",
    "\n",
    "PyTorch también provee funcionalidades para cargar data de entrenamiento y test de forma eficiente.`torch.utils.data`."
   ]
  },
  {
   "cell_type": "code",
   "execution_count": 12,
   "id": "471998e3",
   "metadata": {
    "id": "471998e3",
    "papermill": {
     "duration": 0.015513,
     "end_time": "2023-05-03T17:05:42.878383",
     "exception": false,
     "start_time": "2023-05-03T17:05:42.862870",
     "status": "completed"
    },
    "tags": []
   },
   "outputs": [],
   "source": [
    "import torch.utils.data as data"
   ]
  },
  {
   "cell_type": "markdown",
   "id": "6276139e",
   "metadata": {
    "id": "6276139e",
    "papermill": {
     "duration": 0.01547,
     "end_time": "2023-05-03T17:05:42.909310",
     "exception": false,
     "start_time": "2023-05-03T17:05:42.893840",
     "status": "completed"
    },
    "tags": []
   },
   "source": [
    "Este paquete define 2 clases: `data.Dataset` y `data.DataLoader`.\n",
    "El dataset proveee una interfaz para acceder a la data de training/test, el data loader prepara la data en batches para ser manejados durante el entrenamiento"
   ]
  },
  {
   "cell_type": "code",
   "execution_count": 13,
   "id": "a18b8e0d",
   "metadata": {
    "execution": {
     "iopub.execute_input": "2023-05-03T17:05:42.972978Z",
     "iopub.status.busy": "2023-05-03T17:05:42.972459Z",
     "iopub.status.idle": "2023-05-03T17:05:42.984691Z",
     "shell.execute_reply": "2023-05-03T17:05:42.983856Z"
    },
    "id": "a18b8e0d",
    "papermill": {
     "duration": 0.031212,
     "end_time": "2023-05-03T17:05:42.986975",
     "exception": false,
     "start_time": "2023-05-03T17:05:42.955763",
     "status": "completed"
    },
    "tags": []
   },
   "outputs": [],
   "source": [
    "\n",
    "\n",
    "class XORDataset(data.Dataset):\n",
    "    def __init__(self, size, std=0.1):\n",
    "        \"\"\"XORDataset.\n",
    "\n",
    "        Args:\n",
    "            size: Number of data points we want to generate\n",
    "            std: Standard deviation of the noise (see generate_continuous_xor function)\n",
    "        \"\"\"\n",
    "        super().__init__()\n",
    "        self.size = size\n",
    "        self.std = std\n",
    "        self.generate_continuous_xor()\n",
    "\n",
    "    def generate_continuous_xor(self):\n",
    "        # Each data point in the XOR dataset has two variables, x and y, that can be either 0 or 1\n",
    "        # The label is their XOR combination, i.e. 1 if only x or only y is 1 while the other is 0.\n",
    "        # If x=y, the label is 0.\n",
    "        data = torch.randint(low=0, high=2, size=(self.size, 2), dtype=torch.float32)\n",
    "        label = (data.sum(dim=1) == 1).to(torch.long)\n",
    "        # To make it slightly more challenging, we add a bit of gaussian noise to the data points.\n",
    "        data += self.std * torch.randn(data.shape)\n",
    "\n",
    "        self.data = data\n",
    "        self.label = label\n",
    "\n",
    "    def __len__(self):\n",
    "        # Number of data point we have. Alternatively self.data.shape[0], or self.label.shape[0]\n",
    "        return self.size\n",
    "\n",
    "    def __getitem__(self, idx):\n",
    "        # Return the idx-th data point of the dataset\n",
    "        # If we have multiple things to return (data point and label), we can return them as tuple\n",
    "        data_point = self.data[idx]\n",
    "        data_label = self.label[idx]\n",
    "        return data_point, data_label"
   ]
  },
  {
   "cell_type": "markdown",
   "id": "8cbacf16",
   "metadata": {
    "id": "8cbacf16",
    "papermill": {
     "duration": 0.015489,
     "end_time": "2023-05-03T17:05:43.023918",
     "exception": false,
     "start_time": "2023-05-03T17:05:43.008429",
     "status": "completed"
    },
    "tags": []
   },
   "source": [
    "Se crea el dataset para inspeccionarlo:"
   ]
  },
  {
   "cell_type": "code",
   "execution_count": 14,
   "id": "8072c5e5",
   "metadata": {
    "execution": {
     "iopub.execute_input": "2023-05-03T17:05:43.056508Z",
     "iopub.status.busy": "2023-05-03T17:05:43.056134Z",
     "iopub.status.idle": "2023-05-03T17:05:43.064499Z",
     "shell.execute_reply": "2023-05-03T17:05:43.063382Z"
    },
    "id": "8072c5e5",
    "outputId": "ab762216-dd36-4d94-e16b-9e07accd957b",
    "papermill": {
     "duration": 0.027441,
     "end_time": "2023-05-03T17:05:43.066872",
     "exception": false,
     "start_time": "2023-05-03T17:05:43.039431",
     "status": "completed"
    },
    "tags": []
   },
   "outputs": [
    {
     "name": "stdout",
     "output_type": "stream",
     "text": [
      "Size of dataset: 200\n",
      "Data point 0: (tensor([-0.1534,  0.0049]), tensor(0))\n"
     ]
    }
   ],
   "source": [
    "dataset = XORDataset(size=200)\n",
    "print(\"Size of dataset:\", len(dataset))\n",
    "print(\"Data point 0:\", dataset[0])"
   ]
  },
  {
   "cell_type": "code",
   "execution_count": 15,
   "id": "7e0b0ac4",
   "metadata": {
    "execution": {
     "iopub.execute_input": "2023-05-03T17:05:43.135535Z",
     "iopub.status.busy": "2023-05-03T17:05:43.135282Z",
     "iopub.status.idle": "2023-05-03T17:05:43.142344Z",
     "shell.execute_reply": "2023-05-03T17:05:43.141435Z"
    },
    "id": "7e0b0ac4",
    "papermill": {
     "duration": 0.025336,
     "end_time": "2023-05-03T17:05:43.143997",
     "exception": false,
     "start_time": "2023-05-03T17:05:43.118661",
     "status": "completed"
    },
    "tags": []
   },
   "outputs": [],
   "source": [
    "def visualize_samples(data, label):\n",
    "    if isinstance(data, Tensor):\n",
    "        data = data.cpu().numpy()\n",
    "    if isinstance(label, Tensor):\n",
    "        label = label.cpu().numpy()\n",
    "    data_0 = data[label == 0]\n",
    "    data_1 = data[label == 1]\n",
    "\n",
    "    plt.figure(figsize=(4, 4))\n",
    "    plt.scatter(data_0[:, 0], data_0[:, 1], edgecolor=\"#333\", label=\"Class 0\")\n",
    "    plt.scatter(data_1[:, 0], data_1[:, 1], edgecolor=\"#333\", label=\"Class 1\")\n",
    "    plt.title(\"Dataset samples\")\n",
    "    plt.ylabel(r\"$x_2$\")\n",
    "    plt.xlabel(r\"$x_1$\")\n",
    "    plt.legend()"
   ]
  },
  {
   "cell_type": "code",
   "execution_count": 47,
   "id": "0301bc26",
   "metadata": {
    "execution": {
     "iopub.execute_input": "2023-05-03T17:05:43.180534Z",
     "iopub.status.busy": "2023-05-03T17:05:43.180268Z",
     "iopub.status.idle": "2023-05-03T17:05:43.673179Z",
     "shell.execute_reply": "2023-05-03T17:05:43.672180Z"
    },
    "id": "0301bc26",
    "outputId": "e60d5945-4a14-486f-fceb-dcd9bd1f3665",
    "papermill": {
     "duration": 0.510752,
     "end_time": "2023-05-03T17:05:43.674611",
     "exception": false,
     "start_time": "2023-05-03T17:05:43.163859",
     "status": "completed"
    },
    "tags": []
   },
   "outputs": [
    {
     "data": {
      "application/pdf": "[encoded data removed]",
      "image/svg+xml": [
       "<?xml version=\"1.0\" encoding=\"utf-8\" standalone=\"no\"?>\n",
       "<!DOCTYPE svg PUBLIC \"-//W3C//DTD SVG 1.1//EN\"\n",
       "  \"http://www.w3.org/Graphics/SVG/1.1/DTD/svg11.dtd\">\n",
       "<svg xmlns:xlink=\"http://www.w3.org/1999/xlink\" width=\"288.985258pt\" height=\"281.634375pt\" viewBox=\"0 0 288.985258 281.634375\" xmlns=\"http://www.w3.org/2000/svg\" version=\"1.1\">\n",
       " <metadata>\n",
       "  <rdf:RDF xmlns:dc=\"http://purl.org/dc/elements/1.1/\" xmlns:cc=\"http://creativecommons.org/ns#\" xmlns:rdf=\"http://www.w3.org/1999/02/22-rdf-syntax-ns#\">\n",
       "   <cc:Work>\n",
       "    <dc:type rdf:resource=\"http://purl.org/dc/dcmitype/StillImage\"/>\n",
       "    <dc:date>2023-06-14T19:26:31.392081</dc:date>\n",
       "    <dc:format>image/svg+xml</dc:format>\n",
       "    <dc:creator>\n",
       "     <cc:Agent>\n",
       "      <dc:title>Matplotlib v3.7.1, https://matplotlib.org/</dc:title>\n",
       "     </cc:Agent>\n",
       "    </dc:creator>\n",
       "   </cc:Work>\n",
       "  </rdf:RDF>\n",
       " </metadata>\n",
       " <defs>\n",
       "  <style type=\"text/css\">*{stroke-linejoin: round; stroke-linecap: butt}</style>\n",
       " </defs>\n",
       " <g id=\"figure_1\">\n",
       "  <g id=\"patch_1\">\n",
       "   <path d=\"M 0 281.634375 \n",
       "L 288.985258 281.634375 \n",
       "L 288.985258 0 \n",
       "L 0 0 \n",
       "z\n",
       "\" style=\"fill: #ffffff\"/>\n",
       "  </g>\n",
       "  <g id=\"axes_1\">\n",
       "   <g id=\"patch_2\">\n",
       "    <path d=\"M 52.160938 244.078125 \n",
       "L 275.360937 244.078125 \n",
       "L 275.360937 22.318125 \n",
       "L 52.160938 22.318125 \n",
       "z\n",
       "\" style=\"fill: #ffffff\"/>\n",
       "   </g>\n",
       "   <g id=\"PathCollection_1\">\n",
       "    <defs>\n",
       "     <path id=\"m926e7f5ff2\" d=\"M 0 3 \n",
       "C 0.795609 3 1.55874 2.683901 2.12132 2.12132 \n",
       "C 2.683901 1.55874 3 0.795609 3 0 \n",
       "C 3 -0.795609 2.683901 -1.55874 2.12132 -2.12132 \n",
       "C 1.55874 -2.683901 0.795609 -3 0 -3 \n",
       "C -0.795609 -3 -1.55874 -2.683901 -2.12132 -2.12132 \n",
       "C -2.683901 -1.55874 -3 -0.795609 -3 0 \n",
       "C -3 0.795609 -2.683901 1.55874 -2.12132 2.12132 \n",
       "C -1.55874 2.683901 -0.795609 3 0 3 \n",
       "z\n",
       "\" style=\"stroke: #333333\"/>\n",
       "    </defs>\n",
       "    <g clip-path=\"url(#pf59590e772)\">\n",
       "     <use xlink:href=\"#m926e7f5ff2\" x=\"96.31168\" y=\"196.722839\" style=\"fill: #1f77b4; stroke: #333333\"/>\n",
       "     <use xlink:href=\"#m926e7f5ff2\" x=\"232.057657\" y=\"62.936312\" style=\"fill: #1f77b4; stroke: #333333\"/>\n",
       "     <use xlink:href=\"#m926e7f5ff2\" x=\"258.979442\" y=\"64.604217\" style=\"fill: #1f77b4; stroke: #333333\"/>\n",
       "     <use xlink:href=\"#m926e7f5ff2\" x=\"108.913369\" y=\"208.027289\" style=\"fill: #1f77b4; stroke: #333333\"/>\n",
       "     <use xlink:href=\"#m926e7f5ff2\" x=\"101.325808\" y=\"208.673311\" style=\"fill: #1f77b4; stroke: #333333\"/>\n",
       "     <use xlink:href=\"#m926e7f5ff2\" x=\"70.983454\" y=\"192.883124\" style=\"fill: #1f77b4; stroke: #333333\"/>\n",
       "     <use xlink:href=\"#m926e7f5ff2\" x=\"242.885541\" y=\"59.286292\" style=\"fill: #1f77b4; stroke: #333333\"/>\n",
       "     <use xlink:href=\"#m926e7f5ff2\" x=\"232.016709\" y=\"52.019112\" style=\"fill: #1f77b4; stroke: #333333\"/>\n",
       "     <use xlink:href=\"#m926e7f5ff2\" x=\"93.978943\" y=\"208.171202\" style=\"fill: #1f77b4; stroke: #333333\"/>\n",
       "     <use xlink:href=\"#m926e7f5ff2\" x=\"237.538974\" y=\"54.192986\" style=\"fill: #1f77b4; stroke: #333333\"/>\n",
       "     <use xlink:href=\"#m926e7f5ff2\" x=\"103.543109\" y=\"203.846094\" style=\"fill: #1f77b4; stroke: #333333\"/>\n",
       "     <use xlink:href=\"#m926e7f5ff2\" x=\"255.555098\" y=\"32.398125\" style=\"fill: #1f77b4; stroke: #333333\"/>\n",
       "     <use xlink:href=\"#m926e7f5ff2\" x=\"238.058002\" y=\"63.389821\" style=\"fill: #1f77b4; stroke: #333333\"/>\n",
       "     <use xlink:href=\"#m926e7f5ff2\" x=\"232.170061\" y=\"58.458486\" style=\"fill: #1f77b4; stroke: #333333\"/>\n",
       "     <use xlink:href=\"#m926e7f5ff2\" x=\"94.264177\" y=\"216.407122\" style=\"fill: #1f77b4; stroke: #333333\"/>\n",
       "     <use xlink:href=\"#m926e7f5ff2\" x=\"89.231835\" y=\"188.27051\" style=\"fill: #1f77b4; stroke: #333333\"/>\n",
       "     <use xlink:href=\"#m926e7f5ff2\" x=\"251.267421\" y=\"92.174531\" style=\"fill: #1f77b4; stroke: #333333\"/>\n",
       "     <use xlink:href=\"#m926e7f5ff2\" x=\"254.815479\" y=\"84.973665\" style=\"fill: #1f77b4; stroke: #333333\"/>\n",
       "     <use xlink:href=\"#m926e7f5ff2\" x=\"226.105337\" y=\"59.869761\" style=\"fill: #1f77b4; stroke: #333333\"/>\n",
       "     <use xlink:href=\"#m926e7f5ff2\" x=\"82.022892\" y=\"212.915172\" style=\"fill: #1f77b4; stroke: #333333\"/>\n",
       "     <use xlink:href=\"#m926e7f5ff2\" x=\"253.973129\" y=\"32.829691\" style=\"fill: #1f77b4; stroke: #333333\"/>\n",
       "     <use xlink:href=\"#m926e7f5ff2\" x=\"245.15091\" y=\"60.703566\" style=\"fill: #1f77b4; stroke: #333333\"/>\n",
       "     <use xlink:href=\"#m926e7f5ff2\" x=\"114.421987\" y=\"178.887482\" style=\"fill: #1f77b4; stroke: #333333\"/>\n",
       "     <use xlink:href=\"#m926e7f5ff2\" x=\"228.657784\" y=\"32.535284\" style=\"fill: #1f77b4; stroke: #333333\"/>\n",
       "     <use xlink:href=\"#m926e7f5ff2\" x=\"99.781014\" y=\"198.203555\" style=\"fill: #1f77b4; stroke: #333333\"/>\n",
       "     <use xlink:href=\"#m926e7f5ff2\" x=\"227.807175\" y=\"52.08478\" style=\"fill: #1f77b4; stroke: #333333\"/>\n",
       "     <use xlink:href=\"#m926e7f5ff2\" x=\"86.881354\" y=\"182.615422\" style=\"fill: #1f77b4; stroke: #333333\"/>\n",
       "     <use xlink:href=\"#m926e7f5ff2\" x=\"250.727063\" y=\"49.299705\" style=\"fill: #1f77b4; stroke: #333333\"/>\n",
       "     <use xlink:href=\"#m926e7f5ff2\" x=\"246.39628\" y=\"62.291446\" style=\"fill: #1f77b4; stroke: #333333\"/>\n",
       "     <use xlink:href=\"#m926e7f5ff2\" x=\"240.179519\" y=\"44.118696\" style=\"fill: #1f77b4; stroke: #333333\"/>\n",
       "     <use xlink:href=\"#m926e7f5ff2\" x=\"92.34098\" y=\"187.59289\" style=\"fill: #1f77b4; stroke: #333333\"/>\n",
       "     <use xlink:href=\"#m926e7f5ff2\" x=\"104.506115\" y=\"213.43273\" style=\"fill: #1f77b4; stroke: #333333\"/>\n",
       "     <use xlink:href=\"#m926e7f5ff2\" x=\"87.360439\" y=\"172.552241\" style=\"fill: #1f77b4; stroke: #333333\"/>\n",
       "     <use xlink:href=\"#m926e7f5ff2\" x=\"97.745486\" y=\"204.875134\" style=\"fill: #1f77b4; stroke: #333333\"/>\n",
       "     <use xlink:href=\"#m926e7f5ff2\" x=\"112.202457\" y=\"204.414963\" style=\"fill: #1f77b4; stroke: #333333\"/>\n",
       "     <use xlink:href=\"#m926e7f5ff2\" x=\"93.386735\" y=\"199.146562\" style=\"fill: #1f77b4; stroke: #333333\"/>\n",
       "     <use xlink:href=\"#m926e7f5ff2\" x=\"112.962408\" y=\"215.984474\" style=\"fill: #1f77b4; stroke: #333333\"/>\n",
       "     <use xlink:href=\"#m926e7f5ff2\" x=\"213.923524\" y=\"39.964075\" style=\"fill: #1f77b4; stroke: #333333\"/>\n",
       "     <use xlink:href=\"#m926e7f5ff2\" x=\"253.408944\" y=\"65.444962\" style=\"fill: #1f77b4; stroke: #333333\"/>\n",
       "     <use xlink:href=\"#m926e7f5ff2\" x=\"238.202599\" y=\"64.58313\" style=\"fill: #1f77b4; stroke: #333333\"/>\n",
       "     <use xlink:href=\"#m926e7f5ff2\" x=\"93.334759\" y=\"209.048204\" style=\"fill: #1f77b4; stroke: #333333\"/>\n",
       "     <use xlink:href=\"#m926e7f5ff2\" x=\"222.697015\" y=\"90.419292\" style=\"fill: #1f77b4; stroke: #333333\"/>\n",
       "     <use xlink:href=\"#m926e7f5ff2\" x=\"246.067518\" y=\"57.466065\" style=\"fill: #1f77b4; stroke: #333333\"/>\n",
       "     <use xlink:href=\"#m926e7f5ff2\" x=\"97.908356\" y=\"215.89812\" style=\"fill: #1f77b4; stroke: #333333\"/>\n",
       "     <use xlink:href=\"#m926e7f5ff2\" x=\"110.608914\" y=\"221.55911\" style=\"fill: #1f77b4; stroke: #333333\"/>\n",
       "     <use xlink:href=\"#m926e7f5ff2\" x=\"119.278606\" y=\"180.101675\" style=\"fill: #1f77b4; stroke: #333333\"/>\n",
       "     <use xlink:href=\"#m926e7f5ff2\" x=\"229.431275\" y=\"72.852515\" style=\"fill: #1f77b4; stroke: #333333\"/>\n",
       "     <use xlink:href=\"#m926e7f5ff2\" x=\"217.108023\" y=\"44.796606\" style=\"fill: #1f77b4; stroke: #333333\"/>\n",
       "     <use xlink:href=\"#m926e7f5ff2\" x=\"90.421001\" y=\"209.459161\" style=\"fill: #1f77b4; stroke: #333333\"/>\n",
       "     <use xlink:href=\"#m926e7f5ff2\" x=\"230.637614\" y=\"69.402923\" style=\"fill: #1f77b4; stroke: #333333\"/>\n",
       "     <use xlink:href=\"#m926e7f5ff2\" x=\"98.642521\" y=\"204.583978\" style=\"fill: #1f77b4; stroke: #333333\"/>\n",
       "     <use xlink:href=\"#m926e7f5ff2\" x=\"242.296554\" y=\"33.833591\" style=\"fill: #1f77b4; stroke: #333333\"/>\n",
       "     <use xlink:href=\"#m926e7f5ff2\" x=\"95.167044\" y=\"192.066827\" style=\"fill: #1f77b4; stroke: #333333\"/>\n",
       "     <use xlink:href=\"#m926e7f5ff2\" x=\"227.659933\" y=\"77.653923\" style=\"fill: #1f77b4; stroke: #333333\"/>\n",
       "     <use xlink:href=\"#m926e7f5ff2\" x=\"239.162594\" y=\"47.935546\" style=\"fill: #1f77b4; stroke: #333333\"/>\n",
       "     <use xlink:href=\"#m926e7f5ff2\" x=\"70.985535\" y=\"193.95253\" style=\"fill: #1f77b4; stroke: #333333\"/>\n",
       "     <use xlink:href=\"#m926e7f5ff2\" x=\"216.984682\" y=\"47.691351\" style=\"fill: #1f77b4; stroke: #333333\"/>\n",
       "     <use xlink:href=\"#m926e7f5ff2\" x=\"247.342435\" y=\"66.4751\" style=\"fill: #1f77b4; stroke: #333333\"/>\n",
       "     <use xlink:href=\"#m926e7f5ff2\" x=\"82.942512\" y=\"200.290075\" style=\"fill: #1f77b4; stroke: #333333\"/>\n",
       "     <use xlink:href=\"#m926e7f5ff2\" x=\"94.610207\" y=\"233.998125\" style=\"fill: #1f77b4; stroke: #333333\"/>\n",
       "     <use xlink:href=\"#m926e7f5ff2\" x=\"94.065144\" y=\"203.39981\" style=\"fill: #1f77b4; stroke: #333333\"/>\n",
       "     <use xlink:href=\"#m926e7f5ff2\" x=\"75.9265\" y=\"203.53779\" style=\"fill: #1f77b4; stroke: #333333\"/>\n",
       "     <use xlink:href=\"#m926e7f5ff2\" x=\"261.562131\" y=\"66.615549\" style=\"fill: #1f77b4; stroke: #333333\"/>\n",
       "     <use xlink:href=\"#m926e7f5ff2\" x=\"227.651459\" y=\"74.78159\" style=\"fill: #1f77b4; stroke: #333333\"/>\n",
       "     <use xlink:href=\"#m926e7f5ff2\" x=\"253.566025\" y=\"40.024793\" style=\"fill: #1f77b4; stroke: #333333\"/>\n",
       "     <use xlink:href=\"#m926e7f5ff2\" x=\"76.490724\" y=\"188.559525\" style=\"fill: #1f77b4; stroke: #333333\"/>\n",
       "     <use xlink:href=\"#m926e7f5ff2\" x=\"238.897525\" y=\"83.623854\" style=\"fill: #1f77b4; stroke: #333333\"/>\n",
       "     <use xlink:href=\"#m926e7f5ff2\" x=\"249.223089\" y=\"90.999539\" style=\"fill: #1f77b4; stroke: #333333\"/>\n",
       "     <use xlink:href=\"#m926e7f5ff2\" x=\"118.387936\" y=\"222.197319\" style=\"fill: #1f77b4; stroke: #333333\"/>\n",
       "     <use xlink:href=\"#m926e7f5ff2\" x=\"108.710707\" y=\"210.741125\" style=\"fill: #1f77b4; stroke: #333333\"/>\n",
       "     <use xlink:href=\"#m926e7f5ff2\" x=\"94.960359\" y=\"193.355747\" style=\"fill: #1f77b4; stroke: #333333\"/>\n",
       "     <use xlink:href=\"#m926e7f5ff2\" x=\"95.804305\" y=\"190.997518\" style=\"fill: #1f77b4; stroke: #333333\"/>\n",
       "     <use xlink:href=\"#m926e7f5ff2\" x=\"239.509346\" y=\"54.496271\" style=\"fill: #1f77b4; stroke: #333333\"/>\n",
       "     <use xlink:href=\"#m926e7f5ff2\" x=\"226.971018\" y=\"89.462105\" style=\"fill: #1f77b4; stroke: #333333\"/>\n",
       "     <use xlink:href=\"#m926e7f5ff2\" x=\"94.916859\" y=\"198.962686\" style=\"fill: #1f77b4; stroke: #333333\"/>\n",
       "     <use xlink:href=\"#m926e7f5ff2\" x=\"106.991269\" y=\"190.119326\" style=\"fill: #1f77b4; stroke: #333333\"/>\n",
       "     <use xlink:href=\"#m926e7f5ff2\" x=\"108.567957\" y=\"197.531041\" style=\"fill: #1f77b4; stroke: #333333\"/>\n",
       "     <use xlink:href=\"#m926e7f5ff2\" x=\"239.227411\" y=\"37.893897\" style=\"fill: #1f77b4; stroke: #333333\"/>\n",
       "     <use xlink:href=\"#m926e7f5ff2\" x=\"238.317384\" y=\"36.021226\" style=\"fill: #1f77b4; stroke: #333333\"/>\n",
       "     <use xlink:href=\"#m926e7f5ff2\" x=\"96.994499\" y=\"211.79954\" style=\"fill: #1f77b4; stroke: #333333\"/>\n",
       "     <use xlink:href=\"#m926e7f5ff2\" x=\"250.032038\" y=\"38.007226\" style=\"fill: #1f77b4; stroke: #333333\"/>\n",
       "     <use xlink:href=\"#m926e7f5ff2\" x=\"232.359401\" y=\"73.3692\" style=\"fill: #1f77b4; stroke: #333333\"/>\n",
       "     <use xlink:href=\"#m926e7f5ff2\" x=\"248.199716\" y=\"33.797493\" style=\"fill: #1f77b4; stroke: #333333\"/>\n",
       "     <use xlink:href=\"#m926e7f5ff2\" x=\"88.429047\" y=\"196.343137\" style=\"fill: #1f77b4; stroke: #333333\"/>\n",
       "     <use xlink:href=\"#m926e7f5ff2\" x=\"234.27057\" y=\"48.50558\" style=\"fill: #1f77b4; stroke: #333333\"/>\n",
       "     <use xlink:href=\"#m926e7f5ff2\" x=\"98.536004\" y=\"216.294179\" style=\"fill: #1f77b4; stroke: #333333\"/>\n",
       "     <use xlink:href=\"#m926e7f5ff2\" x=\"107.800107\" y=\"207.926453\" style=\"fill: #1f77b4; stroke: #333333\"/>\n",
       "     <use xlink:href=\"#m926e7f5ff2\" x=\"87.726796\" y=\"194.572187\" style=\"fill: #1f77b4; stroke: #333333\"/>\n",
       "     <use xlink:href=\"#m926e7f5ff2\" x=\"212.816998\" y=\"54.467641\" style=\"fill: #1f77b4; stroke: #333333\"/>\n",
       "     <use xlink:href=\"#m926e7f5ff2\" x=\"225.168168\" y=\"48.348216\" style=\"fill: #1f77b4; stroke: #333333\"/>\n",
       "     <use xlink:href=\"#m926e7f5ff2\" x=\"202.642744\" y=\"45.13765\" style=\"fill: #1f77b4; stroke: #333333\"/>\n",
       "     <use xlink:href=\"#m926e7f5ff2\" x=\"86.981531\" y=\"194.89677\" style=\"fill: #1f77b4; stroke: #333333\"/>\n",
       "     <use xlink:href=\"#m926e7f5ff2\" x=\"116.687423\" y=\"210.643828\" style=\"fill: #1f77b4; stroke: #333333\"/>\n",
       "     <use xlink:href=\"#m926e7f5ff2\" x=\"91.776781\" y=\"213.543031\" style=\"fill: #1f77b4; stroke: #333333\"/>\n",
       "     <use xlink:href=\"#m926e7f5ff2\" x=\"225.892096\" y=\"92.064122\" style=\"fill: #1f77b4; stroke: #333333\"/>\n",
       "     <use xlink:href=\"#m926e7f5ff2\" x=\"102.087238\" y=\"198.740065\" style=\"fill: #1f77b4; stroke: #333333\"/>\n",
       "     <use xlink:href=\"#m926e7f5ff2\" x=\"94.905243\" y=\"192.46262\" style=\"fill: #1f77b4; stroke: #333333\"/>\n",
       "     <use xlink:href=\"#m926e7f5ff2\" x=\"89.515988\" y=\"203.757936\" style=\"fill: #1f77b4; stroke: #333333\"/>\n",
       "     <use xlink:href=\"#m926e7f5ff2\" x=\"99.167164\" y=\"211.899265\" style=\"fill: #1f77b4; stroke: #333333\"/>\n",
       "     <use xlink:href=\"#m926e7f5ff2\" x=\"211.577945\" y=\"58.574265\" style=\"fill: #1f77b4; stroke: #333333\"/>\n",
       "     <use xlink:href=\"#m926e7f5ff2\" x=\"220.751413\" y=\"41.850088\" style=\"fill: #1f77b4; stroke: #333333\"/>\n",
       "     <use xlink:href=\"#m926e7f5ff2\" x=\"72.137778\" y=\"218.262582\" style=\"fill: #1f77b4; stroke: #333333\"/>\n",
       "     <use xlink:href=\"#m926e7f5ff2\" x=\"235.916363\" y=\"81.620158\" style=\"fill: #1f77b4; stroke: #333333\"/>\n",
       "    </g>\n",
       "   </g>\n",
       "   <g id=\"PathCollection_2\">\n",
       "    <defs>\n",
       "     <path id=\"mbd444f5255\" d=\"M 0 3 \n",
       "C 0.795609 3 1.55874 2.683901 2.12132 2.12132 \n",
       "C 2.683901 1.55874 3 0.795609 3 0 \n",
       "C 3 -0.795609 2.683901 -1.55874 2.12132 -2.12132 \n",
       "C 1.55874 -2.683901 0.795609 -3 0 -3 \n",
       "C -0.795609 -3 -1.55874 -2.683901 -2.12132 -2.12132 \n",
       "C -2.683901 -1.55874 -3 -0.795609 -3 0 \n",
       "C -3 0.795609 -2.683901 1.55874 -2.12132 2.12132 \n",
       "C -1.55874 2.683901 -0.795609 3 0 3 \n",
       "z\n",
       "\" style=\"stroke: #333333\"/>\n",
       "    </defs>\n",
       "    <g clip-path=\"url(#pf59590e772)\">\n",
       "     <use xlink:href=\"#mbd444f5255\" x=\"230.877063\" y=\"184.064459\" style=\"fill: #ff7f0e; stroke: #333333\"/>\n",
       "     <use xlink:href=\"#mbd444f5255\" x=\"243.842427\" y=\"184.340261\" style=\"fill: #ff7f0e; stroke: #333333\"/>\n",
       "     <use xlink:href=\"#mbd444f5255\" x=\"232.017097\" y=\"202.441215\" style=\"fill: #ff7f0e; stroke: #333333\"/>\n",
       "     <use xlink:href=\"#mbd444f5255\" x=\"89.746376\" y=\"45.851439\" style=\"fill: #ff7f0e; stroke: #333333\"/>\n",
       "     <use xlink:href=\"#mbd444f5255\" x=\"250.686437\" y=\"205.161614\" style=\"fill: #ff7f0e; stroke: #333333\"/>\n",
       "     <use xlink:href=\"#mbd444f5255\" x=\"100.400405\" y=\"64.372734\" style=\"fill: #ff7f0e; stroke: #333333\"/>\n",
       "     <use xlink:href=\"#mbd444f5255\" x=\"219.862038\" y=\"215.105614\" style=\"fill: #ff7f0e; stroke: #333333\"/>\n",
       "     <use xlink:href=\"#mbd444f5255\" x=\"130.59866\" y=\"60.339707\" style=\"fill: #ff7f0e; stroke: #333333\"/>\n",
       "     <use xlink:href=\"#mbd444f5255\" x=\"247.536058\" y=\"221.068731\" style=\"fill: #ff7f0e; stroke: #333333\"/>\n",
       "     <use xlink:href=\"#mbd444f5255\" x=\"214.797166\" y=\"188.801084\" style=\"fill: #ff7f0e; stroke: #333333\"/>\n",
       "     <use xlink:href=\"#mbd444f5255\" x=\"229.906907\" y=\"176.011923\" style=\"fill: #ff7f0e; stroke: #333333\"/>\n",
       "     <use xlink:href=\"#mbd444f5255\" x=\"65.731142\" y=\"45.008831\" style=\"fill: #ff7f0e; stroke: #333333\"/>\n",
       "     <use xlink:href=\"#mbd444f5255\" x=\"116.585574\" y=\"45.994237\" style=\"fill: #ff7f0e; stroke: #333333\"/>\n",
       "     <use xlink:href=\"#mbd444f5255\" x=\"96.4775\" y=\"77.572203\" style=\"fill: #ff7f0e; stroke: #333333\"/>\n",
       "     <use xlink:href=\"#mbd444f5255\" x=\"96.788387\" y=\"42.484313\" style=\"fill: #ff7f0e; stroke: #333333\"/>\n",
       "     <use xlink:href=\"#mbd444f5255\" x=\"75.708547\" y=\"39.362608\" style=\"fill: #ff7f0e; stroke: #333333\"/>\n",
       "     <use xlink:href=\"#mbd444f5255\" x=\"233.922057\" y=\"205.322233\" style=\"fill: #ff7f0e; stroke: #333333\"/>\n",
       "     <use xlink:href=\"#mbd444f5255\" x=\"216.28277\" y=\"183.914717\" style=\"fill: #ff7f0e; stroke: #333333\"/>\n",
       "     <use xlink:href=\"#mbd444f5255\" x=\"225.945553\" y=\"186.021764\" style=\"fill: #ff7f0e; stroke: #333333\"/>\n",
       "     <use xlink:href=\"#mbd444f5255\" x=\"107.888844\" y=\"59.992966\" style=\"fill: #ff7f0e; stroke: #333333\"/>\n",
       "     <use xlink:href=\"#mbd444f5255\" x=\"212.266314\" y=\"195.521501\" style=\"fill: #ff7f0e; stroke: #333333\"/>\n",
       "     <use xlink:href=\"#mbd444f5255\" x=\"257.089413\" y=\"204.08342\" style=\"fill: #ff7f0e; stroke: #333333\"/>\n",
       "     <use xlink:href=\"#mbd444f5255\" x=\"248.528097\" y=\"201.600425\" style=\"fill: #ff7f0e; stroke: #333333\"/>\n",
       "     <use xlink:href=\"#mbd444f5255\" x=\"223.275659\" y=\"205.687898\" style=\"fill: #ff7f0e; stroke: #333333\"/>\n",
       "     <use xlink:href=\"#mbd444f5255\" x=\"254.62465\" y=\"179.518498\" style=\"fill: #ff7f0e; stroke: #333333\"/>\n",
       "     <use xlink:href=\"#mbd444f5255\" x=\"83.200733\" y=\"71.126184\" style=\"fill: #ff7f0e; stroke: #333333\"/>\n",
       "     <use xlink:href=\"#mbd444f5255\" x=\"251.724096\" y=\"182.510698\" style=\"fill: #ff7f0e; stroke: #333333\"/>\n",
       "     <use xlink:href=\"#mbd444f5255\" x=\"110.819287\" y=\"55.774959\" style=\"fill: #ff7f0e; stroke: #333333\"/>\n",
       "     <use xlink:href=\"#mbd444f5255\" x=\"232.126351\" y=\"181.775374\" style=\"fill: #ff7f0e; stroke: #333333\"/>\n",
       "     <use xlink:href=\"#mbd444f5255\" x=\"68.497902\" y=\"57.662146\" style=\"fill: #ff7f0e; stroke: #333333\"/>\n",
       "     <use xlink:href=\"#mbd444f5255\" x=\"95.226666\" y=\"66.990484\" style=\"fill: #ff7f0e; stroke: #333333\"/>\n",
       "     <use xlink:href=\"#mbd444f5255\" x=\"223.392974\" y=\"212.375042\" style=\"fill: #ff7f0e; stroke: #333333\"/>\n",
       "     <use xlink:href=\"#mbd444f5255\" x=\"214.945261\" y=\"186.328734\" style=\"fill: #ff7f0e; stroke: #333333\"/>\n",
       "     <use xlink:href=\"#mbd444f5255\" x=\"100.205618\" y=\"61.423422\" style=\"fill: #ff7f0e; stroke: #333333\"/>\n",
       "     <use xlink:href=\"#mbd444f5255\" x=\"244.127174\" y=\"187.069023\" style=\"fill: #ff7f0e; stroke: #333333\"/>\n",
       "     <use xlink:href=\"#mbd444f5255\" x=\"100.782099\" y=\"69.452204\" style=\"fill: #ff7f0e; stroke: #333333\"/>\n",
       "     <use xlink:href=\"#mbd444f5255\" x=\"97.685973\" y=\"72.257232\" style=\"fill: #ff7f0e; stroke: #333333\"/>\n",
       "     <use xlink:href=\"#mbd444f5255\" x=\"261.24119\" y=\"213.073602\" style=\"fill: #ff7f0e; stroke: #333333\"/>\n",
       "     <use xlink:href=\"#mbd444f5255\" x=\"231.536281\" y=\"183.208803\" style=\"fill: #ff7f0e; stroke: #333333\"/>\n",
       "     <use xlink:href=\"#mbd444f5255\" x=\"84.432042\" y=\"56.491819\" style=\"fill: #ff7f0e; stroke: #333333\"/>\n",
       "     <use xlink:href=\"#mbd444f5255\" x=\"114.704427\" y=\"58.587926\" style=\"fill: #ff7f0e; stroke: #333333\"/>\n",
       "     <use xlink:href=\"#mbd444f5255\" x=\"118.139583\" y=\"40.639434\" style=\"fill: #ff7f0e; stroke: #333333\"/>\n",
       "     <use xlink:href=\"#mbd444f5255\" x=\"244.331312\" y=\"209.984157\" style=\"fill: #ff7f0e; stroke: #333333\"/>\n",
       "     <use xlink:href=\"#mbd444f5255\" x=\"84.937455\" y=\"60.733388\" style=\"fill: #ff7f0e; stroke: #333333\"/>\n",
       "     <use xlink:href=\"#mbd444f5255\" x=\"229.111028\" y=\"188.491788\" style=\"fill: #ff7f0e; stroke: #333333\"/>\n",
       "     <use xlink:href=\"#mbd444f5255\" x=\"99.865846\" y=\"74.521377\" style=\"fill: #ff7f0e; stroke: #333333\"/>\n",
       "     <use xlink:href=\"#mbd444f5255\" x=\"107.774522\" y=\"50.680713\" style=\"fill: #ff7f0e; stroke: #333333\"/>\n",
       "     <use xlink:href=\"#mbd444f5255\" x=\"106.681533\" y=\"54.197282\" style=\"fill: #ff7f0e; stroke: #333333\"/>\n",
       "     <use xlink:href=\"#mbd444f5255\" x=\"220.300095\" y=\"189.409162\" style=\"fill: #ff7f0e; stroke: #333333\"/>\n",
       "     <use xlink:href=\"#mbd444f5255\" x=\"84.93114\" y=\"78.604599\" style=\"fill: #ff7f0e; stroke: #333333\"/>\n",
       "     <use xlink:href=\"#mbd444f5255\" x=\"105.491498\" y=\"48.675045\" style=\"fill: #ff7f0e; stroke: #333333\"/>\n",
       "     <use xlink:href=\"#mbd444f5255\" x=\"212.017878\" y=\"185.380972\" style=\"fill: #ff7f0e; stroke: #333333\"/>\n",
       "     <use xlink:href=\"#mbd444f5255\" x=\"238.780524\" y=\"214.332575\" style=\"fill: #ff7f0e; stroke: #333333\"/>\n",
       "     <use xlink:href=\"#mbd444f5255\" x=\"102.920944\" y=\"49.194851\" style=\"fill: #ff7f0e; stroke: #333333\"/>\n",
       "     <use xlink:href=\"#mbd444f5255\" x=\"109.227118\" y=\"68.69468\" style=\"fill: #ff7f0e; stroke: #333333\"/>\n",
       "     <use xlink:href=\"#mbd444f5255\" x=\"218.916511\" y=\"198.5437\" style=\"fill: #ff7f0e; stroke: #333333\"/>\n",
       "     <use xlink:href=\"#mbd444f5255\" x=\"210.412471\" y=\"201.294091\" style=\"fill: #ff7f0e; stroke: #333333\"/>\n",
       "     <use xlink:href=\"#mbd444f5255\" x=\"106.409234\" y=\"63.165772\" style=\"fill: #ff7f0e; stroke: #333333\"/>\n",
       "     <use xlink:href=\"#mbd444f5255\" x=\"62.306392\" y=\"70.4775\" style=\"fill: #ff7f0e; stroke: #333333\"/>\n",
       "     <use xlink:href=\"#mbd444f5255\" x=\"91.834453\" y=\"78.564893\" style=\"fill: #ff7f0e; stroke: #333333\"/>\n",
       "     <use xlink:href=\"#mbd444f5255\" x=\"109.483259\" y=\"52.708383\" style=\"fill: #ff7f0e; stroke: #333333\"/>\n",
       "     <use xlink:href=\"#mbd444f5255\" x=\"87.52736\" y=\"64.035928\" style=\"fill: #ff7f0e; stroke: #333333\"/>\n",
       "     <use xlink:href=\"#mbd444f5255\" x=\"94.034599\" y=\"56.433368\" style=\"fill: #ff7f0e; stroke: #333333\"/>\n",
       "     <use xlink:href=\"#mbd444f5255\" x=\"110.113367\" y=\"69.173857\" style=\"fill: #ff7f0e; stroke: #333333\"/>\n",
       "     <use xlink:href=\"#mbd444f5255\" x=\"257.318305\" y=\"205.893872\" style=\"fill: #ff7f0e; stroke: #333333\"/>\n",
       "     <use xlink:href=\"#mbd444f5255\" x=\"79.762115\" y=\"40.196254\" style=\"fill: #ff7f0e; stroke: #333333\"/>\n",
       "     <use xlink:href=\"#mbd444f5255\" x=\"258.048499\" y=\"188.24511\" style=\"fill: #ff7f0e; stroke: #333333\"/>\n",
       "     <use xlink:href=\"#mbd444f5255\" x=\"244.789162\" y=\"174.836438\" style=\"fill: #ff7f0e; stroke: #333333\"/>\n",
       "     <use xlink:href=\"#mbd444f5255\" x=\"214.47439\" y=\"215.053945\" style=\"fill: #ff7f0e; stroke: #333333\"/>\n",
       "     <use xlink:href=\"#mbd444f5255\" x=\"218.387835\" y=\"231.325231\" style=\"fill: #ff7f0e; stroke: #333333\"/>\n",
       "     <use xlink:href=\"#mbd444f5255\" x=\"98.247032\" y=\"41.725431\" style=\"fill: #ff7f0e; stroke: #333333\"/>\n",
       "     <use xlink:href=\"#mbd444f5255\" x=\"221.09122\" y=\"182.071913\" style=\"fill: #ff7f0e; stroke: #333333\"/>\n",
       "     <use xlink:href=\"#mbd444f5255\" x=\"207.783237\" y=\"167.860073\" style=\"fill: #ff7f0e; stroke: #333333\"/>\n",
       "     <use xlink:href=\"#mbd444f5255\" x=\"84.486389\" y=\"47.613063\" style=\"fill: #ff7f0e; stroke: #333333\"/>\n",
       "     <use xlink:href=\"#mbd444f5255\" x=\"108.320496\" y=\"60.592713\" style=\"fill: #ff7f0e; stroke: #333333\"/>\n",
       "     <use xlink:href=\"#mbd444f5255\" x=\"247.02495\" y=\"187.512004\" style=\"fill: #ff7f0e; stroke: #333333\"/>\n",
       "     <use xlink:href=\"#mbd444f5255\" x=\"92.024123\" y=\"51.977778\" style=\"fill: #ff7f0e; stroke: #333333\"/>\n",
       "     <use xlink:href=\"#mbd444f5255\" x=\"103.976033\" y=\"62.358549\" style=\"fill: #ff7f0e; stroke: #333333\"/>\n",
       "     <use xlink:href=\"#mbd444f5255\" x=\"102.375453\" y=\"65.661131\" style=\"fill: #ff7f0e; stroke: #333333\"/>\n",
       "     <use xlink:href=\"#mbd444f5255\" x=\"230.527021\" y=\"180.24788\" style=\"fill: #ff7f0e; stroke: #333333\"/>\n",
       "     <use xlink:href=\"#mbd444f5255\" x=\"238.484799\" y=\"170.843528\" style=\"fill: #ff7f0e; stroke: #333333\"/>\n",
       "     <use xlink:href=\"#mbd444f5255\" x=\"247.340005\" y=\"188.41563\" style=\"fill: #ff7f0e; stroke: #333333\"/>\n",
       "     <use xlink:href=\"#mbd444f5255\" x=\"134.8086\" y=\"60.039544\" style=\"fill: #ff7f0e; stroke: #333333\"/>\n",
       "     <use xlink:href=\"#mbd444f5255\" x=\"213.726653\" y=\"217.37803\" style=\"fill: #ff7f0e; stroke: #333333\"/>\n",
       "     <use xlink:href=\"#mbd444f5255\" x=\"265.215483\" y=\"216.407409\" style=\"fill: #ff7f0e; stroke: #333333\"/>\n",
       "     <use xlink:href=\"#mbd444f5255\" x=\"226.839442\" y=\"213.313899\" style=\"fill: #ff7f0e; stroke: #333333\"/>\n",
       "     <use xlink:href=\"#mbd444f5255\" x=\"88.454985\" y=\"70.745677\" style=\"fill: #ff7f0e; stroke: #333333\"/>\n",
       "     <use xlink:href=\"#mbd444f5255\" x=\"86.200641\" y=\"60.036238\" style=\"fill: #ff7f0e; stroke: #333333\"/>\n",
       "     <use xlink:href=\"#mbd444f5255\" x=\"249.708568\" y=\"216.244964\" style=\"fill: #ff7f0e; stroke: #333333\"/>\n",
       "     <use xlink:href=\"#mbd444f5255\" x=\"86.639712\" y=\"67.616948\" style=\"fill: #ff7f0e; stroke: #333333\"/>\n",
       "     <use xlink:href=\"#mbd444f5255\" x=\"72.549088\" y=\"62.572016\" style=\"fill: #ff7f0e; stroke: #333333\"/>\n",
       "     <use xlink:href=\"#mbd444f5255\" x=\"116.327234\" y=\"49.138967\" style=\"fill: #ff7f0e; stroke: #333333\"/>\n",
       "     <use xlink:href=\"#mbd444f5255\" x=\"89.624632\" y=\"52.173154\" style=\"fill: #ff7f0e; stroke: #333333\"/>\n",
       "     <use xlink:href=\"#mbd444f5255\" x=\"257.369976\" y=\"213.711341\" style=\"fill: #ff7f0e; stroke: #333333\"/>\n",
       "     <use xlink:href=\"#mbd444f5255\" x=\"209.334228\" y=\"195.325995\" style=\"fill: #ff7f0e; stroke: #333333\"/>\n",
       "     <use xlink:href=\"#mbd444f5255\" x=\"98.138755\" y=\"45.008294\" style=\"fill: #ff7f0e; stroke: #333333\"/>\n",
       "     <use xlink:href=\"#mbd444f5255\" x=\"254.619078\" y=\"211.240618\" style=\"fill: #ff7f0e; stroke: #333333\"/>\n",
       "    </g>\n",
       "   </g>\n",
       "   <g id=\"matplotlib.axis_1\">\n",
       "    <g id=\"xtick_1\">\n",
       "     <g id=\"line2d_1\">\n",
       "      <defs>\n",
       "       <path id=\"m0ce8c5070e\" d=\"M 0 0 \n",
       "L 0 3.5 \n",
       "\" style=\"stroke: #000000; stroke-width: 0.8\"/>\n",
       "      </defs>\n",
       "      <g>\n",
       "       <use xlink:href=\"#m0ce8c5070e\" x=\"62.596276\" y=\"244.078125\" style=\"stroke: #000000; stroke-width: 0.8\"/>\n",
       "      </g>\n",
       "     </g>\n",
       "     <g id=\"text_1\">\n",
       "      <!-- −0.25 -->\n",
       "      <g transform=\"translate(47.27362 258.676562) scale(0.1 -0.1)\">\n",
       "       <defs>\n",
       "        <path id=\"DejaVuSans-2212\" d=\"M 678 2272 \n",
       "L 4684 2272 \n",
       "L 4684 1741 \n",
       "L 678 1741 \n",
       "L 678 2272 \n",
       "z\n",
       "\" transform=\"scale(0.015625)\"/>\n",
       "        <path id=\"DejaVuSans-30\" d=\"M 2034 4250 \n",
       "Q 1547 4250 1301 3770 \n",
       "Q 1056 3291 1056 2328 \n",
       "Q 1056 1369 1301 889 \n",
       "Q 1547 409 2034 409 \n",
       "Q 2525 409 2770 889 \n",
       "Q 3016 1369 3016 2328 \n",
       "Q 3016 3291 2770 3770 \n",
       "Q 2525 4250 2034 4250 \n",
       "z\n",
       "M 2034 4750 \n",
       "Q 2819 4750 3233 4129 \n",
       "Q 3647 3509 3647 2328 \n",
       "Q 3647 1150 3233 529 \n",
       "Q 2819 -91 2034 -91 \n",
       "Q 1250 -91 836 529 \n",
       "Q 422 1150 422 2328 \n",
       "Q 422 3509 836 4129 \n",
       "Q 1250 4750 2034 4750 \n",
       "z\n",
       "\" transform=\"scale(0.015625)\"/>\n",
       "        <path id=\"DejaVuSans-2e\" d=\"M 684 794 \n",
       "L 1344 794 \n",
       "L 1344 0 \n",
       "L 684 0 \n",
       "L 684 794 \n",
       "z\n",
       "\" transform=\"scale(0.015625)\"/>\n",
       "        <path id=\"DejaVuSans-32\" d=\"M 1228 531 \n",
       "L 3431 531 \n",
       "L 3431 0 \n",
       "L 469 0 \n",
       "L 469 531 \n",
       "Q 828 903 1448 1529 \n",
       "Q 2069 2156 2228 2338 \n",
       "Q 2531 2678 2651 2914 \n",
       "Q 2772 3150 2772 3378 \n",
       "Q 2772 3750 2511 3984 \n",
       "Q 2250 4219 1831 4219 \n",
       "Q 1534 4219 1204 4116 \n",
       "Q 875 4013 500 3803 \n",
       "L 500 4441 \n",
       "Q 881 4594 1212 4672 \n",
       "Q 1544 4750 1819 4750 \n",
       "Q 2544 4750 2975 4387 \n",
       "Q 3406 4025 3406 3419 \n",
       "Q 3406 3131 3298 2873 \n",
       "Q 3191 2616 2906 2266 \n",
       "Q 2828 2175 2409 1742 \n",
       "Q 1991 1309 1228 531 \n",
       "z\n",
       "\" transform=\"scale(0.015625)\"/>\n",
       "        <path id=\"DejaVuSans-35\" d=\"M 691 4666 \n",
       "L 3169 4666 \n",
       "L 3169 4134 \n",
       "L 1269 4134 \n",
       "L 1269 2991 \n",
       "Q 1406 3038 1543 3061 \n",
       "Q 1681 3084 1819 3084 \n",
       "Q 2600 3084 3056 2656 \n",
       "Q 3513 2228 3513 1497 \n",
       "Q 3513 744 3044 326 \n",
       "Q 2575 -91 1722 -91 \n",
       "Q 1428 -91 1123 -41 \n",
       "Q 819 9 494 109 \n",
       "L 494 744 \n",
       "Q 775 591 1075 516 \n",
       "Q 1375 441 1709 441 \n",
       "Q 2250 441 2565 725 \n",
       "Q 2881 1009 2881 1497 \n",
       "Q 2881 1984 2565 2268 \n",
       "Q 2250 2553 1709 2553 \n",
       "Q 1456 2553 1204 2497 \n",
       "Q 953 2441 691 2322 \n",
       "L 691 4666 \n",
       "z\n",
       "\" transform=\"scale(0.015625)\"/>\n",
       "       </defs>\n",
       "       <use xlink:href=\"#DejaVuSans-2212\"/>\n",
       "       <use xlink:href=\"#DejaVuSans-30\" x=\"83.789062\"/>\n",
       "       <use xlink:href=\"#DejaVuSans-2e\" x=\"147.412109\"/>\n",
       "       <use xlink:href=\"#DejaVuSans-32\" x=\"179.199219\"/>\n",
       "       <use xlink:href=\"#DejaVuSans-35\" x=\"242.822266\"/>\n",
       "      </g>\n",
       "     </g>\n",
       "    </g>\n",
       "    <g id=\"xtick_2\">\n",
       "     <g id=\"line2d_2\">\n",
       "      <g>\n",
       "       <use xlink:href=\"#m0ce8c5070e\" x=\"97.272305\" y=\"244.078125\" style=\"stroke: #000000; stroke-width: 0.8\"/>\n",
       "      </g>\n",
       "     </g>\n",
       "     <g id=\"text_2\">\n",
       "      <!-- 0.00 -->\n",
       "      <g transform=\"translate(86.139492 258.676562) scale(0.1 -0.1)\">\n",
       "       <use xlink:href=\"#DejaVuSans-30\"/>\n",
       "       <use xlink:href=\"#DejaVuSans-2e\" x=\"63.623047\"/>\n",
       "       <use xlink:href=\"#DejaVuSans-30\" x=\"95.410156\"/>\n",
       "       <use xlink:href=\"#DejaVuSans-30\" x=\"159.033203\"/>\n",
       "      </g>\n",
       "     </g>\n",
       "    </g>\n",
       "    <g id=\"xtick_3\">\n",
       "     <g id=\"line2d_3\">\n",
       "      <g>\n",
       "       <use xlink:href=\"#m0ce8c5070e\" x=\"131.948333\" y=\"244.078125\" style=\"stroke: #000000; stroke-width: 0.8\"/>\n",
       "      </g>\n",
       "     </g>\n",
       "     <g id=\"text_3\">\n",
       "      <!-- 0.25 -->\n",
       "      <g transform=\"translate(120.81552 258.676562) scale(0.1 -0.1)\">\n",
       "       <use xlink:href=\"#DejaVuSans-30\"/>\n",
       "       <use xlink:href=\"#DejaVuSans-2e\" x=\"63.623047\"/>\n",
       "       <use xlink:href=\"#DejaVuSans-32\" x=\"95.410156\"/>\n",
       "       <use xlink:href=\"#DejaVuSans-35\" x=\"159.033203\"/>\n",
       "      </g>\n",
       "     </g>\n",
       "    </g>\n",
       "    <g id=\"xtick_4\">\n",
       "     <g id=\"line2d_4\">\n",
       "      <g>\n",
       "       <use xlink:href=\"#m0ce8c5070e\" x=\"166.624361\" y=\"244.078125\" style=\"stroke: #000000; stroke-width: 0.8\"/>\n",
       "      </g>\n",
       "     </g>\n",
       "     <g id=\"text_4\">\n",
       "      <!-- 0.50 -->\n",
       "      <g transform=\"translate(155.491548 258.676562) scale(0.1 -0.1)\">\n",
       "       <use xlink:href=\"#DejaVuSans-30\"/>\n",
       "       <use xlink:href=\"#DejaVuSans-2e\" x=\"63.623047\"/>\n",
       "       <use xlink:href=\"#DejaVuSans-35\" x=\"95.410156\"/>\n",
       "       <use xlink:href=\"#DejaVuSans-30\" x=\"159.033203\"/>\n",
       "      </g>\n",
       "     </g>\n",
       "    </g>\n",
       "    <g id=\"xtick_5\">\n",
       "     <g id=\"line2d_5\">\n",
       "      <g>\n",
       "       <use xlink:href=\"#m0ce8c5070e\" x=\"201.300389\" y=\"244.078125\" style=\"stroke: #000000; stroke-width: 0.8\"/>\n",
       "      </g>\n",
       "     </g>\n",
       "     <g id=\"text_5\">\n",
       "      <!-- 0.75 -->\n",
       "      <g transform=\"translate(190.167577 258.676562) scale(0.1 -0.1)\">\n",
       "       <defs>\n",
       "        <path id=\"DejaVuSans-37\" d=\"M 525 4666 \n",
       "L 3525 4666 \n",
       "L 3525 4397 \n",
       "L 1831 0 \n",
       "L 1172 0 \n",
       "L 2766 4134 \n",
       "L 525 4134 \n",
       "L 525 4666 \n",
       "z\n",
       "\" transform=\"scale(0.015625)\"/>\n",
       "       </defs>\n",
       "       <use xlink:href=\"#DejaVuSans-30\"/>\n",
       "       <use xlink:href=\"#DejaVuSans-2e\" x=\"63.623047\"/>\n",
       "       <use xlink:href=\"#DejaVuSans-37\" x=\"95.410156\"/>\n",
       "       <use xlink:href=\"#DejaVuSans-35\" x=\"159.033203\"/>\n",
       "      </g>\n",
       "     </g>\n",
       "    </g>\n",
       "    <g id=\"xtick_6\">\n",
       "     <g id=\"line2d_6\">\n",
       "      <g>\n",
       "       <use xlink:href=\"#m0ce8c5070e\" x=\"235.976417\" y=\"244.078125\" style=\"stroke: #000000; stroke-width: 0.8\"/>\n",
       "      </g>\n",
       "     </g>\n",
       "     <g id=\"text_6\">\n",
       "      <!-- 1.00 -->\n",
       "      <g transform=\"translate(224.843605 258.676562) scale(0.1 -0.1)\">\n",
       "       <defs>\n",
       "        <path id=\"DejaVuSans-31\" d=\"M 794 531 \n",
       "L 1825 531 \n",
       "L 1825 4091 \n",
       "L 703 3866 \n",
       "L 703 4441 \n",
       "L 1819 4666 \n",
       "L 2450 4666 \n",
       "L 2450 531 \n",
       "L 3481 531 \n",
       "L 3481 0 \n",
       "L 794 0 \n",
       "L 794 531 \n",
       "z\n",
       "\" transform=\"scale(0.015625)\"/>\n",
       "       </defs>\n",
       "       <use xlink:href=\"#DejaVuSans-31\"/>\n",
       "       <use xlink:href=\"#DejaVuSans-2e\" x=\"63.623047\"/>\n",
       "       <use xlink:href=\"#DejaVuSans-30\" x=\"95.410156\"/>\n",
       "       <use xlink:href=\"#DejaVuSans-30\" x=\"159.033203\"/>\n",
       "      </g>\n",
       "     </g>\n",
       "    </g>\n",
       "    <g id=\"xtick_7\">\n",
       "     <g id=\"line2d_7\">\n",
       "      <g>\n",
       "       <use xlink:href=\"#m0ce8c5070e\" x=\"270.652446\" y=\"244.078125\" style=\"stroke: #000000; stroke-width: 0.8\"/>\n",
       "      </g>\n",
       "     </g>\n",
       "     <g id=\"text_7\">\n",
       "      <!-- 1.25 -->\n",
       "      <g transform=\"translate(259.519633 258.676562) scale(0.1 -0.1)\">\n",
       "       <use xlink:href=\"#DejaVuSans-31\"/>\n",
       "       <use xlink:href=\"#DejaVuSans-2e\" x=\"63.623047\"/>\n",
       "       <use xlink:href=\"#DejaVuSans-32\" x=\"95.410156\"/>\n",
       "       <use xlink:href=\"#DejaVuSans-35\" x=\"159.033203\"/>\n",
       "      </g>\n",
       "     </g>\n",
       "    </g>\n",
       "    <g id=\"text_8\">\n",
       "     <!-- $x_1$ -->\n",
       "     <g transform=\"translate(158.410938 272.354687) scale(0.1 -0.1)\">\n",
       "      <defs>\n",
       "       <path id=\"DejaVuSans-Oblique-78\" d=\"M 3841 3500 \n",
       "L 2234 1784 \n",
       "L 3219 0 \n",
       "L 2559 0 \n",
       "L 1819 1388 \n",
       "L 531 0 \n",
       "L -166 0 \n",
       "L 1556 1844 \n",
       "L 641 3500 \n",
       "L 1300 3500 \n",
       "L 1972 2234 \n",
       "L 3144 3500 \n",
       "L 3841 3500 \n",
       "z\n",
       "\" transform=\"scale(0.015625)\"/>\n",
       "      </defs>\n",
       "      <use xlink:href=\"#DejaVuSans-Oblique-78\" transform=\"translate(0 0.3125)\"/>\n",
       "      <use xlink:href=\"#DejaVuSans-31\" transform=\"translate(59.179688 -16.09375) scale(0.7)\"/>\n",
       "     </g>\n",
       "    </g>\n",
       "   </g>\n",
       "   <g id=\"matplotlib.axis_2\">\n",
       "    <g id=\"ytick_1\">\n",
       "     <g id=\"line2d_8\">\n",
       "      <defs>\n",
       "       <path id=\"mdc807dd958\" d=\"M 0 0 \n",
       "L -3.5 0 \n",
       "\" style=\"stroke: #000000; stroke-width: 0.8\"/>\n",
       "      </defs>\n",
       "      <g>\n",
       "       <use xlink:href=\"#mdc807dd958\" x=\"52.160938\" y=\"227.948456\" style=\"stroke: #000000; stroke-width: 0.8\"/>\n",
       "      </g>\n",
       "     </g>\n",
       "     <g id=\"text_9\">\n",
       "      <!-- −0.2 -->\n",
       "      <g transform=\"translate(20.878125 231.747675) scale(0.1 -0.1)\">\n",
       "       <use xlink:href=\"#DejaVuSans-2212\"/>\n",
       "       <use xlink:href=\"#DejaVuSans-30\" x=\"83.789062\"/>\n",
       "       <use xlink:href=\"#DejaVuSans-2e\" x=\"147.412109\"/>\n",
       "       <use xlink:href=\"#DejaVuSans-32\" x=\"179.199219\"/>\n",
       "      </g>\n",
       "     </g>\n",
       "    </g>\n",
       "    <g id=\"ytick_2\">\n",
       "     <g id=\"line2d_9\">\n",
       "      <g>\n",
       "       <use xlink:href=\"#mdc807dd958\" x=\"52.160938\" y=\"199.792918\" style=\"stroke: #000000; stroke-width: 0.8\"/>\n",
       "      </g>\n",
       "     </g>\n",
       "     <g id=\"text_10\">\n",
       "      <!-- 0.0 -->\n",
       "      <g transform=\"translate(29.257812 203.592137) scale(0.1 -0.1)\">\n",
       "       <use xlink:href=\"#DejaVuSans-30\"/>\n",
       "       <use xlink:href=\"#DejaVuSans-2e\" x=\"63.623047\"/>\n",
       "       <use xlink:href=\"#DejaVuSans-30\" x=\"95.410156\"/>\n",
       "      </g>\n",
       "     </g>\n",
       "    </g>\n",
       "    <g id=\"ytick_3\">\n",
       "     <g id=\"line2d_10\">\n",
       "      <g>\n",
       "       <use xlink:href=\"#mdc807dd958\" x=\"52.160938\" y=\"171.63738\" style=\"stroke: #000000; stroke-width: 0.8\"/>\n",
       "      </g>\n",
       "     </g>\n",
       "     <g id=\"text_11\">\n",
       "      <!-- 0.2 -->\n",
       "      <g transform=\"translate(29.257812 175.436599) scale(0.1 -0.1)\">\n",
       "       <use xlink:href=\"#DejaVuSans-30\"/>\n",
       "       <use xlink:href=\"#DejaVuSans-2e\" x=\"63.623047\"/>\n",
       "       <use xlink:href=\"#DejaVuSans-32\" x=\"95.410156\"/>\n",
       "      </g>\n",
       "     </g>\n",
       "    </g>\n",
       "    <g id=\"ytick_4\">\n",
       "     <g id=\"line2d_11\">\n",
       "      <g>\n",
       "       <use xlink:href=\"#mdc807dd958\" x=\"52.160938\" y=\"143.481843\" style=\"stroke: #000000; stroke-width: 0.8\"/>\n",
       "      </g>\n",
       "     </g>\n",
       "     <g id=\"text_12\">\n",
       "      <!-- 0.4 -->\n",
       "      <g transform=\"translate(29.257812 147.281061) scale(0.1 -0.1)\">\n",
       "       <defs>\n",
       "        <path id=\"DejaVuSans-34\" d=\"M 2419 4116 \n",
       "L 825 1625 \n",
       "L 2419 1625 \n",
       "L 2419 4116 \n",
       "z\n",
       "M 2253 4666 \n",
       "L 3047 4666 \n",
       "L 3047 1625 \n",
       "L 3713 1625 \n",
       "L 3713 1100 \n",
       "L 3047 1100 \n",
       "L 3047 0 \n",
       "L 2419 0 \n",
       "L 2419 1100 \n",
       "L 313 1100 \n",
       "L 313 1709 \n",
       "L 2253 4666 \n",
       "z\n",
       "\" transform=\"scale(0.015625)\"/>\n",
       "       </defs>\n",
       "       <use xlink:href=\"#DejaVuSans-30\"/>\n",
       "       <use xlink:href=\"#DejaVuSans-2e\" x=\"63.623047\"/>\n",
       "       <use xlink:href=\"#DejaVuSans-34\" x=\"95.410156\"/>\n",
       "      </g>\n",
       "     </g>\n",
       "    </g>\n",
       "    <g id=\"ytick_5\">\n",
       "     <g id=\"line2d_12\">\n",
       "      <g>\n",
       "       <use xlink:href=\"#mdc807dd958\" x=\"52.160938\" y=\"115.326305\" style=\"stroke: #000000; stroke-width: 0.8\"/>\n",
       "      </g>\n",
       "     </g>\n",
       "     <g id=\"text_13\">\n",
       "      <!-- 0.6 -->\n",
       "      <g transform=\"translate(29.257812 119.125524) scale(0.1 -0.1)\">\n",
       "       <defs>\n",
       "        <path id=\"DejaVuSans-36\" d=\"M 2113 2584 \n",
       "Q 1688 2584 1439 2293 \n",
       "Q 1191 2003 1191 1497 \n",
       "Q 1191 994 1439 701 \n",
       "Q 1688 409 2113 409 \n",
       "Q 2538 409 2786 701 \n",
       "Q 3034 994 3034 1497 \n",
       "Q 3034 2003 2786 2293 \n",
       "Q 2538 2584 2113 2584 \n",
       "z\n",
       "M 3366 4563 \n",
       "L 3366 3988 \n",
       "Q 3128 4100 2886 4159 \n",
       "Q 2644 4219 2406 4219 \n",
       "Q 1781 4219 1451 3797 \n",
       "Q 1122 3375 1075 2522 \n",
       "Q 1259 2794 1537 2939 \n",
       "Q 1816 3084 2150 3084 \n",
       "Q 2853 3084 3261 2657 \n",
       "Q 3669 2231 3669 1497 \n",
       "Q 3669 778 3244 343 \n",
       "Q 2819 -91 2113 -91 \n",
       "Q 1303 -91 875 529 \n",
       "Q 447 1150 447 2328 \n",
       "Q 447 3434 972 4092 \n",
       "Q 1497 4750 2381 4750 \n",
       "Q 2619 4750 2861 4703 \n",
       "Q 3103 4656 3366 4563 \n",
       "z\n",
       "\" transform=\"scale(0.015625)\"/>\n",
       "       </defs>\n",
       "       <use xlink:href=\"#DejaVuSans-30\"/>\n",
       "       <use xlink:href=\"#DejaVuSans-2e\" x=\"63.623047\"/>\n",
       "       <use xlink:href=\"#DejaVuSans-36\" x=\"95.410156\"/>\n",
       "      </g>\n",
       "     </g>\n",
       "    </g>\n",
       "    <g id=\"ytick_6\">\n",
       "     <g id=\"line2d_13\">\n",
       "      <g>\n",
       "       <use xlink:href=\"#mdc807dd958\" x=\"52.160938\" y=\"87.170767\" style=\"stroke: #000000; stroke-width: 0.8\"/>\n",
       "      </g>\n",
       "     </g>\n",
       "     <g id=\"text_14\">\n",
       "      <!-- 0.8 -->\n",
       "      <g transform=\"translate(29.257812 90.969986) scale(0.1 -0.1)\">\n",
       "       <defs>\n",
       "        <path id=\"DejaVuSans-38\" d=\"M 2034 2216 \n",
       "Q 1584 2216 1326 1975 \n",
       "Q 1069 1734 1069 1313 \n",
       "Q 1069 891 1326 650 \n",
       "Q 1584 409 2034 409 \n",
       "Q 2484 409 2743 651 \n",
       "Q 3003 894 3003 1313 \n",
       "Q 3003 1734 2745 1975 \n",
       "Q 2488 2216 2034 2216 \n",
       "z\n",
       "M 1403 2484 \n",
       "Q 997 2584 770 2862 \n",
       "Q 544 3141 544 3541 \n",
       "Q 544 4100 942 4425 \n",
       "Q 1341 4750 2034 4750 \n",
       "Q 2731 4750 3128 4425 \n",
       "Q 3525 4100 3525 3541 \n",
       "Q 3525 3141 3298 2862 \n",
       "Q 3072 2584 2669 2484 \n",
       "Q 3125 2378 3379 2068 \n",
       "Q 3634 1759 3634 1313 \n",
       "Q 3634 634 3220 271 \n",
       "Q 2806 -91 2034 -91 \n",
       "Q 1263 -91 848 271 \n",
       "Q 434 634 434 1313 \n",
       "Q 434 1759 690 2068 \n",
       "Q 947 2378 1403 2484 \n",
       "z\n",
       "M 1172 3481 \n",
       "Q 1172 3119 1398 2916 \n",
       "Q 1625 2713 2034 2713 \n",
       "Q 2441 2713 2670 2916 \n",
       "Q 2900 3119 2900 3481 \n",
       "Q 2900 3844 2670 4047 \n",
       "Q 2441 4250 2034 4250 \n",
       "Q 1625 4250 1398 4047 \n",
       "Q 1172 3844 1172 3481 \n",
       "z\n",
       "\" transform=\"scale(0.015625)\"/>\n",
       "       </defs>\n",
       "       <use xlink:href=\"#DejaVuSans-30\"/>\n",
       "       <use xlink:href=\"#DejaVuSans-2e\" x=\"63.623047\"/>\n",
       "       <use xlink:href=\"#DejaVuSans-38\" x=\"95.410156\"/>\n",
       "      </g>\n",
       "     </g>\n",
       "    </g>\n",
       "    <g id=\"ytick_7\">\n",
       "     <g id=\"line2d_14\">\n",
       "      <g>\n",
       "       <use xlink:href=\"#mdc807dd958\" x=\"52.160938\" y=\"59.015229\" style=\"stroke: #000000; stroke-width: 0.8\"/>\n",
       "      </g>\n",
       "     </g>\n",
       "     <g id=\"text_15\">\n",
       "      <!-- 1.0 -->\n",
       "      <g transform=\"translate(29.257812 62.814448) scale(0.1 -0.1)\">\n",
       "       <use xlink:href=\"#DejaVuSans-31\"/>\n",
       "       <use xlink:href=\"#DejaVuSans-2e\" x=\"63.623047\"/>\n",
       "       <use xlink:href=\"#DejaVuSans-30\" x=\"95.410156\"/>\n",
       "      </g>\n",
       "     </g>\n",
       "    </g>\n",
       "    <g id=\"ytick_8\">\n",
       "     <g id=\"line2d_15\">\n",
       "      <g>\n",
       "       <use xlink:href=\"#mdc807dd958\" x=\"52.160938\" y=\"30.859691\" style=\"stroke: #000000; stroke-width: 0.8\"/>\n",
       "      </g>\n",
       "     </g>\n",
       "     <g id=\"text_16\">\n",
       "      <!-- 1.2 -->\n",
       "      <g transform=\"translate(29.257812 34.65891) scale(0.1 -0.1)\">\n",
       "       <use xlink:href=\"#DejaVuSans-31\"/>\n",
       "       <use xlink:href=\"#DejaVuSans-2e\" x=\"63.623047\"/>\n",
       "       <use xlink:href=\"#DejaVuSans-32\" x=\"95.410156\"/>\n",
       "      </g>\n",
       "     </g>\n",
       "    </g>\n",
       "    <g id=\"text_17\">\n",
       "     <!-- $x_2$ -->\n",
       "     <g transform=\"translate(14.798438 138.548125) rotate(-90) scale(0.1 -0.1)\">\n",
       "      <use xlink:href=\"#DejaVuSans-Oblique-78\" transform=\"translate(0 0.3125)\"/>\n",
       "      <use xlink:href=\"#DejaVuSans-32\" transform=\"translate(59.179688 -16.09375) scale(0.7)\"/>\n",
       "     </g>\n",
       "    </g>\n",
       "   </g>\n",
       "   <g id=\"patch_3\">\n",
       "    <path d=\"M 52.160938 244.078125 \n",
       "L 52.160938 22.318125 \n",
       "\" style=\"fill: none; stroke: #000000; stroke-width: 0.8; stroke-linejoin: miter; stroke-linecap: square\"/>\n",
       "   </g>\n",
       "   <g id=\"patch_4\">\n",
       "    <path d=\"M 275.360937 244.078125 \n",
       "L 275.360937 22.318125 \n",
       "\" style=\"fill: none; stroke: #000000; stroke-width: 0.8; stroke-linejoin: miter; stroke-linecap: square\"/>\n",
       "   </g>\n",
       "   <g id=\"patch_5\">\n",
       "    <path d=\"M 52.160937 244.078125 \n",
       "L 275.360937 244.078125 \n",
       "\" style=\"fill: none; stroke: #000000; stroke-width: 0.8; stroke-linejoin: miter; stroke-linecap: square\"/>\n",
       "   </g>\n",
       "   <g id=\"patch_6\">\n",
       "    <path d=\"M 52.160937 22.318125 \n",
       "L 275.360937 22.318125 \n",
       "\" style=\"fill: none; stroke: #000000; stroke-width: 0.8; stroke-linejoin: miter; stroke-linecap: square\"/>\n",
       "   </g>\n",
       "   <g id=\"text_18\">\n",
       "    <!-- Dataset samples -->\n",
       "    <g transform=\"translate(113.418125 16.318125) scale(0.12 -0.12)\">\n",
       "     <defs>\n",
       "      <path id=\"DejaVuSans-44\" d=\"M 1259 4147 \n",
       "L 1259 519 \n",
       "L 2022 519 \n",
       "Q 2988 519 3436 956 \n",
       "Q 3884 1394 3884 2338 \n",
       "Q 3884 3275 3436 3711 \n",
       "Q 2988 4147 2022 4147 \n",
       "L 1259 4147 \n",
       "z\n",
       "M 628 4666 \n",
       "L 1925 4666 \n",
       "Q 3281 4666 3915 4102 \n",
       "Q 4550 3538 4550 2338 \n",
       "Q 4550 1131 3912 565 \n",
       "Q 3275 0 1925 0 \n",
       "L 628 0 \n",
       "L 628 4666 \n",
       "z\n",
       "\" transform=\"scale(0.015625)\"/>\n",
       "      <path id=\"DejaVuSans-61\" d=\"M 2194 1759 \n",
       "Q 1497 1759 1228 1600 \n",
       "Q 959 1441 959 1056 \n",
       "Q 959 750 1161 570 \n",
       "Q 1363 391 1709 391 \n",
       "Q 2188 391 2477 730 \n",
       "Q 2766 1069 2766 1631 \n",
       "L 2766 1759 \n",
       "L 2194 1759 \n",
       "z\n",
       "M 3341 1997 \n",
       "L 3341 0 \n",
       "L 2766 0 \n",
       "L 2766 531 \n",
       "Q 2569 213 2275 61 \n",
       "Q 1981 -91 1556 -91 \n",
       "Q 1019 -91 701 211 \n",
       "Q 384 513 384 1019 \n",
       "Q 384 1609 779 1909 \n",
       "Q 1175 2209 1959 2209 \n",
       "L 2766 2209 \n",
       "L 2766 2266 \n",
       "Q 2766 2663 2505 2880 \n",
       "Q 2244 3097 1772 3097 \n",
       "Q 1472 3097 1187 3025 \n",
       "Q 903 2953 641 2809 \n",
       "L 641 3341 \n",
       "Q 956 3463 1253 3523 \n",
       "Q 1550 3584 1831 3584 \n",
       "Q 2591 3584 2966 3190 \n",
       "Q 3341 2797 3341 1997 \n",
       "z\n",
       "\" transform=\"scale(0.015625)\"/>\n",
       "      <path id=\"DejaVuSans-74\" d=\"M 1172 4494 \n",
       "L 1172 3500 \n",
       "L 2356 3500 \n",
       "L 2356 3053 \n",
       "L 1172 3053 \n",
       "L 1172 1153 \n",
       "Q 1172 725 1289 603 \n",
       "Q 1406 481 1766 481 \n",
       "L 2356 481 \n",
       "L 2356 0 \n",
       "L 1766 0 \n",
       "Q 1100 0 847 248 \n",
       "Q 594 497 594 1153 \n",
       "L 594 3053 \n",
       "L 172 3053 \n",
       "L 172 3500 \n",
       "L 594 3500 \n",
       "L 594 4494 \n",
       "L 1172 4494 \n",
       "z\n",
       "\" transform=\"scale(0.015625)\"/>\n",
       "      <path id=\"DejaVuSans-73\" d=\"M 2834 3397 \n",
       "L 2834 2853 \n",
       "Q 2591 2978 2328 3040 \n",
       "Q 2066 3103 1784 3103 \n",
       "Q 1356 3103 1142 2972 \n",
       "Q 928 2841 928 2578 \n",
       "Q 928 2378 1081 2264 \n",
       "Q 1234 2150 1697 2047 \n",
       "L 1894 2003 \n",
       "Q 2506 1872 2764 1633 \n",
       "Q 3022 1394 3022 966 \n",
       "Q 3022 478 2636 193 \n",
       "Q 2250 -91 1575 -91 \n",
       "Q 1294 -91 989 -36 \n",
       "Q 684 19 347 128 \n",
       "L 347 722 \n",
       "Q 666 556 975 473 \n",
       "Q 1284 391 1588 391 \n",
       "Q 1994 391 2212 530 \n",
       "Q 2431 669 2431 922 \n",
       "Q 2431 1156 2273 1281 \n",
       "Q 2116 1406 1581 1522 \n",
       "L 1381 1569 \n",
       "Q 847 1681 609 1914 \n",
       "Q 372 2147 372 2553 \n",
       "Q 372 3047 722 3315 \n",
       "Q 1072 3584 1716 3584 \n",
       "Q 2034 3584 2315 3537 \n",
       "Q 2597 3491 2834 3397 \n",
       "z\n",
       "\" transform=\"scale(0.015625)\"/>\n",
       "      <path id=\"DejaVuSans-65\" d=\"M 3597 1894 \n",
       "L 3597 1613 \n",
       "L 953 1613 \n",
       "Q 991 1019 1311 708 \n",
       "Q 1631 397 2203 397 \n",
       "Q 2534 397 2845 478 \n",
       "Q 3156 559 3463 722 \n",
       "L 3463 178 \n",
       "Q 3153 47 2828 -22 \n",
       "Q 2503 -91 2169 -91 \n",
       "Q 1331 -91 842 396 \n",
       "Q 353 884 353 1716 \n",
       "Q 353 2575 817 3079 \n",
       "Q 1281 3584 2069 3584 \n",
       "Q 2775 3584 3186 3129 \n",
       "Q 3597 2675 3597 1894 \n",
       "z\n",
       "M 3022 2063 \n",
       "Q 3016 2534 2758 2815 \n",
       "Q 2500 3097 2075 3097 \n",
       "Q 1594 3097 1305 2825 \n",
       "Q 1016 2553 972 2059 \n",
       "L 3022 2063 \n",
       "z\n",
       "\" transform=\"scale(0.015625)\"/>\n",
       "      <path id=\"DejaVuSans-20\" transform=\"scale(0.015625)\"/>\n",
       "      <path id=\"DejaVuSans-6d\" d=\"M 3328 2828 \n",
       "Q 3544 3216 3844 3400 \n",
       "Q 4144 3584 4550 3584 \n",
       "Q 5097 3584 5394 3201 \n",
       "Q 5691 2819 5691 2113 \n",
       "L 5691 0 \n",
       "L 5113 0 \n",
       "L 5113 2094 \n",
       "Q 5113 2597 4934 2840 \n",
       "Q 4756 3084 4391 3084 \n",
       "Q 3944 3084 3684 2787 \n",
       "Q 3425 2491 3425 1978 \n",
       "L 3425 0 \n",
       "L 2847 0 \n",
       "L 2847 2094 \n",
       "Q 2847 2600 2669 2842 \n",
       "Q 2491 3084 2119 3084 \n",
       "Q 1678 3084 1418 2786 \n",
       "Q 1159 2488 1159 1978 \n",
       "L 1159 0 \n",
       "L 581 0 \n",
       "L 581 3500 \n",
       "L 1159 3500 \n",
       "L 1159 2956 \n",
       "Q 1356 3278 1631 3431 \n",
       "Q 1906 3584 2284 3584 \n",
       "Q 2666 3584 2933 3390 \n",
       "Q 3200 3197 3328 2828 \n",
       "z\n",
       "\" transform=\"scale(0.015625)\"/>\n",
       "      <path id=\"DejaVuSans-70\" d=\"M 1159 525 \n",
       "L 1159 -1331 \n",
       "L 581 -1331 \n",
       "L 581 3500 \n",
       "L 1159 3500 \n",
       "L 1159 2969 \n",
       "Q 1341 3281 1617 3432 \n",
       "Q 1894 3584 2278 3584 \n",
       "Q 2916 3584 3314 3078 \n",
       "Q 3713 2572 3713 1747 \n",
       "Q 3713 922 3314 415 \n",
       "Q 2916 -91 2278 -91 \n",
       "Q 1894 -91 1617 61 \n",
       "Q 1341 213 1159 525 \n",
       "z\n",
       "M 3116 1747 \n",
       "Q 3116 2381 2855 2742 \n",
       "Q 2594 3103 2138 3103 \n",
       "Q 1681 3103 1420 2742 \n",
       "Q 1159 2381 1159 1747 \n",
       "Q 1159 1113 1420 752 \n",
       "Q 1681 391 2138 391 \n",
       "Q 2594 391 2855 752 \n",
       "Q 3116 1113 3116 1747 \n",
       "z\n",
       "\" transform=\"scale(0.015625)\"/>\n",
       "      <path id=\"DejaVuSans-6c\" d=\"M 603 4863 \n",
       "L 1178 4863 \n",
       "L 1178 0 \n",
       "L 603 0 \n",
       "L 603 4863 \n",
       "z\n",
       "\" transform=\"scale(0.015625)\"/>\n",
       "     </defs>\n",
       "     <use xlink:href=\"#DejaVuSans-44\"/>\n",
       "     <use xlink:href=\"#DejaVuSans-61\" x=\"77.001953\"/>\n",
       "     <use xlink:href=\"#DejaVuSans-74\" x=\"138.28125\"/>\n",
       "     <use xlink:href=\"#DejaVuSans-61\" x=\"177.490234\"/>\n",
       "     <use xlink:href=\"#DejaVuSans-73\" x=\"238.769531\"/>\n",
       "     <use xlink:href=\"#DejaVuSans-65\" x=\"290.869141\"/>\n",
       "     <use xlink:href=\"#DejaVuSans-74\" x=\"352.392578\"/>\n",
       "     <use xlink:href=\"#DejaVuSans-20\" x=\"391.601562\"/>\n",
       "     <use xlink:href=\"#DejaVuSans-73\" x=\"423.388672\"/>\n",
       "     <use xlink:href=\"#DejaVuSans-61\" x=\"475.488281\"/>\n",
       "     <use xlink:href=\"#DejaVuSans-6d\" x=\"536.767578\"/>\n",
       "     <use xlink:href=\"#DejaVuSans-70\" x=\"634.179688\"/>\n",
       "     <use xlink:href=\"#DejaVuSans-6c\" x=\"697.65625\"/>\n",
       "     <use xlink:href=\"#DejaVuSans-65\" x=\"725.439453\"/>\n",
       "     <use xlink:href=\"#DejaVuSans-73\" x=\"786.962891\"/>\n",
       "    </g>\n",
       "   </g>\n",
       "   <g id=\"legend_1\">\n",
       "    <g id=\"patch_7\">\n",
       "     <path d=\"M 200.5125 149.37625 \n",
       "L 268.360937 149.37625 \n",
       "Q 270.360937 149.37625 270.360937 147.37625 \n",
       "L 270.360937 119.02 \n",
       "Q 270.360937 117.02 268.360937 117.02 \n",
       "L 200.5125 117.02 \n",
       "Q 198.5125 117.02 198.5125 119.02 \n",
       "L 198.5125 147.37625 \n",
       "Q 198.5125 149.37625 200.5125 149.37625 \n",
       "z\n",
       "\" style=\"fill: #ffffff; opacity: 0.8; stroke: #cccccc; stroke-linejoin: miter\"/>\n",
       "    </g>\n",
       "    <g id=\"PathCollection_3\">\n",
       "     <g>\n",
       "      <use xlink:href=\"#m926e7f5ff2\" x=\"212.5125\" y=\"125.993437\" style=\"fill: #1f77b4; stroke: #333333\"/>\n",
       "     </g>\n",
       "    </g>\n",
       "    <g id=\"text_19\">\n",
       "     <!-- Class 0 -->\n",
       "     <g transform=\"translate(230.5125 128.618437) scale(0.1 -0.1)\">\n",
       "      <defs>\n",
       "       <path id=\"DejaVuSans-43\" d=\"M 4122 4306 \n",
       "L 4122 3641 \n",
       "Q 3803 3938 3442 4084 \n",
       "Q 3081 4231 2675 4231 \n",
       "Q 1875 4231 1450 3742 \n",
       "Q 1025 3253 1025 2328 \n",
       "Q 1025 1406 1450 917 \n",
       "Q 1875 428 2675 428 \n",
       "Q 3081 428 3442 575 \n",
       "Q 3803 722 4122 1019 \n",
       "L 4122 359 \n",
       "Q 3791 134 3420 21 \n",
       "Q 3050 -91 2638 -91 \n",
       "Q 1578 -91 968 557 \n",
       "Q 359 1206 359 2328 \n",
       "Q 359 3453 968 4101 \n",
       "Q 1578 4750 2638 4750 \n",
       "Q 3056 4750 3426 4639 \n",
       "Q 3797 4528 4122 4306 \n",
       "z\n",
       "\" transform=\"scale(0.015625)\"/>\n",
       "      </defs>\n",
       "      <use xlink:href=\"#DejaVuSans-43\"/>\n",
       "      <use xlink:href=\"#DejaVuSans-6c\" x=\"69.824219\"/>\n",
       "      <use xlink:href=\"#DejaVuSans-61\" x=\"97.607422\"/>\n",
       "      <use xlink:href=\"#DejaVuSans-73\" x=\"158.886719\"/>\n",
       "      <use xlink:href=\"#DejaVuSans-73\" x=\"210.986328\"/>\n",
       "      <use xlink:href=\"#DejaVuSans-20\" x=\"263.085938\"/>\n",
       "      <use xlink:href=\"#DejaVuSans-30\" x=\"294.873047\"/>\n",
       "     </g>\n",
       "    </g>\n",
       "    <g id=\"PathCollection_4\">\n",
       "     <g>\n",
       "      <use xlink:href=\"#mbd444f5255\" x=\"212.5125\" y=\"140.671562\" style=\"fill: #ff7f0e; stroke: #333333\"/>\n",
       "     </g>\n",
       "    </g>\n",
       "    <g id=\"text_20\">\n",
       "     <!-- Class 1 -->\n",
       "     <g transform=\"translate(230.5125 143.296562) scale(0.1 -0.1)\">\n",
       "      <use xlink:href=\"#DejaVuSans-43\"/>\n",
       "      <use xlink:href=\"#DejaVuSans-6c\" x=\"69.824219\"/>\n",
       "      <use xlink:href=\"#DejaVuSans-61\" x=\"97.607422\"/>\n",
       "      <use xlink:href=\"#DejaVuSans-73\" x=\"158.886719\"/>\n",
       "      <use xlink:href=\"#DejaVuSans-73\" x=\"210.986328\"/>\n",
       "      <use xlink:href=\"#DejaVuSans-20\" x=\"263.085938\"/>\n",
       "      <use xlink:href=\"#DejaVuSans-31\" x=\"294.873047\"/>\n",
       "     </g>\n",
       "    </g>\n",
       "   </g>\n",
       "  </g>\n",
       " </g>\n",
       " <defs>\n",
       "  <clipPath id=\"pf59590e772\">\n",
       "   <rect x=\"52.160938\" y=\"22.318125\" width=\"223.2\" height=\"221.76\"/>\n",
       "  </clipPath>\n",
       " </defs>\n",
       "</svg>\n"
      ],
      "text/plain": [
       "<Figure size 400x400 with 1 Axes>"
      ]
     },
     "metadata": {},
     "output_type": "display_data"
    }
   ],
   "source": [
    "visualize_samples(dataset.data, dataset.label)\n",
    "plt.show()"
   ]
  },
  {
   "cell_type": "markdown",
   "id": "2ba43744",
   "metadata": {
    "id": "2ba43744",
    "papermill": {
     "duration": 0.016756,
     "end_time": "2023-05-03T17:05:43.708887",
     "exception": false,
     "start_time": "2023-05-03T17:05:43.692131",
     "status": "completed"
    },
    "tags": []
   },
   "source": [
    "#### La clase Data Loader\n",
    "\n",
    "La clase `torch.utils.data.DataLoader` representa un Python iterable sobre un conjunto de datos con soporte para procesamiento por lotes automático, carga de datos multiproceso y muchas más funciones.\n",
    "El cargador de datos se comunica con el conjunto de datos mediante la función `__getitem__` y apila sus resultados como tensores sobre la primera dimensión para formar un lote.\n",
    "A diferencia de la clase de conjunto de datos, normalmente no tenemos que definir nuestra propia clase de cargador de datos, sino que podemos crear un objeto con el conjunto de datos como entrada.\n",
    "Además, podemos configurar nuestro cargador de datos con los siguientes argumentos de entrada :\n",
    "\n",
    "* `batch_size`: número de muestras a apilar por lote\n",
    "* `shuffle`: si es verdadero, los datos se devuelven en orden aleatorio.\n",
    "Esto es importante durante el entrenamiento para introducir la estocasticidad.\n",
    "* `num_workers`: Número de subprocesos a utilizar para la carga de datos.\n",
    "El valor predeterminado, 0, significa que los datos se cargarán en el proceso principal, lo que puede ralentizar el entrenamiento de conjuntos de datos en los que la carga de un punto de datos lleva una cantidad de tiempo considerable (por ejemplo, imágenes grandes).\n",
    "Se recomiendan más trabajadores para esos, pero pueden causar problemas en las computadoras con Windows.\n",
    "Para conjuntos de datos pequeños como el nuestro, 0 trabajadores suelen ser más rápidos.\n",
    "* `pin_memory`: si es verdadero, el cargador de datos copiará los tensores en la memoria anclada de CUDA antes de devolverlos.\n",
    "Esto puede ahorrar algo de tiempo para grandes puntos de datos en las GPU.\n",
    "Por lo general, es una buena práctica usarla para un conjunto de entrenamiento, pero no necesariamente para la validación y prueba para ahorrar memoria en la GPU.\n",
    "* `drop_last`: si es verdadero, el último lote se elimina en caso de que sea más pequeño que el tamaño de lote especificado.\n",
    "Esto ocurre cuando el tamaño del conjunto de datos no es un múltiplo del tamaño del lote.\n",
    "Solo potencialmente útil durante el entrenamiento para mantener un tamaño de lote constante.\n",
    "\n",
    "Vamos a crear un cargador de datos simple a continuación:"
   ]
  },
  {
   "cell_type": "code",
   "execution_count": 16,
   "id": "b8340f4e",
   "metadata": {
    "execution": {
     "iopub.execute_input": "2023-05-03T17:05:43.743666Z",
     "iopub.status.busy": "2023-05-03T17:05:43.743469Z",
     "iopub.status.idle": "2023-05-03T17:05:43.748303Z",
     "shell.execute_reply": "2023-05-03T17:05:43.747331Z"
    },
    "id": "b8340f4e",
    "papermill": {
     "duration": 0.02406,
     "end_time": "2023-05-03T17:05:43.749778",
     "exception": false,
     "start_time": "2023-05-03T17:05:43.725718",
     "status": "completed"
    },
    "tags": []
   },
   "outputs": [],
   "source": [
    "data_loader = data.DataLoader(dataset, batch_size=8, shuffle=True)"
   ]
  },
  {
   "cell_type": "code",
   "execution_count": 17,
   "id": "4af97b63",
   "metadata": {
    "execution": {
     "iopub.execute_input": "2023-05-03T17:05:43.787248Z",
     "iopub.status.busy": "2023-05-03T17:05:43.786922Z",
     "iopub.status.idle": "2023-05-03T17:05:43.794374Z",
     "shell.execute_reply": "2023-05-03T17:05:43.793398Z"
    },
    "id": "4af97b63",
    "outputId": "d53fe086-31c3-44f1-9516-5766300ee224",
    "papermill": {
     "duration": 0.026784,
     "end_time": "2023-05-03T17:05:43.796113",
     "exception": false,
     "start_time": "2023-05-03T17:05:43.769329",
     "status": "completed"
    },
    "tags": []
   },
   "outputs": [
    {
     "name": "stdout",
     "output_type": "stream",
     "text": [
      "Data inputs torch.Size([8, 2]) \n",
      " tensor([[-0.0782,  1.0701],\n",
      "        [ 1.0293,  0.8674],\n",
      "        [ 0.9139,  0.0374],\n",
      "        [-0.0521,  0.0157],\n",
      "        [ 1.2107, -0.1912],\n",
      "        [-0.1701,  1.0550],\n",
      "        [-0.1417,  1.0349],\n",
      "        [ 0.9326,  1.0584]])\n",
      "Data labels torch.Size([8]) \n",
      " tensor([1, 0, 1, 0, 1, 1, 1, 0])\n"
     ]
    }
   ],
   "source": [
    "# next(iter(...)) catches the first batch of the data loader\n",
    "# If shuffle is True, this will return a different batch every time we run this cell\n",
    "# For iterating over the whole dataset, we can simple use \"for batch in data_loader: ...\"\n",
    "data_inputs, data_labels = next(iter(data_loader))\n",
    "\n",
    "# The shape of the outputs are [batch_size, d_1,...,d_N] where d_1,...,d_N are the\n",
    "# dimensions of the data point returned from the dataset class\n",
    "print(\"Data inputs\", data_inputs.shape, \"\\n\", data_inputs)\n",
    "print(\"Data labels\", data_labels.shape, \"\\n\", data_labels)"
   ]
  },
  {
   "cell_type": "markdown",
   "id": "674f9f9f",
   "metadata": {
    "id": "674f9f9f",
    "papermill": {
     "duration": 0.01695,
     "end_time": "2023-05-03T17:05:43.835343",
     "exception": false,
     "start_time": "2023-05-03T17:05:43.818393",
     "status": "completed"
    },
    "tags": []
   },
   "source": [
    "### Optimización\n",
    "\n",
    "Después de definir el modelo y el conjunto de datos, es hora de preparar la optimización del modelo.\n",
    "Durante el entrenamiento, realizaremos los siguientes pasos:\n",
    "\n",
    "1. Obtenga un lote del cargador de datos\n",
    "2. Obtenga las predicciones del modelo para el lote\n",
    "3. Calcule la pérdida en función de la diferencia entre predicciones y etiquetas\n",
    "4. Backpropagation: calcula los gradientes de cada parámetro con respecto a la pérdida\n",
    "5. Actualice los parámetros del modelo en la dirección de los gradientes\n",
    "\n",
    "Hemos visto cómo podemos hacer los pasos 1, 2 y 4 en PyTorch. Ahora, veremos los pasos 3 y 5."
   ]
  },
  {
   "cell_type": "markdown",
   "id": "6e3fde96",
   "metadata": {
    "id": "6e3fde96",
    "papermill": {
     "duration": 0.017241,
     "end_time": "2023-05-03T17:05:43.869931",
     "exception": false,
     "start_time": "2023-05-03T17:05:43.852690",
     "status": "completed"
    },
    "tags": []
   },
   "source": [
    "#### Módulos de pérdida\n",
    "\n",
    "Podemos calcular la pérdida de un lote simplemente realizando algunas operaciones de tensor, ya que se agregan automáticamente al gráfico de cálculo.\n",
    "Por ejemplo, para la clasificación binaria, podemos usar Binary Cross Entropy (BCE), que se define de la siguiente manera:\n",
    "\n",
    "$$\\mathcal{L}_{BCE} = -\\sum_i \\left[ y_i \\log x_i + (1 - y_i) \\log (1 - x_i) \\right]$$\n",
    "\n",
    "donde $y$ son nuestras etiquetas y $x$ nuestras predicciones, ambas en el rango de $[0,1]$.\n",
    "Sin embargo, PyTorch ya proporciona una lista de funciones de pérdida predefinidas que podemos usar (consulte [aquí](https://pytorch.org/docs/stable/nn.html#loss-functions) para obtener una lista completa).\n",
    "Por ejemplo, para BCE, PyTorch tiene dos módulos: `nn.BCELoss()`, `nn.BCEWithLogitsLoss()`.\n",
    "Mientras que `nn.BCELoss` espera que las entradas $x$ estén en el rango $[0,1]$, es decir, la salida de un sigmoide, `nn.BCEWithLogitsLoss` combina una capa sigmoide y la pérdida BCE en una sola clase.\n",
    "Esta versión es numéricamente más estable que usar un sigmoide simple seguido de una pérdida BCE debido a los logaritmos aplicados en la función de pérdida.\n",
    "Por lo tanto, se recomienda utilizar funciones de pérdida aplicadas en \"logits\" siempre que sea posible (¡recuerde no aplicar un sigmoide en la salida del modelo en este caso!).\n",
    "Para nuestro modelo definido anteriormente, usamos el módulo `nn.BCEWithLogitsLoss`."
   ]
  },
  {
   "cell_type": "code",
   "execution_count": 18,
   "id": "1b451a17",
   "metadata": {
    "execution": {
     "iopub.execute_input": "2023-05-03T17:05:43.905790Z",
     "iopub.status.busy": "2023-05-03T17:05:43.905007Z",
     "iopub.status.idle": "2023-05-03T17:05:43.918030Z",
     "shell.execute_reply": "2023-05-03T17:05:43.916530Z"
    },
    "id": "1b451a17",
    "papermill": {
     "duration": 0.033627,
     "end_time": "2023-05-03T17:05:43.920725",
     "exception": false,
     "start_time": "2023-05-03T17:05:43.887098",
     "status": "completed"
    },
    "tags": []
   },
   "outputs": [],
   "source": [
    "loss_module = nn.BCEWithLogitsLoss()"
   ]
  },
  {
   "cell_type": "markdown",
   "id": "9bd1e1d8",
   "metadata": {
    "id": "9bd1e1d8",
    "papermill": {
     "duration": 0.016975,
     "end_time": "2023-05-03T17:05:43.961517",
     "exception": false,
     "start_time": "2023-05-03T17:05:43.944542",
     "status": "completed"
    },
    "tags": []
   },
   "source": [
    "#### Descenso de gradiente estocástico\n",
    "\n",
    "Para actualizar los parámetros, PyTorch proporciona el paquete `torch.optim` que tiene implementados los optimizadores más populares.\n",
    "Discutiremos los optimizadores específicos y sus diferencias más adelante en el curso, pero por ahora usaremos el más simple de ellos: `torch.optim.SGD`.\n",
    "Stochastic Gradient Descent actualiza los parámetros multiplicando los gradientes con una pequeña constante, llamada tasa de aprendizaje, y restándolos de los parámetros (por lo tanto, minimizando la pérdida).\n",
    "Por lo tanto, nos movemos lentamente hacia la dirección de minimizar la pérdida.\n",
    "Un buen valor predeterminado de la tasa de aprendizaje para una red pequeña como la nuestra es 0,1."
   ]
  },
  {
   "cell_type": "code",
   "execution_count": 19,
   "id": "a7afc4e4",
   "metadata": {
    "execution": {
     "iopub.execute_input": "2023-05-03T17:05:44.003453Z",
     "iopub.status.busy": "2023-05-03T17:05:44.002542Z",
     "iopub.status.idle": "2023-05-03T17:05:44.008847Z",
     "shell.execute_reply": "2023-05-03T17:05:44.007551Z"
    },
    "id": "a7afc4e4",
    "papermill": {
     "duration": 0.031937,
     "end_time": "2023-05-03T17:05:44.010547",
     "exception": false,
     "start_time": "2023-05-03T17:05:43.978610",
     "status": "completed"
    },
    "tags": []
   },
   "outputs": [],
   "source": [
    "# Input to the optimizer are the parameters of the model: model.parameters()\n",
    "optimizer = torch.optim.SGD(model.parameters(), lr=0.1)"
   ]
  },
  {
   "cell_type": "markdown",
   "id": "1a54f1c7",
   "metadata": {
    "id": "1a54f1c7",
    "papermill": {
     "duration": 0.017314,
     "end_time": "2023-05-03T17:05:44.084594",
     "exception": false,
     "start_time": "2023-05-03T17:05:44.067280",
     "status": "completed"
    },
    "tags": []
   },
   "source": [
    "### Training\n",
    "\n",
    "Entrenamiento del módelo\n",
    "Como primer paso, creamos un conjunto de datos un poco más grande y especificamos un data loader con un tamaño de batch más grande."
   ]
  },
  {
   "cell_type": "code",
   "execution_count": 20,
   "id": "1923355a",
   "metadata": {
    "execution": {
     "iopub.execute_input": "2023-05-03T17:05:44.120452Z",
     "iopub.status.busy": "2023-05-03T17:05:44.120178Z",
     "iopub.status.idle": "2023-05-03T17:05:44.125504Z",
     "shell.execute_reply": "2023-05-03T17:05:44.124477Z"
    },
    "id": "1923355a",
    "papermill": {
     "duration": 0.024772,
     "end_time": "2023-05-03T17:05:44.126903",
     "exception": false,
     "start_time": "2023-05-03T17:05:44.102131",
     "status": "completed"
    },
    "tags": []
   },
   "outputs": [],
   "source": [
    "train_dataset = XORDataset(size=1000)\n",
    "train_data_loader = data.DataLoader(train_dataset, batch_size=128, shuffle=True)"
   ]
  },
  {
   "cell_type": "markdown",
   "id": "c803fa4e",
   "metadata": {
    "id": "c803fa4e",
    "papermill": {
     "duration": 0.017166,
     "end_time": "2023-05-03T17:05:44.167815",
     "exception": false,
     "start_time": "2023-05-03T17:05:44.150649",
     "status": "completed"
    },
    "tags": []
   },
   "source": [
    "Se crea una función para el entrenamiento.\n",
    "\n",
    "Los 5 pasos son: cargar un batch, obtener predicciones, calcular la perdida, backpropagate y actualizar.\n",
    "\n",
    "Se carga en GPU si está disponible:"
   ]
  },
  {
   "cell_type": "code",
   "execution_count": 21,
   "id": "3f3e2afe",
   "metadata": {
    "execution": {
     "iopub.execute_input": "2023-05-03T17:05:44.204065Z",
     "iopub.status.busy": "2023-05-03T17:05:44.203353Z",
     "iopub.status.idle": "2023-05-03T17:05:44.211305Z",
     "shell.execute_reply": "2023-05-03T17:05:44.210238Z"
    },
    "id": "3f3e2afe",
    "outputId": "edb58f26-4ba1-4973-f578-c4e96ba6affb",
    "papermill": {
     "duration": 0.028608,
     "end_time": "2023-05-03T17:05:44.213719",
     "exception": false,
     "start_time": "2023-05-03T17:05:44.185111",
     "status": "completed"
    },
    "tags": []
   },
   "outputs": [
    {
     "data": {
      "text/plain": [
       "SimpleClassifier(\n",
       "  (linear1): Linear(in_features=2, out_features=4, bias=True)\n",
       "  (act_fn): Tanh()\n",
       "  (linear2): Linear(in_features=4, out_features=1, bias=True)\n",
       ")"
      ]
     },
     "execution_count": 21,
     "metadata": {},
     "output_type": "execute_result"
    }
   ],
   "source": [
    "# Push model to device. Has to be only done once\n",
    "model.to(device)"
   ]
  },
  {
   "cell_type": "markdown",
   "id": "739f0776",
   "metadata": {
    "id": "739f0776",
    "lines_to_next_cell": 2,
    "papermill": {
     "duration": 0.017038,
     "end_time": "2023-05-03T17:05:44.253510",
     "exception": false,
     "start_time": "2023-05-03T17:05:44.236472",
     "status": "completed"
    },
    "tags": []
   },
   "source": [
    "Además, configuramos nuestro modelo en modo de entrenamiento.\n",
    "Esto se hace llamando a `model.train()`.\n",
    "Existen ciertos módulos que necesitan realizar un reenvío diferente\n",
    "paso durante el entrenamiento que durante la prueba (por ejemplo, BatchNorm y Dropout),\n",
    "y podemos cambiar entre ellos usando `model.train()` y `model.eval()`."
   ]
  },
  {
   "cell_type": "code",
   "execution_count": 22,
   "id": "fde2e593",
   "metadata": {
    "execution": {
     "iopub.execute_input": "2023-05-03T17:05:44.289072Z",
     "iopub.status.busy": "2023-05-03T17:05:44.288678Z",
     "iopub.status.idle": "2023-05-03T17:05:44.296117Z",
     "shell.execute_reply": "2023-05-03T17:05:44.295058Z"
    },
    "id": "fde2e593",
    "papermill": {
     "duration": 0.027777,
     "end_time": "2023-05-03T17:05:44.298379",
     "exception": false,
     "start_time": "2023-05-03T17:05:44.270602",
     "status": "completed"
    },
    "tags": []
   },
   "outputs": [],
   "source": [
    "def train_model(model, optimizer, data_loader, loss_module, num_epochs=100):\n",
    "    # Set model to train mode\n",
    "    model.train()\n",
    "\n",
    "    # Training loop\n",
    "    for epoch in tqdm(range(num_epochs)):\n",
    "        for data_inputs, data_labels in data_loader:\n",
    "            # Step 1: Move input data to device (only strictly necessary if we use GPU)\n",
    "            data_inputs = data_inputs.to(device)\n",
    "            data_labels = data_labels.to(device)\n",
    "\n",
    "            # Step 2: Run the model on the input data\n",
    "            preds = model(data_inputs)\n",
    "            preds = preds.squeeze(dim=1)  # Output is [Batch size, 1], but we want [Batch size]\n",
    "\n",
    "            # Step 3: Calculate the loss\n",
    "            loss = loss_module(preds, data_labels.float())\n",
    "\n",
    "            # Step 4: Perform backpropagation\n",
    "            # Before calculating the gradients, we need to ensure that they are all zero.\n",
    "            # The gradients would not be overwritten, but actually added to the existing ones.\n",
    "            optimizer.zero_grad()\n",
    "            # Perform backpropagation\n",
    "            loss.backward()\n",
    "\n",
    "            # Step 5: Update the parameters\n",
    "            optimizer.step()"
   ]
  },
  {
   "cell_type": "code",
   "execution_count": 23,
   "id": "1e129f50",
   "metadata": {
    "colab": {
     "referenced_widgets": [
      "ca606dd66a2f40b7923ceeec1e9ae27e"
     ]
    },
    "execution": {
     "iopub.execute_input": "2023-05-03T17:05:44.339637Z",
     "iopub.status.busy": "2023-05-03T17:05:44.338794Z",
     "iopub.status.idle": "2023-05-03T17:05:45.856315Z",
     "shell.execute_reply": "2023-05-03T17:05:45.855088Z"
    },
    "id": "1e129f50",
    "outputId": "de7a563e-3650-43f5-d3a7-47a5ac0c122f",
    "papermill": {
     "duration": 1.538361,
     "end_time": "2023-05-03T17:05:45.859005",
     "exception": false,
     "start_time": "2023-05-03T17:05:44.320644",
     "status": "completed"
    },
    "tags": []
   },
   "outputs": [
    {
     "data": {
      "application/vnd.jupyter.widget-view+json": {
       "model_id": "4c5f9a6f392948458ea1187d14b7cdc6",
       "version_major": 2,
       "version_minor": 0
      },
      "text/plain": [
       "  0%|          | 0/100 [00:00<?, ?it/s]"
      ]
     },
     "metadata": {},
     "output_type": "display_data"
    }
   ],
   "source": [
    "train_model(model, optimizer, train_data_loader, loss_module)"
   ]
  },
  {
   "cell_type": "markdown",
   "id": "0ff3f2e8",
   "metadata": {
    "id": "0ff3f2e8",
    "papermill": {
     "duration": 0.017732,
     "end_time": "2023-05-03T17:05:45.897333",
     "exception": false,
     "start_time": "2023-05-03T17:05:45.879601",
     "status": "completed"
    },
    "tags": []
   },
   "source": [
    "#### Guardar el modelo\n",
    "\n",
    "Después de terminar de entrenar un modelo, guardamos el modelo en el disco para que podamos cargar los mismos pesos en un momento posterior.\n",
    "Para esto, extraemos el llamado `state_dict` del modelo que contiene todos los parámetros que se pueden aprender.\n",
    "Para nuestro modelo simple, el dict de estado contiene las siguientes entradas:"
   ]
  },
  {
   "cell_type": "code",
   "execution_count": 25,
   "id": "c825b6b7",
   "metadata": {
    "execution": {
     "iopub.execute_input": "2023-05-03T17:05:45.934336Z",
     "iopub.status.busy": "2023-05-03T17:05:45.933916Z",
     "iopub.status.idle": "2023-05-03T17:05:45.942934Z",
     "shell.execute_reply": "2023-05-03T17:05:45.941850Z"
    },
    "id": "c825b6b7",
    "outputId": "870f7da5-51bc-40c3-80eb-30d5bcf6a435",
    "papermill": {
     "duration": 0.029671,
     "end_time": "2023-05-03T17:05:45.944737",
     "exception": false,
     "start_time": "2023-05-03T17:05:45.915066",
     "status": "completed"
    },
    "tags": []
   },
   "outputs": [
    {
     "name": "stdout",
     "output_type": "stream",
     "text": [
      "OrderedDict([('linear1.weight', tensor([[ 1.8116, -1.3464],\n",
      "        [-0.7308, -1.5574],\n",
      "        [-2.4316, -2.0278],\n",
      "        [ 0.2635,  0.5779]])), ('linear1.bias', tensor([0.9666, 1.5716, 0.7613, 0.8400])), ('linear2.weight', tensor([[-1.9564,  2.1000, -2.7764, -0.3966]])), ('linear2.bias', tensor([-0.4786]))])\n"
     ]
    }
   ],
   "source": [
    "state_dict = model.state_dict()\n",
    "print(state_dict)"
   ]
  },
  {
   "cell_type": "markdown",
   "id": "61d04b29",
   "metadata": {
    "id": "61d04b29",
    "papermill": {
     "duration": 0.017645,
     "end_time": "2023-05-03T17:05:45.984474",
     "exception": false,
     "start_time": "2023-05-03T17:05:45.966829",
     "status": "completed"
    },
    "tags": []
   },
   "source": [
    "Para guardar el estado del diccionario `torch.save`:"
   ]
  },
  {
   "cell_type": "code",
   "execution_count": 26,
   "id": "3525fb6c",
   "metadata": {
    "execution": {
     "iopub.execute_input": "2023-05-03T17:05:46.020720Z",
     "iopub.status.busy": "2023-05-03T17:05:46.020482Z",
     "iopub.status.idle": "2023-05-03T17:05:46.026276Z",
     "shell.execute_reply": "2023-05-03T17:05:46.025245Z"
    },
    "id": "3525fb6c",
    "papermill": {
     "duration": 0.025959,
     "end_time": "2023-05-03T17:05:46.027980",
     "exception": false,
     "start_time": "2023-05-03T17:05:46.002021",
     "status": "completed"
    },
    "tags": []
   },
   "outputs": [],
   "source": [
    "# torch.save(object, filename). For the filename, any extension can be used\n",
    "torch.save(state_dict, \"our_model.tar\")"
   ]
  },
  {
   "cell_type": "markdown",
   "id": "25497e90",
   "metadata": {
    "id": "25497e90",
    "papermill": {
     "duration": 0.017542,
     "end_time": "2023-05-03T17:05:46.069402",
     "exception": false,
     "start_time": "2023-05-03T17:05:46.051860",
     "status": "completed"
    },
    "tags": []
   },
   "source": [
    "Para cargar un modelo desde un dictado de estado, usamos la función `torch.load` para\n",
    "cargue el dictado de estado desde el disco y la función del módulo\n",
    "`load_state_dict` para sobrescribir nuestros parámetros con los nuevos valores:"
   ]
  },
  {
   "cell_type": "code",
   "execution_count": 27,
   "id": "843e3805",
   "metadata": {
    "execution": {
     "iopub.execute_input": "2023-05-03T17:05:46.106420Z",
     "iopub.status.busy": "2023-05-03T17:05:46.105513Z",
     "iopub.status.idle": "2023-05-03T17:05:46.119012Z",
     "shell.execute_reply": "2023-05-03T17:05:46.118022Z"
    },
    "id": "843e3805",
    "outputId": "542e741c-7850-4725-ad4e-acffc2cf8cc4",
    "papermill": {
     "duration": 0.03451,
     "end_time": "2023-05-03T17:05:46.121422",
     "exception": false,
     "start_time": "2023-05-03T17:05:46.086912",
     "status": "completed"
    },
    "tags": []
   },
   "outputs": [
    {
     "name": "stdout",
     "output_type": "stream",
     "text": [
      "Original model\n",
      " OrderedDict([('linear1.weight', tensor([[ 1.8116, -1.3464],\n",
      "        [-0.7308, -1.5574],\n",
      "        [-2.4316, -2.0278],\n",
      "        [ 0.2635,  0.5779]])), ('linear1.bias', tensor([0.9666, 1.5716, 0.7613, 0.8400])), ('linear2.weight', tensor([[-1.9564,  2.1000, -2.7764, -0.3966]])), ('linear2.bias', tensor([-0.4786]))])\n",
      "\n",
      "Loaded model\n",
      " OrderedDict([('linear1.weight', tensor([[ 1.8116, -1.3464],\n",
      "        [-0.7308, -1.5574],\n",
      "        [-2.4316, -2.0278],\n",
      "        [ 0.2635,  0.5779]])), ('linear1.bias', tensor([0.9666, 1.5716, 0.7613, 0.8400])), ('linear2.weight', tensor([[-1.9564,  2.1000, -2.7764, -0.3966]])), ('linear2.bias', tensor([-0.4786]))])\n"
     ]
    }
   ],
   "source": [
    "# Load state dict from the disk (make sure it is the same name as above)\n",
    "state_dict = torch.load(\"our_model.tar\")\n",
    "\n",
    "# Create a new model and load the state\n",
    "new_model = SimpleClassifier(num_inputs=2, num_hidden=4, num_outputs=1)\n",
    "new_model.load_state_dict(state_dict)\n",
    "\n",
    "# Verify that the parameters are the same\n",
    "print(\"Original model\\n\", model.state_dict())\n",
    "print(\"\\nLoaded model\\n\", new_model.state_dict())"
   ]
  },
  {
   "cell_type": "markdown",
   "id": "1a4dd011",
   "metadata": {
    "id": "1a4dd011",
    "papermill": {
     "duration": 0.017505,
     "end_time": "2023-05-03T17:05:46.196436",
     "exception": false,
     "start_time": "2023-05-03T17:05:46.178931",
     "status": "completed"
    },
    "tags": []
   },
   "source": [
    "### Evaluación\n",
    "\n",
    "Una vez que hemos entrenado un modelo, es hora de evaluarlo en un conjunto de prueba extendido.\n",
    "Como nuestro conjunto de datos consiste en puntos de datos generados aleatoriamente, necesitamos\n",
    "primero cree un conjunto de prueba con un cargador de datos correspondiente."
   ]
  },
  {
   "cell_type": "code",
   "execution_count": 28,
   "id": "327a92fe",
   "metadata": {
    "execution": {
     "iopub.execute_input": "2023-05-03T17:05:46.233866Z",
     "iopub.status.busy": "2023-05-03T17:05:46.232847Z",
     "iopub.status.idle": "2023-05-03T17:05:46.239227Z",
     "shell.execute_reply": "2023-05-03T17:05:46.238153Z"
    },
    "id": "327a92fe",
    "papermill": {
     "duration": 0.026884,
     "end_time": "2023-05-03T17:05:46.240966",
     "exception": false,
     "start_time": "2023-05-03T17:05:46.214082",
     "status": "completed"
    },
    "tags": []
   },
   "outputs": [],
   "source": [
    "test_dataset = XORDataset(size=500)\n",
    "# drop_last -> Don't drop the last batch although it is smaller than 128\n",
    "test_data_loader = data.DataLoader(test_dataset, batch_size=128, shuffle=False, drop_last=False)"
   ]
  },
  {
   "cell_type": "code",
   "execution_count": 29,
   "id": "e477e470",
   "metadata": {
    "execution": {
     "iopub.execute_input": "2023-05-03T17:05:46.317652Z",
     "iopub.status.busy": "2023-05-03T17:05:46.316857Z",
     "iopub.status.idle": "2023-05-03T17:05:46.324307Z",
     "shell.execute_reply": "2023-05-03T17:05:46.323166Z"
    },
    "id": "e477e470",
    "papermill": {
     "duration": 0.027924,
     "end_time": "2023-05-03T17:05:46.325970",
     "exception": false,
     "start_time": "2023-05-03T17:05:46.298046",
     "status": "completed"
    },
    "tags": []
   },
   "outputs": [],
   "source": [
    "def eval_model(model, data_loader):\n",
    "    model.eval()  # Set model to eval mode\n",
    "    true_preds, num_preds = 0.0, 0.0\n",
    "\n",
    "    with torch.no_grad():  # Deactivate gradients for the following code\n",
    "        for data_inputs, data_labels in data_loader:\n",
    "            # Determine prediction of model on dev set\n",
    "            data_inputs, data_labels = data_inputs.to(device), data_labels.to(device)\n",
    "            preds = model(data_inputs)\n",
    "            preds = preds.squeeze(dim=1)\n",
    "            preds = torch.sigmoid(preds)  # Sigmoid to map predictions between 0 and 1\n",
    "            pred_labels = (preds >= 0.5).long()  # Binarize predictions to 0 and 1\n",
    "\n",
    "            # Keep records of predictions for the accuracy metric (true_preds=TP+TN, num_preds=TP+TN+FP+FN)\n",
    "            true_preds += (pred_labels == data_labels).sum()\n",
    "            num_preds += data_labels.shape[0]\n",
    "\n",
    "    acc = true_preds / num_preds\n",
    "    print(f\"Accuracy of the model: {100.0*acc:4.2f}%\")"
   ]
  },
  {
   "cell_type": "code",
   "execution_count": 30,
   "id": "c7830b8d",
   "metadata": {
    "execution": {
     "iopub.execute_input": "2023-05-03T17:05:46.366140Z",
     "iopub.status.busy": "2023-05-03T17:05:46.365886Z",
     "iopub.status.idle": "2023-05-03T17:05:46.376759Z",
     "shell.execute_reply": "2023-05-03T17:05:46.375637Z"
    },
    "id": "c7830b8d",
    "outputId": "b86e6c87-768f-4bf0-82be-261a52c37324",
    "papermill": {
     "duration": 0.031743,
     "end_time": "2023-05-03T17:05:46.379152",
     "exception": false,
     "start_time": "2023-05-03T17:05:46.347409",
     "status": "completed"
    },
    "tags": []
   },
   "outputs": [
    {
     "name": "stdout",
     "output_type": "stream",
     "text": [
      "Accuracy of the model: 100.00%\n"
     ]
    }
   ],
   "source": [
    "eval_model(model, test_data_loader)"
   ]
  },
  {
   "cell_type": "markdown",
   "id": "16b231de",
   "metadata": {
    "id": "16b231de",
    "lines_to_next_cell": 2,
    "papermill": {
     "duration": 0.017705,
     "end_time": "2023-05-03T17:05:46.454737",
     "exception": false,
     "start_time": "2023-05-03T17:05:46.437032",
     "status": "completed"
    },
    "tags": []
   },
   "source": [
    "#### Visualización de límites de clasificación\n",
    "\n",
    "Para visualizar lo que nuestro modelo ha aprendido, podemos realizar una predicción para cada punto de datos en un rango de $[-0.5, 1.5]$ y visualizar la clase pronosticada como en la figura de muestra al comienzo de esta sección.\n",
    "Esto muestra dónde el modelo ha creado límites de decisión y qué puntos se clasificarían como $0$ y cuáles como $1$.\n",
    "Por lo tanto, obtenemos una imagen de fondo de color azul (clase 0) y naranja (clase 1).\n",
    "Los puntos donde el modelo es incierto veremos una superposición borrosa.\n",
    "El código específico es menos relevante en comparación con la cifra de salida que\n",
    "debería mostrarnos una clara separación de clases:"
   ]
  },
  {
   "cell_type": "code",
   "execution_count": 31,
   "id": "cd931934",
   "metadata": {
    "execution": {
     "iopub.execute_input": "2023-05-03T17:05:46.491959Z",
     "iopub.status.busy": "2023-05-03T17:05:46.491538Z",
     "iopub.status.idle": "2023-05-03T17:05:46.887916Z",
     "shell.execute_reply": "2023-05-03T17:05:46.878892Z"
    },
    "id": "cd931934",
    "outputId": "b16a4feb-84ed-47cb-8b7f-b583950f9b55",
    "papermill": {
     "duration": 0.417745,
     "end_time": "2023-05-03T17:05:46.890198",
     "exception": false,
     "start_time": "2023-05-03T17:05:46.472453",
     "status": "completed"
    },
    "tags": []
   },
   "outputs": [
    {
     "name": "stderr",
     "output_type": "stream",
     "text": [
      "C:\\Users\\ASUS\\anaconda3\\envs\\Pruebas\\lib\\site-packages\\torch\\functional.py:478: UserWarning: torch.meshgrid: in an upcoming release, it will be required to pass the indexing argument. (Triggered internally at  C:\\b\\abs_f0dma8qm3d\\croot\\pytorch_1669187301762\\work\\aten\\src\\ATen\\native\\TensorShape.cpp:2895.)\n",
      "  return _VF.meshgrid(tensors, **kwargs)  # type: ignore[attr-defined]\n"
     ]
    },
    {
     "data": {
      "application/pdf": "[encoded data removed]",
      "image/svg+xml": [
       "<?xml version=\"1.0\" encoding=\"utf-8\" standalone=\"no\"?>\n",
       "<!DOCTYPE svg PUBLIC \"-//W3C//DTD SVG 1.1//EN\"\n",
       "  \"http://www.w3.org/Graphics/SVG/1.1/DTD/svg11.dtd\">\n",
       "<svg xmlns:xlink=\"http://www.w3.org/1999/xlink\" width=\"295.435pt\" height=\"281.634375pt\" viewBox=\"0 0 295.435 281.634375\" xmlns=\"http://www.w3.org/2000/svg\" version=\"1.1\">\n",
       " <metadata>\n",
       "  <rdf:RDF xmlns:dc=\"http://purl.org/dc/elements/1.1/\" xmlns:cc=\"http://creativecommons.org/ns#\" xmlns:rdf=\"http://www.w3.org/1999/02/22-rdf-syntax-ns#\">\n",
       "   <cc:Work>\n",
       "    <dc:type rdf:resource=\"http://purl.org/dc/dcmitype/StillImage\"/>\n",
       "    <dc:date>2023-06-14T19:55:52.980474</dc:date>\n",
       "    <dc:format>image/svg+xml</dc:format>\n",
       "    <dc:creator>\n",
       "     <cc:Agent>\n",
       "      <dc:title>Matplotlib v3.7.1, https://matplotlib.org/</dc:title>\n",
       "     </cc:Agent>\n",
       "    </dc:creator>\n",
       "   </cc:Work>\n",
       "  </rdf:RDF>\n",
       " </metadata>\n",
       " <defs>\n",
       "  <style type=\"text/css\">*{stroke-linejoin: round; stroke-linecap: butt}</style>\n",
       " </defs>\n",
       " <g id=\"figure_1\">\n",
       "  <g id=\"patch_1\">\n",
       "   <path d=\"M 0 281.634375 \n",
       "L 295.435 281.634375 \n",
       "L 295.435 0 \n",
       "L 0 0 \n",
       "z\n",
       "\" style=\"fill: #ffffff\"/>\n",
       "  </g>\n",
       "  <g id=\"axes_1\">\n",
       "   <g id=\"patch_2\">\n",
       "    <path d=\"M 58.523438 244.078125 \n",
       "L 280.283437 244.078125 \n",
       "L 280.283437 22.318125 \n",
       "L 58.523438 22.318125 \n",
       "z\n",
       "\" style=\"fill: #ffffff\"/>\n",
       "   </g>\n",
       "   <g clip-path=\"url(#p69f4b1a9ed)\">\n",
       "    <image xlink:href=\"data:image/png;base64,\n",
       "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\" id=\"image4627c39407\" transform=\"scale(1 -1) translate(0 -221.76)\" x=\"58.523438\" y=\"-22.318125\" width=\"221.76\" height=\"221.76\"/>\n",
       "   </g>\n",
       "   <g id=\"PathCollection_1\">\n",
       "    <defs>\n",
       "     <path id=\"m0129b643da\" d=\"M 0 3 \n",
       "C 0.795609 3 1.55874 2.683901 2.12132 2.12132 \n",
       "C 2.683901 1.55874 3 0.795609 3 0 \n",
       "C 3 -0.795609 2.683901 -1.55874 2.12132 -2.12132 \n",
       "C 1.55874 -2.683901 0.795609 -3 0 -3 \n",
       "C -0.795609 -3 -1.55874 -2.683901 -2.12132 -2.12132 \n",
       "C -2.683901 -1.55874 -3 -0.795609 -3 0 \n",
       "C -3 0.795609 -2.683901 1.55874 -2.12132 2.12132 \n",
       "C -1.55874 2.683901 -0.795609 3 0 3 \n",
       "z\n",
       "\" style=\"stroke: #333333\"/>\n",
       "    </defs>\n",
       "    <g clip-path=\"url(#p69f4b1a9ed)\">\n",
       "     <use xlink:href=\"#m0129b643da\" x=\"96.950663\" y=\"188.098859\" style=\"fill: #1f77b4; stroke: #333333\"/>\n",
       "     <use xlink:href=\"#m0129b643da\" x=\"217.371317\" y=\"71.283839\" style=\"fill: #1f77b4; stroke: #333333\"/>\n",
       "     <use xlink:href=\"#m0129b643da\" x=\"199.378515\" y=\"63.263929\" style=\"fill: #1f77b4; stroke: #333333\"/>\n",
       "     <use xlink:href=\"#m0129b643da\" x=\"130.208559\" y=\"175.40495\" style=\"fill: #1f77b4; stroke: #333333\"/>\n",
       "     <use xlink:href=\"#m0129b643da\" x=\"238.645239\" y=\"73.660105\" style=\"fill: #1f77b4; stroke: #333333\"/>\n",
       "     <use xlink:href=\"#m0129b643da\" x=\"217.46116\" y=\"78.991225\" style=\"fill: #1f77b4; stroke: #333333\"/>\n",
       "     <use xlink:href=\"#m0129b643da\" x=\"99.27122\" y=\"190.983339\" style=\"fill: #1f77b4; stroke: #333333\"/>\n",
       "     <use xlink:href=\"#m0129b643da\" x=\"112.30482\" y=\"174.32001\" style=\"fill: #1f77b4; stroke: #333333\"/>\n",
       "     <use xlink:href=\"#m0129b643da\" x=\"217.91244\" y=\"79.643695\" style=\"fill: #1f77b4; stroke: #333333\"/>\n",
       "     <use xlink:href=\"#m0129b643da\" x=\"225.037159\" y=\"83.890073\" style=\"fill: #1f77b4; stroke: #333333\"/>\n",
       "     <use xlink:href=\"#m0129b643da\" x=\"121.288326\" y=\"183.026086\" style=\"fill: #1f77b4; stroke: #333333\"/>\n",
       "     <use xlink:href=\"#m0129b643da\" x=\"226.235959\" y=\"67.348004\" style=\"fill: #1f77b4; stroke: #333333\"/>\n",
       "     <use xlink:href=\"#m0129b643da\" x=\"108.190007\" y=\"186.901166\" style=\"fill: #1f77b4; stroke: #333333\"/>\n",
       "     <use xlink:href=\"#m0129b643da\" x=\"206.614107\" y=\"67.866212\" style=\"fill: #1f77b4; stroke: #333333\"/>\n",
       "     <use xlink:href=\"#m0129b643da\" x=\"134.70126\" y=\"186.385595\" style=\"fill: #1f77b4; stroke: #333333\"/>\n",
       "     <use xlink:href=\"#m0129b643da\" x=\"233.315745\" y=\"79.983654\" style=\"fill: #1f77b4; stroke: #333333\"/>\n",
       "     <use xlink:href=\"#m0129b643da\" x=\"210.535707\" y=\"105.990571\" style=\"fill: #1f77b4; stroke: #333333\"/>\n",
       "     <use xlink:href=\"#m0129b643da\" x=\"106.228301\" y=\"188.014294\" style=\"fill: #1f77b4; stroke: #333333\"/>\n",
       "     <use xlink:href=\"#m0129b643da\" x=\"119.200376\" y=\"182.222653\" style=\"fill: #1f77b4; stroke: #333333\"/>\n",
       "     <use xlink:href=\"#m0129b643da\" x=\"109.746809\" y=\"182.056839\" style=\"fill: #1f77b4; stroke: #333333\"/>\n",
       "     <use xlink:href=\"#m0129b643da\" x=\"126.510085\" y=\"175.213934\" style=\"fill: #1f77b4; stroke: #333333\"/>\n",
       "     <use xlink:href=\"#m0129b643da\" x=\"126.879261\" y=\"184.47055\" style=\"fill: #1f77b4; stroke: #333333\"/>\n",
       "     <use xlink:href=\"#m0129b643da\" x=\"116.480834\" y=\"175.651467\" style=\"fill: #1f77b4; stroke: #333333\"/>\n",
       "     <use xlink:href=\"#m0129b643da\" x=\"226.616133\" y=\"80.511055\" style=\"fill: #1f77b4; stroke: #333333\"/>\n",
       "     <use xlink:href=\"#m0129b643da\" x=\"196.879091\" y=\"82.365174\" style=\"fill: #1f77b4; stroke: #333333\"/>\n",
       "     <use xlink:href=\"#m0129b643da\" x=\"112.658994\" y=\"178.851613\" style=\"fill: #1f77b4; stroke: #333333\"/>\n",
       "     <use xlink:href=\"#m0129b643da\" x=\"226.904258\" y=\"75.345774\" style=\"fill: #1f77b4; stroke: #333333\"/>\n",
       "     <use xlink:href=\"#m0129b643da\" x=\"223.927455\" y=\"69.045265\" style=\"fill: #1f77b4; stroke: #333333\"/>\n",
       "     <use xlink:href=\"#m0129b643da\" x=\"210.087388\" y=\"80.015337\" style=\"fill: #1f77b4; stroke: #333333\"/>\n",
       "     <use xlink:href=\"#m0129b643da\" x=\"112.371193\" y=\"192.228479\" style=\"fill: #1f77b4; stroke: #333333\"/>\n",
       "     <use xlink:href=\"#m0129b643da\" x=\"91.298607\" y=\"186.250861\" style=\"fill: #1f77b4; stroke: #333333\"/>\n",
       "     <use xlink:href=\"#m0129b643da\" x=\"239.873118\" y=\"84.243249\" style=\"fill: #1f77b4; stroke: #333333\"/>\n",
       "     <use xlink:href=\"#m0129b643da\" x=\"121.347073\" y=\"184.601173\" style=\"fill: #1f77b4; stroke: #333333\"/>\n",
       "     <use xlink:href=\"#m0129b643da\" x=\"127.482313\" y=\"171.237072\" style=\"fill: #1f77b4; stroke: #333333\"/>\n",
       "     <use xlink:href=\"#m0129b643da\" x=\"120.214243\" y=\"184.259505\" style=\"fill: #1f77b4; stroke: #333333\"/>\n",
       "     <use xlink:href=\"#m0129b643da\" x=\"114.071319\" y=\"183.131369\" style=\"fill: #1f77b4; stroke: #333333\"/>\n",
       "     <use xlink:href=\"#m0129b643da\" x=\"225.273998\" y=\"78.896975\" style=\"fill: #1f77b4; stroke: #333333\"/>\n",
       "     <use xlink:href=\"#m0129b643da\" x=\"116.719138\" y=\"203.843616\" style=\"fill: #1f77b4; stroke: #333333\"/>\n",
       "     <use xlink:href=\"#m0129b643da\" x=\"217.75968\" y=\"73.260884\" style=\"fill: #1f77b4; stroke: #333333\"/>\n",
       "     <use xlink:href=\"#m0129b643da\" x=\"219.162003\" y=\"58.937147\" style=\"fill: #1f77b4; stroke: #333333\"/>\n",
       "     <use xlink:href=\"#m0129b643da\" x=\"205.016443\" y=\"93.116066\" style=\"fill: #1f77b4; stroke: #333333\"/>\n",
       "     <use xlink:href=\"#m0129b643da\" x=\"118.956606\" y=\"197.191808\" style=\"fill: #1f77b4; stroke: #333333\"/>\n",
       "     <use xlink:href=\"#m0129b643da\" x=\"210.237669\" y=\"78.990108\" style=\"fill: #1f77b4; stroke: #333333\"/>\n",
       "     <use xlink:href=\"#m0129b643da\" x=\"208.049567\" y=\"84.881635\" style=\"fill: #1f77b4; stroke: #333333\"/>\n",
       "     <use xlink:href=\"#m0129b643da\" x=\"216.656129\" y=\"82.382813\" style=\"fill: #1f77b4; stroke: #333333\"/>\n",
       "     <use xlink:href=\"#m0129b643da\" x=\"221.82176\" y=\"85.001971\" style=\"fill: #1f77b4; stroke: #333333\"/>\n",
       "     <use xlink:href=\"#m0129b643da\" x=\"218.076467\" y=\"76.133232\" style=\"fill: #1f77b4; stroke: #333333\"/>\n",
       "     <use xlink:href=\"#m0129b643da\" x=\"119.128748\" y=\"183.514077\" style=\"fill: #1f77b4; stroke: #333333\"/>\n",
       "     <use xlink:href=\"#m0129b643da\" x=\"235.802579\" y=\"70.04487\" style=\"fill: #1f77b4; stroke: #333333\"/>\n",
       "     <use xlink:href=\"#m0129b643da\" x=\"118.443257\" y=\"177.578788\" style=\"fill: #1f77b4; stroke: #333333\"/>\n",
       "     <use xlink:href=\"#m0129b643da\" x=\"106.823511\" y=\"191.16727\" style=\"fill: #1f77b4; stroke: #333333\"/>\n",
       "     <use xlink:href=\"#m0129b643da\" x=\"236.776185\" y=\"71.430281\" style=\"fill: #1f77b4; stroke: #333333\"/>\n",
       "     <use xlink:href=\"#m0129b643da\" x=\"232.191269\" y=\"85.838091\" style=\"fill: #1f77b4; stroke: #333333\"/>\n",
       "     <use xlink:href=\"#m0129b643da\" x=\"218.562319\" y=\"77.386186\" style=\"fill: #1f77b4; stroke: #333333\"/>\n",
       "     <use xlink:href=\"#m0129b643da\" x=\"234.252724\" y=\"82.81268\" style=\"fill: #1f77b4; stroke: #333333\"/>\n",
       "     <use xlink:href=\"#m0129b643da\" x=\"220.949833\" y=\"88.706533\" style=\"fill: #1f77b4; stroke: #333333\"/>\n",
       "     <use xlink:href=\"#m0129b643da\" x=\"213.684514\" y=\"78.510218\" style=\"fill: #1f77b4; stroke: #333333\"/>\n",
       "     <use xlink:href=\"#m0129b643da\" x=\"204.492544\" y=\"83.36856\" style=\"fill: #1f77b4; stroke: #333333\"/>\n",
       "     <use xlink:href=\"#m0129b643da\" x=\"87.480054\" y=\"209.721852\" style=\"fill: #1f77b4; stroke: #333333\"/>\n",
       "     <use xlink:href=\"#m0129b643da\" x=\"140.668841\" y=\"173.295756\" style=\"fill: #1f77b4; stroke: #333333\"/>\n",
       "     <use xlink:href=\"#m0129b643da\" x=\"228.089681\" y=\"92.465962\" style=\"fill: #1f77b4; stroke: #333333\"/>\n",
       "     <use xlink:href=\"#m0129b643da\" x=\"227.650198\" y=\"70.936433\" style=\"fill: #1f77b4; stroke: #333333\"/>\n",
       "     <use xlink:href=\"#m0129b643da\" x=\"235.214103\" y=\"75.077001\" style=\"fill: #1f77b4; stroke: #333333\"/>\n",
       "     <use xlink:href=\"#m0129b643da\" x=\"104.458672\" y=\"171.752884\" style=\"fill: #1f77b4; stroke: #333333\"/>\n",
       "     <use xlink:href=\"#m0129b643da\" x=\"219.088339\" y=\"76.758691\" style=\"fill: #1f77b4; stroke: #333333\"/>\n",
       "     <use xlink:href=\"#m0129b643da\" x=\"223.773142\" y=\"71.029738\" style=\"fill: #1f77b4; stroke: #333333\"/>\n",
       "     <use xlink:href=\"#m0129b643da\" x=\"227.399864\" y=\"40.892629\" style=\"fill: #1f77b4; stroke: #333333\"/>\n",
       "     <use xlink:href=\"#m0129b643da\" x=\"131.272072\" y=\"179.325243\" style=\"fill: #1f77b4; stroke: #333333\"/>\n",
       "     <use xlink:href=\"#m0129b643da\" x=\"133.870118\" y=\"186.024266\" style=\"fill: #1f77b4; stroke: #333333\"/>\n",
       "     <use xlink:href=\"#m0129b643da\" x=\"116.053029\" y=\"200.167079\" style=\"fill: #1f77b4; stroke: #333333\"/>\n",
       "     <use xlink:href=\"#m0129b643da\" x=\"105.678745\" y=\"202.538274\" style=\"fill: #1f77b4; stroke: #333333\"/>\n",
       "     <use xlink:href=\"#m0129b643da\" x=\"219.768864\" y=\"69.392566\" style=\"fill: #1f77b4; stroke: #333333\"/>\n",
       "     <use xlink:href=\"#m0129b643da\" x=\"220.440282\" y=\"79.247065\" style=\"fill: #1f77b4; stroke: #333333\"/>\n",
       "     <use xlink:href=\"#m0129b643da\" x=\"229.414659\" y=\"79.056178\" style=\"fill: #1f77b4; stroke: #333333\"/>\n",
       "     <use xlink:href=\"#m0129b643da\" x=\"124.485444\" y=\"161.133407\" style=\"fill: #1f77b4; stroke: #333333\"/>\n",
       "     <use xlink:href=\"#m0129b643da\" x=\"132.074602\" y=\"190.067857\" style=\"fill: #1f77b4; stroke: #333333\"/>\n",
       "     <use xlink:href=\"#m0129b643da\" x=\"223.434202\" y=\"81.132688\" style=\"fill: #1f77b4; stroke: #333333\"/>\n",
       "     <use xlink:href=\"#m0129b643da\" x=\"220.595401\" y=\"71.414485\" style=\"fill: #1f77b4; stroke: #333333\"/>\n",
       "     <use xlink:href=\"#m0129b643da\" x=\"103.629955\" y=\"181.539345\" style=\"fill: #1f77b4; stroke: #333333\"/>\n",
       "     <use xlink:href=\"#m0129b643da\" x=\"226.745008\" y=\"99.358496\" style=\"fill: #1f77b4; stroke: #333333\"/>\n",
       "     <use xlink:href=\"#m0129b643da\" x=\"119.770525\" y=\"178.506942\" style=\"fill: #1f77b4; stroke: #333333\"/>\n",
       "     <use xlink:href=\"#m0129b643da\" x=\"122.24179\" y=\"182.151426\" style=\"fill: #1f77b4; stroke: #333333\"/>\n",
       "     <use xlink:href=\"#m0129b643da\" x=\"237.343524\" y=\"69.350969\" style=\"fill: #1f77b4; stroke: #333333\"/>\n",
       "     <use xlink:href=\"#m0129b643da\" x=\"109.092183\" y=\"197.93543\" style=\"fill: #1f77b4; stroke: #333333\"/>\n",
       "     <use xlink:href=\"#m0129b643da\" x=\"108.2356\" y=\"189.893177\" style=\"fill: #1f77b4; stroke: #333333\"/>\n",
       "     <use xlink:href=\"#m0129b643da\" x=\"212.116769\" y=\"99.240863\" style=\"fill: #1f77b4; stroke: #333333\"/>\n",
       "     <use xlink:href=\"#m0129b643da\" x=\"124.750925\" y=\"193.63386\" style=\"fill: #1f77b4; stroke: #333333\"/>\n",
       "     <use xlink:href=\"#m0129b643da\" x=\"110.737248\" y=\"173.458951\" style=\"fill: #1f77b4; stroke: #333333\"/>\n",
       "     <use xlink:href=\"#m0129b643da\" x=\"121.104476\" y=\"181.498274\" style=\"fill: #1f77b4; stroke: #333333\"/>\n",
       "     <use xlink:href=\"#m0129b643da\" x=\"237.180693\" y=\"80.649011\" style=\"fill: #1f77b4; stroke: #333333\"/>\n",
       "     <use xlink:href=\"#m0129b643da\" x=\"98.903128\" y=\"176.157455\" style=\"fill: #1f77b4; stroke: #333333\"/>\n",
       "     <use xlink:href=\"#m0129b643da\" x=\"123.162821\" y=\"199.876549\" style=\"fill: #1f77b4; stroke: #333333\"/>\n",
       "     <use xlink:href=\"#m0129b643da\" x=\"111.655278\" y=\"187.414545\" style=\"fill: #1f77b4; stroke: #333333\"/>\n",
       "     <use xlink:href=\"#m0129b643da\" x=\"229.862324\" y=\"79.368273\" style=\"fill: #1f77b4; stroke: #333333\"/>\n",
       "     <use xlink:href=\"#m0129b643da\" x=\"107.825516\" y=\"194.482715\" style=\"fill: #1f77b4; stroke: #333333\"/>\n",
       "     <use xlink:href=\"#m0129b643da\" x=\"106.784002\" y=\"186.057107\" style=\"fill: #1f77b4; stroke: #333333\"/>\n",
       "     <use xlink:href=\"#m0129b643da\" x=\"234.186727\" y=\"81.908554\" style=\"fill: #1f77b4; stroke: #333333\"/>\n",
       "     <use xlink:href=\"#m0129b643da\" x=\"99.677948\" y=\"170.925603\" style=\"fill: #1f77b4; stroke: #333333\"/>\n",
       "     <use xlink:href=\"#m0129b643da\" x=\"111.998986\" y=\"194.769005\" style=\"fill: #1f77b4; stroke: #333333\"/>\n",
       "     <use xlink:href=\"#m0129b643da\" x=\"104.811246\" y=\"188.755227\" style=\"fill: #1f77b4; stroke: #333333\"/>\n",
       "     <use xlink:href=\"#m0129b643da\" x=\"228.269802\" y=\"84.31423\" style=\"fill: #1f77b4; stroke: #333333\"/>\n",
       "     <use xlink:href=\"#m0129b643da\" x=\"113.014432\" y=\"171.800987\" style=\"fill: #1f77b4; stroke: #333333\"/>\n",
       "     <use xlink:href=\"#m0129b643da\" x=\"119.216723\" y=\"180.340536\" style=\"fill: #1f77b4; stroke: #333333\"/>\n",
       "     <use xlink:href=\"#m0129b643da\" x=\"114.01441\" y=\"165.518647\" style=\"fill: #1f77b4; stroke: #333333\"/>\n",
       "     <use xlink:href=\"#m0129b643da\" x=\"108.986292\" y=\"180.617231\" style=\"fill: #1f77b4; stroke: #333333\"/>\n",
       "     <use xlink:href=\"#m0129b643da\" x=\"212.471095\" y=\"64.819732\" style=\"fill: #1f77b4; stroke: #333333\"/>\n",
       "    </g>\n",
       "   </g>\n",
       "   <g id=\"PathCollection_2\">\n",
       "    <defs>\n",
       "     <path id=\"m526ce1d809\" d=\"M 0 3 \n",
       "C 0.795609 3 1.55874 2.683901 2.12132 2.12132 \n",
       "C 2.683901 1.55874 3 0.795609 3 0 \n",
       "C 3 -0.795609 2.683901 -1.55874 2.12132 -2.12132 \n",
       "C 1.55874 -2.683901 0.795609 -3 0 -3 \n",
       "C -0.795609 -3 -1.55874 -2.683901 -2.12132 -2.12132 \n",
       "C -2.683901 -1.55874 -3 -0.795609 -3 0 \n",
       "C -3 0.795609 -2.683901 1.55874 -2.12132 2.12132 \n",
       "C -1.55874 2.683901 -0.795609 3 0 3 \n",
       "z\n",
       "\" style=\"stroke: #333333\"/>\n",
       "    </defs>\n",
       "    <g clip-path=\"url(#p69f4b1a9ed)\">\n",
       "     <use xlink:href=\"#m526ce1d809\" x=\"105.460734\" y=\"87.930304\" style=\"fill: #ff7f0e; stroke: #333333\"/>\n",
       "     <use xlink:href=\"#m526ce1d809\" x=\"124.34775\" y=\"76.579364\" style=\"fill: #ff7f0e; stroke: #333333\"/>\n",
       "     <use xlink:href=\"#m526ce1d809\" x=\"221.128863\" y=\"192.55225\" style=\"fill: #ff7f0e; stroke: #333333\"/>\n",
       "     <use xlink:href=\"#m526ce1d809\" x=\"217.560228\" y=\"200.015675\" style=\"fill: #ff7f0e; stroke: #333333\"/>\n",
       "     <use xlink:href=\"#m526ce1d809\" x=\"236.951917\" y=\"206.520791\" style=\"fill: #ff7f0e; stroke: #333333\"/>\n",
       "     <use xlink:href=\"#m526ce1d809\" x=\"130.761414\" y=\"78.853204\" style=\"fill: #ff7f0e; stroke: #333333\"/>\n",
       "     <use xlink:href=\"#m526ce1d809\" x=\"236.167988\" y=\"193.083468\" style=\"fill: #ff7f0e; stroke: #333333\"/>\n",
       "     <use xlink:href=\"#m526ce1d809\" x=\"116.133045\" y=\"83.872103\" style=\"fill: #ff7f0e; stroke: #333333\"/>\n",
       "     <use xlink:href=\"#m526ce1d809\" x=\"104.557122\" y=\"76.956788\" style=\"fill: #ff7f0e; stroke: #333333\"/>\n",
       "     <use xlink:href=\"#m526ce1d809\" x=\"203.066376\" y=\"158.447728\" style=\"fill: #ff7f0e; stroke: #333333\"/>\n",
       "     <use xlink:href=\"#m526ce1d809\" x=\"118.550277\" y=\"79.020344\" style=\"fill: #ff7f0e; stroke: #333333\"/>\n",
       "     <use xlink:href=\"#m526ce1d809\" x=\"209.886178\" y=\"185.277861\" style=\"fill: #ff7f0e; stroke: #333333\"/>\n",
       "     <use xlink:href=\"#m526ce1d809\" x=\"222.351105\" y=\"177.882332\" style=\"fill: #ff7f0e; stroke: #333333\"/>\n",
       "     <use xlink:href=\"#m526ce1d809\" x=\"121.475798\" y=\"81.610622\" style=\"fill: #ff7f0e; stroke: #333333\"/>\n",
       "     <use xlink:href=\"#m526ce1d809\" x=\"220.006793\" y=\"188.81513\" style=\"fill: #ff7f0e; stroke: #333333\"/>\n",
       "     <use xlink:href=\"#m526ce1d809\" x=\"231.999226\" y=\"172.334368\" style=\"fill: #ff7f0e; stroke: #333333\"/>\n",
       "     <use xlink:href=\"#m526ce1d809\" x=\"116.198342\" y=\"79.716896\" style=\"fill: #ff7f0e; stroke: #333333\"/>\n",
       "     <use xlink:href=\"#m526ce1d809\" x=\"230.243767\" y=\"199.832142\" style=\"fill: #ff7f0e; stroke: #333333\"/>\n",
       "     <use xlink:href=\"#m526ce1d809\" x=\"125.379733\" y=\"90.891754\" style=\"fill: #ff7f0e; stroke: #333333\"/>\n",
       "     <use xlink:href=\"#m526ce1d809\" x=\"227.159046\" y=\"194.237609\" style=\"fill: #ff7f0e; stroke: #333333\"/>\n",
       "     <use xlink:href=\"#m526ce1d809\" x=\"106.777201\" y=\"84.422319\" style=\"fill: #ff7f0e; stroke: #333333\"/>\n",
       "     <use xlink:href=\"#m526ce1d809\" x=\"124.184087\" y=\"66.556964\" style=\"fill: #ff7f0e; stroke: #333333\"/>\n",
       "     <use xlink:href=\"#m526ce1d809\" x=\"219.477852\" y=\"195.74807\" style=\"fill: #ff7f0e; stroke: #333333\"/>\n",
       "     <use xlink:href=\"#m526ce1d809\" x=\"104.370519\" y=\"78.301065\" style=\"fill: #ff7f0e; stroke: #333333\"/>\n",
       "     <use xlink:href=\"#m526ce1d809\" x=\"215.916136\" y=\"189.471609\" style=\"fill: #ff7f0e; stroke: #333333\"/>\n",
       "     <use xlink:href=\"#m526ce1d809\" x=\"144.488909\" y=\"83.499344\" style=\"fill: #ff7f0e; stroke: #333333\"/>\n",
       "     <use xlink:href=\"#m526ce1d809\" x=\"110.857477\" y=\"84.537731\" style=\"fill: #ff7f0e; stroke: #333333\"/>\n",
       "     <use xlink:href=\"#m526ce1d809\" x=\"226.165508\" y=\"184.713685\" style=\"fill: #ff7f0e; stroke: #333333\"/>\n",
       "     <use xlink:href=\"#m526ce1d809\" x=\"218.225909\" y=\"192.819483\" style=\"fill: #ff7f0e; stroke: #333333\"/>\n",
       "     <use xlink:href=\"#m526ce1d809\" x=\"130.35602\" y=\"83.040088\" style=\"fill: #ff7f0e; stroke: #333333\"/>\n",
       "     <use xlink:href=\"#m526ce1d809\" x=\"95.026269\" y=\"73.688088\" style=\"fill: #ff7f0e; stroke: #333333\"/>\n",
       "     <use xlink:href=\"#m526ce1d809\" x=\"206.54729\" y=\"198.236742\" style=\"fill: #ff7f0e; stroke: #333333\"/>\n",
       "     <use xlink:href=\"#m526ce1d809\" x=\"249.837439\" y=\"186.643633\" style=\"fill: #ff7f0e; stroke: #333333\"/>\n",
       "     <use xlink:href=\"#m526ce1d809\" x=\"239.806658\" y=\"183.329527\" style=\"fill: #ff7f0e; stroke: #333333\"/>\n",
       "     <use xlink:href=\"#m526ce1d809\" x=\"95.102933\" y=\"71.655554\" style=\"fill: #ff7f0e; stroke: #333333\"/>\n",
       "     <use xlink:href=\"#m526ce1d809\" x=\"105.005769\" y=\"69.906175\" style=\"fill: #ff7f0e; stroke: #333333\"/>\n",
       "     <use xlink:href=\"#m526ce1d809\" x=\"240.259557\" y=\"173.030973\" style=\"fill: #ff7f0e; stroke: #333333\"/>\n",
       "     <use xlink:href=\"#m526ce1d809\" x=\"222.108741\" y=\"183.315957\" style=\"fill: #ff7f0e; stroke: #333333\"/>\n",
       "     <use xlink:href=\"#m526ce1d809\" x=\"118.359394\" y=\"76.793745\" style=\"fill: #ff7f0e; stroke: #333333\"/>\n",
       "     <use xlink:href=\"#m526ce1d809\" x=\"230.353845\" y=\"199.906072\" style=\"fill: #ff7f0e; stroke: #333333\"/>\n",
       "     <use xlink:href=\"#m526ce1d809\" x=\"247.370696\" y=\"196.766937\" style=\"fill: #ff7f0e; stroke: #333333\"/>\n",
       "     <use xlink:href=\"#m526ce1d809\" x=\"243.007868\" y=\"187.655851\" style=\"fill: #ff7f0e; stroke: #333333\"/>\n",
       "     <use xlink:href=\"#m526ce1d809\" x=\"104.054023\" y=\"61.721648\" style=\"fill: #ff7f0e; stroke: #333333\"/>\n",
       "     <use xlink:href=\"#m526ce1d809\" x=\"115.41594\" y=\"59.475592\" style=\"fill: #ff7f0e; stroke: #333333\"/>\n",
       "     <use xlink:href=\"#m526ce1d809\" x=\"221.429399\" y=\"186.596727\" style=\"fill: #ff7f0e; stroke: #333333\"/>\n",
       "     <use xlink:href=\"#m526ce1d809\" x=\"248.203399\" y=\"209.832947\" style=\"fill: #ff7f0e; stroke: #333333\"/>\n",
       "     <use xlink:href=\"#m526ce1d809\" x=\"231.845039\" y=\"185.884033\" style=\"fill: #ff7f0e; stroke: #333333\"/>\n",
       "     <use xlink:href=\"#m526ce1d809\" x=\"112.845519\" y=\"75.104481\" style=\"fill: #ff7f0e; stroke: #333333\"/>\n",
       "     <use xlink:href=\"#m526ce1d809\" x=\"220.692242\" y=\"206.027807\" style=\"fill: #ff7f0e; stroke: #333333\"/>\n",
       "     <use xlink:href=\"#m526ce1d809\" x=\"107.77801\" y=\"112.652339\" style=\"fill: #ff7f0e; stroke: #333333\"/>\n",
       "     <use xlink:href=\"#m526ce1d809\" x=\"226.312028\" y=\"199.968752\" style=\"fill: #ff7f0e; stroke: #333333\"/>\n",
       "     <use xlink:href=\"#m526ce1d809\" x=\"96.276897\" y=\"77.762143\" style=\"fill: #ff7f0e; stroke: #333333\"/>\n",
       "     <use xlink:href=\"#m526ce1d809\" x=\"117.565494\" y=\"70.115322\" style=\"fill: #ff7f0e; stroke: #333333\"/>\n",
       "     <use xlink:href=\"#m526ce1d809\" x=\"224.540575\" y=\"167.612291\" style=\"fill: #ff7f0e; stroke: #333333\"/>\n",
       "     <use xlink:href=\"#m526ce1d809\" x=\"105.294921\" y=\"69.985786\" style=\"fill: #ff7f0e; stroke: #333333\"/>\n",
       "     <use xlink:href=\"#m526ce1d809\" x=\"208.509319\" y=\"190.649058\" style=\"fill: #ff7f0e; stroke: #333333\"/>\n",
       "     <use xlink:href=\"#m526ce1d809\" x=\"229.500457\" y=\"195.57838\" style=\"fill: #ff7f0e; stroke: #333333\"/>\n",
       "     <use xlink:href=\"#m526ce1d809\" x=\"98.247446\" y=\"73.89167\" style=\"fill: #ff7f0e; stroke: #333333\"/>\n",
       "     <use xlink:href=\"#m526ce1d809\" x=\"209.031104\" y=\"172.916362\" style=\"fill: #ff7f0e; stroke: #333333\"/>\n",
       "     <use xlink:href=\"#m526ce1d809\" x=\"121.41358\" y=\"56.190858\" style=\"fill: #ff7f0e; stroke: #333333\"/>\n",
       "     <use xlink:href=\"#m526ce1d809\" x=\"111.001179\" y=\"84.39511\" style=\"fill: #ff7f0e; stroke: #333333\"/>\n",
       "     <use xlink:href=\"#m526ce1d809\" x=\"216.055057\" y=\"196.358024\" style=\"fill: #ff7f0e; stroke: #333333\"/>\n",
       "     <use xlink:href=\"#m526ce1d809\" x=\"134.351342\" y=\"84.128081\" style=\"fill: #ff7f0e; stroke: #333333\"/>\n",
       "     <use xlink:href=\"#m526ce1d809\" x=\"214.64095\" y=\"206.044032\" style=\"fill: #ff7f0e; stroke: #333333\"/>\n",
       "     <use xlink:href=\"#m526ce1d809\" x=\"255.731047\" y=\"180.566375\" style=\"fill: #ff7f0e; stroke: #333333\"/>\n",
       "     <use xlink:href=\"#m526ce1d809\" x=\"130.43644\" y=\"67.201536\" style=\"fill: #ff7f0e; stroke: #333333\"/>\n",
       "     <use xlink:href=\"#m526ce1d809\" x=\"99.356248\" y=\"77.82736\" style=\"fill: #ff7f0e; stroke: #333333\"/>\n",
       "     <use xlink:href=\"#m526ce1d809\" x=\"235.266314\" y=\"187.580787\" style=\"fill: #ff7f0e; stroke: #333333\"/>\n",
       "     <use xlink:href=\"#m526ce1d809\" x=\"223.934011\" y=\"179.013114\" style=\"fill: #ff7f0e; stroke: #333333\"/>\n",
       "     <use xlink:href=\"#m526ce1d809\" x=\"241.555681\" y=\"187.355607\" style=\"fill: #ff7f0e; stroke: #333333\"/>\n",
       "     <use xlink:href=\"#m526ce1d809\" x=\"215.375001\" y=\"177.601216\" style=\"fill: #ff7f0e; stroke: #333333\"/>\n",
       "     <use xlink:href=\"#m526ce1d809\" x=\"239.72743\" y=\"191.971704\" style=\"fill: #ff7f0e; stroke: #333333\"/>\n",
       "     <use xlink:href=\"#m526ce1d809\" x=\"119.866738\" y=\"75.939272\" style=\"fill: #ff7f0e; stroke: #333333\"/>\n",
       "     <use xlink:href=\"#m526ce1d809\" x=\"218.716949\" y=\"193.278699\" style=\"fill: #ff7f0e; stroke: #333333\"/>\n",
       "     <use xlink:href=\"#m526ce1d809\" x=\"137.987458\" y=\"80.932013\" style=\"fill: #ff7f0e; stroke: #333333\"/>\n",
       "     <use xlink:href=\"#m526ce1d809\" x=\"232.114698\" y=\"189.667896\" style=\"fill: #ff7f0e; stroke: #333333\"/>\n",
       "     <use xlink:href=\"#m526ce1d809\" x=\"214.475415\" y=\"194.99217\" style=\"fill: #ff7f0e; stroke: #333333\"/>\n",
       "     <use xlink:href=\"#m526ce1d809\" x=\"237.373714\" y=\"173.716018\" style=\"fill: #ff7f0e; stroke: #333333\"/>\n",
       "     <use xlink:href=\"#m526ce1d809\" x=\"121.401172\" y=\"85.409996\" style=\"fill: #ff7f0e; stroke: #333333\"/>\n",
       "     <use xlink:href=\"#m526ce1d809\" x=\"108.719869\" y=\"81.134895\" style=\"fill: #ff7f0e; stroke: #333333\"/>\n",
       "     <use xlink:href=\"#m526ce1d809\" x=\"214.067325\" y=\"184.506493\" style=\"fill: #ff7f0e; stroke: #333333\"/>\n",
       "     <use xlink:href=\"#m526ce1d809\" x=\"107.685772\" y=\"41.365593\" style=\"fill: #ff7f0e; stroke: #333333\"/>\n",
       "     <use xlink:href=\"#m526ce1d809\" x=\"215.957403\" y=\"190.466365\" style=\"fill: #ff7f0e; stroke: #333333\"/>\n",
       "     <use xlink:href=\"#m526ce1d809\" x=\"123.463079\" y=\"72.188844\" style=\"fill: #ff7f0e; stroke: #333333\"/>\n",
       "     <use xlink:href=\"#m526ce1d809\" x=\"136.562512\" y=\"87.550969\" style=\"fill: #ff7f0e; stroke: #333333\"/>\n",
       "     <use xlink:href=\"#m526ce1d809\" x=\"91.617909\" y=\"76.516896\" style=\"fill: #ff7f0e; stroke: #333333\"/>\n",
       "     <use xlink:href=\"#m526ce1d809\" x=\"226.992329\" y=\"213.063882\" style=\"fill: #ff7f0e; stroke: #333333\"/>\n",
       "     <use xlink:href=\"#m526ce1d809\" x=\"215.299269\" y=\"184.49295\" style=\"fill: #ff7f0e; stroke: #333333\"/>\n",
       "     <use xlink:href=\"#m526ce1d809\" x=\"241.355575\" y=\"177.575372\" style=\"fill: #ff7f0e; stroke: #333333\"/>\n",
       "     <use xlink:href=\"#m526ce1d809\" x=\"236.809626\" y=\"195.600814\" style=\"fill: #ff7f0e; stroke: #333333\"/>\n",
       "     <use xlink:href=\"#m526ce1d809\" x=\"106.249772\" y=\"87.632299\" style=\"fill: #ff7f0e; stroke: #333333\"/>\n",
       "     <use xlink:href=\"#m526ce1d809\" x=\"228.727908\" y=\"183.830137\" style=\"fill: #ff7f0e; stroke: #333333\"/>\n",
       "     <use xlink:href=\"#m526ce1d809\" x=\"209.180387\" y=\"182.844627\" style=\"fill: #ff7f0e; stroke: #333333\"/>\n",
       "     <use xlink:href=\"#m526ce1d809\" x=\"214.053149\" y=\"199.341084\" style=\"fill: #ff7f0e; stroke: #333333\"/>\n",
       "    </g>\n",
       "   </g>\n",
       "   <g id=\"matplotlib.axis_1\">\n",
       "    <g id=\"xtick_1\">\n",
       "     <g id=\"line2d_1\">\n",
       "      <defs>\n",
       "       <path id=\"m9d76d92aa8\" d=\"M 0 0 \n",
       "L 0 3.5 \n",
       "\" style=\"stroke: #000000; stroke-width: 0.8\"/>\n",
       "      </defs>\n",
       "      <g>\n",
       "       <use xlink:href=\"#m9d76d92aa8\" x=\"58.523438\" y=\"244.078125\" style=\"stroke: #000000; stroke-width: 0.8\"/>\n",
       "      </g>\n",
       "     </g>\n",
       "     <g id=\"text_1\">\n",
       "      <!-- −0.5 -->\n",
       "      <g transform=\"translate(46.382031 258.676562) scale(0.1 -0.1)\">\n",
       "       <defs>\n",
       "        <path id=\"DejaVuSans-2212\" d=\"M 678 2272 \n",
       "L 4684 2272 \n",
       "L 4684 1741 \n",
       "L 678 1741 \n",
       "L 678 2272 \n",
       "z\n",
       "\" transform=\"scale(0.015625)\"/>\n",
       "        <path id=\"DejaVuSans-30\" d=\"M 2034 4250 \n",
       "Q 1547 4250 1301 3770 \n",
       "Q 1056 3291 1056 2328 \n",
       "Q 1056 1369 1301 889 \n",
       "Q 1547 409 2034 409 \n",
       "Q 2525 409 2770 889 \n",
       "Q 3016 1369 3016 2328 \n",
       "Q 3016 3291 2770 3770 \n",
       "Q 2525 4250 2034 4250 \n",
       "z\n",
       "M 2034 4750 \n",
       "Q 2819 4750 3233 4129 \n",
       "Q 3647 3509 3647 2328 \n",
       "Q 3647 1150 3233 529 \n",
       "Q 2819 -91 2034 -91 \n",
       "Q 1250 -91 836 529 \n",
       "Q 422 1150 422 2328 \n",
       "Q 422 3509 836 4129 \n",
       "Q 1250 4750 2034 4750 \n",
       "z\n",
       "\" transform=\"scale(0.015625)\"/>\n",
       "        <path id=\"DejaVuSans-2e\" d=\"M 684 794 \n",
       "L 1344 794 \n",
       "L 1344 0 \n",
       "L 684 0 \n",
       "L 684 794 \n",
       "z\n",
       "\" transform=\"scale(0.015625)\"/>\n",
       "        <path id=\"DejaVuSans-35\" d=\"M 691 4666 \n",
       "L 3169 4666 \n",
       "L 3169 4134 \n",
       "L 1269 4134 \n",
       "L 1269 2991 \n",
       "Q 1406 3038 1543 3061 \n",
       "Q 1681 3084 1819 3084 \n",
       "Q 2600 3084 3056 2656 \n",
       "Q 3513 2228 3513 1497 \n",
       "Q 3513 744 3044 326 \n",
       "Q 2575 -91 1722 -91 \n",
       "Q 1428 -91 1123 -41 \n",
       "Q 819 9 494 109 \n",
       "L 494 744 \n",
       "Q 775 591 1075 516 \n",
       "Q 1375 441 1709 441 \n",
       "Q 2250 441 2565 725 \n",
       "Q 2881 1009 2881 1497 \n",
       "Q 2881 1984 2565 2268 \n",
       "Q 2250 2553 1709 2553 \n",
       "Q 1456 2553 1204 2497 \n",
       "Q 953 2441 691 2322 \n",
       "L 691 4666 \n",
       "z\n",
       "\" transform=\"scale(0.015625)\"/>\n",
       "       </defs>\n",
       "       <use xlink:href=\"#DejaVuSans-2212\"/>\n",
       "       <use xlink:href=\"#DejaVuSans-30\" x=\"83.789062\"/>\n",
       "       <use xlink:href=\"#DejaVuSans-2e\" x=\"147.412109\"/>\n",
       "       <use xlink:href=\"#DejaVuSans-35\" x=\"179.199219\"/>\n",
       "      </g>\n",
       "     </g>\n",
       "    </g>\n",
       "    <g id=\"xtick_2\">\n",
       "     <g id=\"line2d_2\">\n",
       "      <g>\n",
       "       <use xlink:href=\"#m9d76d92aa8\" x=\"113.963437\" y=\"244.078125\" style=\"stroke: #000000; stroke-width: 0.8\"/>\n",
       "      </g>\n",
       "     </g>\n",
       "     <g id=\"text_2\">\n",
       "      <!-- 0.0 -->\n",
       "      <g transform=\"translate(106.011875 258.676562) scale(0.1 -0.1)\">\n",
       "       <use xlink:href=\"#DejaVuSans-30\"/>\n",
       "       <use xlink:href=\"#DejaVuSans-2e\" x=\"63.623047\"/>\n",
       "       <use xlink:href=\"#DejaVuSans-30\" x=\"95.410156\"/>\n",
       "      </g>\n",
       "     </g>\n",
       "    </g>\n",
       "    <g id=\"xtick_3\">\n",
       "     <g id=\"line2d_3\">\n",
       "      <g>\n",
       "       <use xlink:href=\"#m9d76d92aa8\" x=\"169.403437\" y=\"244.078125\" style=\"stroke: #000000; stroke-width: 0.8\"/>\n",
       "      </g>\n",
       "     </g>\n",
       "     <g id=\"text_3\">\n",
       "      <!-- 0.5 -->\n",
       "      <g transform=\"translate(161.451875 258.676562) scale(0.1 -0.1)\">\n",
       "       <use xlink:href=\"#DejaVuSans-30\"/>\n",
       "       <use xlink:href=\"#DejaVuSans-2e\" x=\"63.623047\"/>\n",
       "       <use xlink:href=\"#DejaVuSans-35\" x=\"95.410156\"/>\n",
       "      </g>\n",
       "     </g>\n",
       "    </g>\n",
       "    <g id=\"xtick_4\">\n",
       "     <g id=\"line2d_4\">\n",
       "      <g>\n",
       "       <use xlink:href=\"#m9d76d92aa8\" x=\"224.843437\" y=\"244.078125\" style=\"stroke: #000000; stroke-width: 0.8\"/>\n",
       "      </g>\n",
       "     </g>\n",
       "     <g id=\"text_4\">\n",
       "      <!-- 1.0 -->\n",
       "      <g transform=\"translate(216.891875 258.676562) scale(0.1 -0.1)\">\n",
       "       <defs>\n",
       "        <path id=\"DejaVuSans-31\" d=\"M 794 531 \n",
       "L 1825 531 \n",
       "L 1825 4091 \n",
       "L 703 3866 \n",
       "L 703 4441 \n",
       "L 1819 4666 \n",
       "L 2450 4666 \n",
       "L 2450 531 \n",
       "L 3481 531 \n",
       "L 3481 0 \n",
       "L 794 0 \n",
       "L 794 531 \n",
       "z\n",
       "\" transform=\"scale(0.015625)\"/>\n",
       "       </defs>\n",
       "       <use xlink:href=\"#DejaVuSans-31\"/>\n",
       "       <use xlink:href=\"#DejaVuSans-2e\" x=\"63.623047\"/>\n",
       "       <use xlink:href=\"#DejaVuSans-30\" x=\"95.410156\"/>\n",
       "      </g>\n",
       "     </g>\n",
       "    </g>\n",
       "    <g id=\"xtick_5\">\n",
       "     <g id=\"line2d_5\">\n",
       "      <g>\n",
       "       <use xlink:href=\"#m9d76d92aa8\" x=\"280.283437\" y=\"244.078125\" style=\"stroke: #000000; stroke-width: 0.8\"/>\n",
       "      </g>\n",
       "     </g>\n",
       "     <g id=\"text_5\">\n",
       "      <!-- 1.5 -->\n",
       "      <g transform=\"translate(272.331875 258.676562) scale(0.1 -0.1)\">\n",
       "       <use xlink:href=\"#DejaVuSans-31\"/>\n",
       "       <use xlink:href=\"#DejaVuSans-2e\" x=\"63.623047\"/>\n",
       "       <use xlink:href=\"#DejaVuSans-35\" x=\"95.410156\"/>\n",
       "      </g>\n",
       "     </g>\n",
       "    </g>\n",
       "    <g id=\"text_6\">\n",
       "     <!-- $x_1$ -->\n",
       "     <g transform=\"translate(164.053438 272.354687) scale(0.1 -0.1)\">\n",
       "      <defs>\n",
       "       <path id=\"DejaVuSans-Oblique-78\" d=\"M 3841 3500 \n",
       "L 2234 1784 \n",
       "L 3219 0 \n",
       "L 2559 0 \n",
       "L 1819 1388 \n",
       "L 531 0 \n",
       "L -166 0 \n",
       "L 1556 1844 \n",
       "L 641 3500 \n",
       "L 1300 3500 \n",
       "L 1972 2234 \n",
       "L 3144 3500 \n",
       "L 3841 3500 \n",
       "z\n",
       "\" transform=\"scale(0.015625)\"/>\n",
       "      </defs>\n",
       "      <use xlink:href=\"#DejaVuSans-Oblique-78\" transform=\"translate(0 0.3125)\"/>\n",
       "      <use xlink:href=\"#DejaVuSans-31\" transform=\"translate(59.179688 -16.09375) scale(0.7)\"/>\n",
       "     </g>\n",
       "    </g>\n",
       "   </g>\n",
       "   <g id=\"matplotlib.axis_2\">\n",
       "    <g id=\"ytick_1\">\n",
       "     <g id=\"line2d_6\">\n",
       "      <defs>\n",
       "       <path id=\"ma8a621ca3e\" d=\"M 0 0 \n",
       "L -3.5 0 \n",
       "\" style=\"stroke: #000000; stroke-width: 0.8\"/>\n",
       "      </defs>\n",
       "      <g>\n",
       "       <use xlink:href=\"#ma8a621ca3e\" x=\"58.523438\" y=\"244.078125\" style=\"stroke: #000000; stroke-width: 0.8\"/>\n",
       "      </g>\n",
       "     </g>\n",
       "     <g id=\"text_7\">\n",
       "      <!-- −0.50 -->\n",
       "      <g transform=\"translate(20.878125 247.877344) scale(0.1 -0.1)\">\n",
       "       <use xlink:href=\"#DejaVuSans-2212\"/>\n",
       "       <use xlink:href=\"#DejaVuSans-30\" x=\"83.789062\"/>\n",
       "       <use xlink:href=\"#DejaVuSans-2e\" x=\"147.412109\"/>\n",
       "       <use xlink:href=\"#DejaVuSans-35\" x=\"179.199219\"/>\n",
       "       <use xlink:href=\"#DejaVuSans-30\" x=\"242.822266\"/>\n",
       "      </g>\n",
       "     </g>\n",
       "    </g>\n",
       "    <g id=\"ytick_2\">\n",
       "     <g id=\"line2d_7\">\n",
       "      <g>\n",
       "       <use xlink:href=\"#ma8a621ca3e\" x=\"58.523438\" y=\"216.358125\" style=\"stroke: #000000; stroke-width: 0.8\"/>\n",
       "      </g>\n",
       "     </g>\n",
       "     <g id=\"text_8\">\n",
       "      <!-- −0.25 -->\n",
       "      <g transform=\"translate(20.878125 220.157344) scale(0.1 -0.1)\">\n",
       "       <defs>\n",
       "        <path id=\"DejaVuSans-32\" d=\"M 1228 531 \n",
       "L 3431 531 \n",
       "L 3431 0 \n",
       "L 469 0 \n",
       "L 469 531 \n",
       "Q 828 903 1448 1529 \n",
       "Q 2069 2156 2228 2338 \n",
       "Q 2531 2678 2651 2914 \n",
       "Q 2772 3150 2772 3378 \n",
       "Q 2772 3750 2511 3984 \n",
       "Q 2250 4219 1831 4219 \n",
       "Q 1534 4219 1204 4116 \n",
       "Q 875 4013 500 3803 \n",
       "L 500 4441 \n",
       "Q 881 4594 1212 4672 \n",
       "Q 1544 4750 1819 4750 \n",
       "Q 2544 4750 2975 4387 \n",
       "Q 3406 4025 3406 3419 \n",
       "Q 3406 3131 3298 2873 \n",
       "Q 3191 2616 2906 2266 \n",
       "Q 2828 2175 2409 1742 \n",
       "Q 1991 1309 1228 531 \n",
       "z\n",
       "\" transform=\"scale(0.015625)\"/>\n",
       "       </defs>\n",
       "       <use xlink:href=\"#DejaVuSans-2212\"/>\n",
       "       <use xlink:href=\"#DejaVuSans-30\" x=\"83.789062\"/>\n",
       "       <use xlink:href=\"#DejaVuSans-2e\" x=\"147.412109\"/>\n",
       "       <use xlink:href=\"#DejaVuSans-32\" x=\"179.199219\"/>\n",
       "       <use xlink:href=\"#DejaVuSans-35\" x=\"242.822266\"/>\n",
       "      </g>\n",
       "     </g>\n",
       "    </g>\n",
       "    <g id=\"ytick_3\">\n",
       "     <g id=\"line2d_8\">\n",
       "      <g>\n",
       "       <use xlink:href=\"#ma8a621ca3e\" x=\"58.523438\" y=\"188.638125\" style=\"stroke: #000000; stroke-width: 0.8\"/>\n",
       "      </g>\n",
       "     </g>\n",
       "     <g id=\"text_9\">\n",
       "      <!-- 0.00 -->\n",
       "      <g transform=\"translate(29.257812 192.437344) scale(0.1 -0.1)\">\n",
       "       <use xlink:href=\"#DejaVuSans-30\"/>\n",
       "       <use xlink:href=\"#DejaVuSans-2e\" x=\"63.623047\"/>\n",
       "       <use xlink:href=\"#DejaVuSans-30\" x=\"95.410156\"/>\n",
       "       <use xlink:href=\"#DejaVuSans-30\" x=\"159.033203\"/>\n",
       "      </g>\n",
       "     </g>\n",
       "    </g>\n",
       "    <g id=\"ytick_4\">\n",
       "     <g id=\"line2d_9\">\n",
       "      <g>\n",
       "       <use xlink:href=\"#ma8a621ca3e\" x=\"58.523438\" y=\"160.918125\" style=\"stroke: #000000; stroke-width: 0.8\"/>\n",
       "      </g>\n",
       "     </g>\n",
       "     <g id=\"text_10\">\n",
       "      <!-- 0.25 -->\n",
       "      <g transform=\"translate(29.257812 164.717344) scale(0.1 -0.1)\">\n",
       "       <use xlink:href=\"#DejaVuSans-30\"/>\n",
       "       <use xlink:href=\"#DejaVuSans-2e\" x=\"63.623047\"/>\n",
       "       <use xlink:href=\"#DejaVuSans-32\" x=\"95.410156\"/>\n",
       "       <use xlink:href=\"#DejaVuSans-35\" x=\"159.033203\"/>\n",
       "      </g>\n",
       "     </g>\n",
       "    </g>\n",
       "    <g id=\"ytick_5\">\n",
       "     <g id=\"line2d_10\">\n",
       "      <g>\n",
       "       <use xlink:href=\"#ma8a621ca3e\" x=\"58.523438\" y=\"133.198125\" style=\"stroke: #000000; stroke-width: 0.8\"/>\n",
       "      </g>\n",
       "     </g>\n",
       "     <g id=\"text_11\">\n",
       "      <!-- 0.50 -->\n",
       "      <g transform=\"translate(29.257812 136.997344) scale(0.1 -0.1)\">\n",
       "       <use xlink:href=\"#DejaVuSans-30\"/>\n",
       "       <use xlink:href=\"#DejaVuSans-2e\" x=\"63.623047\"/>\n",
       "       <use xlink:href=\"#DejaVuSans-35\" x=\"95.410156\"/>\n",
       "       <use xlink:href=\"#DejaVuSans-30\" x=\"159.033203\"/>\n",
       "      </g>\n",
       "     </g>\n",
       "    </g>\n",
       "    <g id=\"ytick_6\">\n",
       "     <g id=\"line2d_11\">\n",
       "      <g>\n",
       "       <use xlink:href=\"#ma8a621ca3e\" x=\"58.523438\" y=\"105.478125\" style=\"stroke: #000000; stroke-width: 0.8\"/>\n",
       "      </g>\n",
       "     </g>\n",
       "     <g id=\"text_12\">\n",
       "      <!-- 0.75 -->\n",
       "      <g transform=\"translate(29.257812 109.277344) scale(0.1 -0.1)\">\n",
       "       <defs>\n",
       "        <path id=\"DejaVuSans-37\" d=\"M 525 4666 \n",
       "L 3525 4666 \n",
       "L 3525 4397 \n",
       "L 1831 0 \n",
       "L 1172 0 \n",
       "L 2766 4134 \n",
       "L 525 4134 \n",
       "L 525 4666 \n",
       "z\n",
       "\" transform=\"scale(0.015625)\"/>\n",
       "       </defs>\n",
       "       <use xlink:href=\"#DejaVuSans-30\"/>\n",
       "       <use xlink:href=\"#DejaVuSans-2e\" x=\"63.623047\"/>\n",
       "       <use xlink:href=\"#DejaVuSans-37\" x=\"95.410156\"/>\n",
       "       <use xlink:href=\"#DejaVuSans-35\" x=\"159.033203\"/>\n",
       "      </g>\n",
       "     </g>\n",
       "    </g>\n",
       "    <g id=\"ytick_7\">\n",
       "     <g id=\"line2d_12\">\n",
       "      <g>\n",
       "       <use xlink:href=\"#ma8a621ca3e\" x=\"58.523438\" y=\"77.758125\" style=\"stroke: #000000; stroke-width: 0.8\"/>\n",
       "      </g>\n",
       "     </g>\n",
       "     <g id=\"text_13\">\n",
       "      <!-- 1.00 -->\n",
       "      <g transform=\"translate(29.257812 81.557344) scale(0.1 -0.1)\">\n",
       "       <use xlink:href=\"#DejaVuSans-31\"/>\n",
       "       <use xlink:href=\"#DejaVuSans-2e\" x=\"63.623047\"/>\n",
       "       <use xlink:href=\"#DejaVuSans-30\" x=\"95.410156\"/>\n",
       "       <use xlink:href=\"#DejaVuSans-30\" x=\"159.033203\"/>\n",
       "      </g>\n",
       "     </g>\n",
       "    </g>\n",
       "    <g id=\"ytick_8\">\n",
       "     <g id=\"line2d_13\">\n",
       "      <g>\n",
       "       <use xlink:href=\"#ma8a621ca3e\" x=\"58.523438\" y=\"50.038125\" style=\"stroke: #000000; stroke-width: 0.8\"/>\n",
       "      </g>\n",
       "     </g>\n",
       "     <g id=\"text_14\">\n",
       "      <!-- 1.25 -->\n",
       "      <g transform=\"translate(29.257812 53.837344) scale(0.1 -0.1)\">\n",
       "       <use xlink:href=\"#DejaVuSans-31\"/>\n",
       "       <use xlink:href=\"#DejaVuSans-2e\" x=\"63.623047\"/>\n",
       "       <use xlink:href=\"#DejaVuSans-32\" x=\"95.410156\"/>\n",
       "       <use xlink:href=\"#DejaVuSans-35\" x=\"159.033203\"/>\n",
       "      </g>\n",
       "     </g>\n",
       "    </g>\n",
       "    <g id=\"ytick_9\">\n",
       "     <g id=\"line2d_14\">\n",
       "      <g>\n",
       "       <use xlink:href=\"#ma8a621ca3e\" x=\"58.523438\" y=\"22.318125\" style=\"stroke: #000000; stroke-width: 0.8\"/>\n",
       "      </g>\n",
       "     </g>\n",
       "     <g id=\"text_15\">\n",
       "      <!-- 1.50 -->\n",
       "      <g transform=\"translate(29.257812 26.117344) scale(0.1 -0.1)\">\n",
       "       <use xlink:href=\"#DejaVuSans-31\"/>\n",
       "       <use xlink:href=\"#DejaVuSans-2e\" x=\"63.623047\"/>\n",
       "       <use xlink:href=\"#DejaVuSans-35\" x=\"95.410156\"/>\n",
       "       <use xlink:href=\"#DejaVuSans-30\" x=\"159.033203\"/>\n",
       "      </g>\n",
       "     </g>\n",
       "    </g>\n",
       "    <g id=\"text_16\">\n",
       "     <!-- $x_2$ -->\n",
       "     <g transform=\"translate(14.798437 138.548125) rotate(-90) scale(0.1 -0.1)\">\n",
       "      <use xlink:href=\"#DejaVuSans-Oblique-78\" transform=\"translate(0 0.3125)\"/>\n",
       "      <use xlink:href=\"#DejaVuSans-32\" transform=\"translate(59.179688 -16.09375) scale(0.7)\"/>\n",
       "     </g>\n",
       "    </g>\n",
       "   </g>\n",
       "   <g id=\"patch_3\">\n",
       "    <path d=\"M 58.523438 244.078125 \n",
       "L 58.523438 22.318125 \n",
       "\" style=\"fill: none; stroke: #000000; stroke-width: 0.8; stroke-linejoin: miter; stroke-linecap: square\"/>\n",
       "   </g>\n",
       "   <g id=\"patch_4\">\n",
       "    <path d=\"M 280.283437 244.078125 \n",
       "L 280.283437 22.318125 \n",
       "\" style=\"fill: none; stroke: #000000; stroke-width: 0.8; stroke-linejoin: miter; stroke-linecap: square\"/>\n",
       "   </g>\n",
       "   <g id=\"patch_5\">\n",
       "    <path d=\"M 58.523438 244.078125 \n",
       "L 280.283437 244.078125 \n",
       "\" style=\"fill: none; stroke: #000000; stroke-width: 0.8; stroke-linejoin: miter; stroke-linecap: square\"/>\n",
       "   </g>\n",
       "   <g id=\"patch_6\">\n",
       "    <path d=\"M 58.523438 22.318125 \n",
       "L 280.283437 22.318125 \n",
       "\" style=\"fill: none; stroke: #000000; stroke-width: 0.8; stroke-linejoin: miter; stroke-linecap: square\"/>\n",
       "   </g>\n",
       "   <g id=\"text_17\">\n",
       "    <!-- Dataset samples -->\n",
       "    <g transform=\"translate(119.060625 16.318125) scale(0.12 -0.12)\">\n",
       "     <defs>\n",
       "      <path id=\"DejaVuSans-44\" d=\"M 1259 4147 \n",
       "L 1259 519 \n",
       "L 2022 519 \n",
       "Q 2988 519 3436 956 \n",
       "Q 3884 1394 3884 2338 \n",
       "Q 3884 3275 3436 3711 \n",
       "Q 2988 4147 2022 4147 \n",
       "L 1259 4147 \n",
       "z\n",
       "M 628 4666 \n",
       "L 1925 4666 \n",
       "Q 3281 4666 3915 4102 \n",
       "Q 4550 3538 4550 2338 \n",
       "Q 4550 1131 3912 565 \n",
       "Q 3275 0 1925 0 \n",
       "L 628 0 \n",
       "L 628 4666 \n",
       "z\n",
       "\" transform=\"scale(0.015625)\"/>\n",
       "      <path id=\"DejaVuSans-61\" d=\"M 2194 1759 \n",
       "Q 1497 1759 1228 1600 \n",
       "Q 959 1441 959 1056 \n",
       "Q 959 750 1161 570 \n",
       "Q 1363 391 1709 391 \n",
       "Q 2188 391 2477 730 \n",
       "Q 2766 1069 2766 1631 \n",
       "L 2766 1759 \n",
       "L 2194 1759 \n",
       "z\n",
       "M 3341 1997 \n",
       "L 3341 0 \n",
       "L 2766 0 \n",
       "L 2766 531 \n",
       "Q 2569 213 2275 61 \n",
       "Q 1981 -91 1556 -91 \n",
       "Q 1019 -91 701 211 \n",
       "Q 384 513 384 1019 \n",
       "Q 384 1609 779 1909 \n",
       "Q 1175 2209 1959 2209 \n",
       "L 2766 2209 \n",
       "L 2766 2266 \n",
       "Q 2766 2663 2505 2880 \n",
       "Q 2244 3097 1772 3097 \n",
       "Q 1472 3097 1187 3025 \n",
       "Q 903 2953 641 2809 \n",
       "L 641 3341 \n",
       "Q 956 3463 1253 3523 \n",
       "Q 1550 3584 1831 3584 \n",
       "Q 2591 3584 2966 3190 \n",
       "Q 3341 2797 3341 1997 \n",
       "z\n",
       "\" transform=\"scale(0.015625)\"/>\n",
       "      <path id=\"DejaVuSans-74\" d=\"M 1172 4494 \n",
       "L 1172 3500 \n",
       "L 2356 3500 \n",
       "L 2356 3053 \n",
       "L 1172 3053 \n",
       "L 1172 1153 \n",
       "Q 1172 725 1289 603 \n",
       "Q 1406 481 1766 481 \n",
       "L 2356 481 \n",
       "L 2356 0 \n",
       "L 1766 0 \n",
       "Q 1100 0 847 248 \n",
       "Q 594 497 594 1153 \n",
       "L 594 3053 \n",
       "L 172 3053 \n",
       "L 172 3500 \n",
       "L 594 3500 \n",
       "L 594 4494 \n",
       "L 1172 4494 \n",
       "z\n",
       "\" transform=\"scale(0.015625)\"/>\n",
       "      <path id=\"DejaVuSans-73\" d=\"M 2834 3397 \n",
       "L 2834 2853 \n",
       "Q 2591 2978 2328 3040 \n",
       "Q 2066 3103 1784 3103 \n",
       "Q 1356 3103 1142 2972 \n",
       "Q 928 2841 928 2578 \n",
       "Q 928 2378 1081 2264 \n",
       "Q 1234 2150 1697 2047 \n",
       "L 1894 2003 \n",
       "Q 2506 1872 2764 1633 \n",
       "Q 3022 1394 3022 966 \n",
       "Q 3022 478 2636 193 \n",
       "Q 2250 -91 1575 -91 \n",
       "Q 1294 -91 989 -36 \n",
       "Q 684 19 347 128 \n",
       "L 347 722 \n",
       "Q 666 556 975 473 \n",
       "Q 1284 391 1588 391 \n",
       "Q 1994 391 2212 530 \n",
       "Q 2431 669 2431 922 \n",
       "Q 2431 1156 2273 1281 \n",
       "Q 2116 1406 1581 1522 \n",
       "L 1381 1569 \n",
       "Q 847 1681 609 1914 \n",
       "Q 372 2147 372 2553 \n",
       "Q 372 3047 722 3315 \n",
       "Q 1072 3584 1716 3584 \n",
       "Q 2034 3584 2315 3537 \n",
       "Q 2597 3491 2834 3397 \n",
       "z\n",
       "\" transform=\"scale(0.015625)\"/>\n",
       "      <path id=\"DejaVuSans-65\" d=\"M 3597 1894 \n",
       "L 3597 1613 \n",
       "L 953 1613 \n",
       "Q 991 1019 1311 708 \n",
       "Q 1631 397 2203 397 \n",
       "Q 2534 397 2845 478 \n",
       "Q 3156 559 3463 722 \n",
       "L 3463 178 \n",
       "Q 3153 47 2828 -22 \n",
       "Q 2503 -91 2169 -91 \n",
       "Q 1331 -91 842 396 \n",
       "Q 353 884 353 1716 \n",
       "Q 353 2575 817 3079 \n",
       "Q 1281 3584 2069 3584 \n",
       "Q 2775 3584 3186 3129 \n",
       "Q 3597 2675 3597 1894 \n",
       "z\n",
       "M 3022 2063 \n",
       "Q 3016 2534 2758 2815 \n",
       "Q 2500 3097 2075 3097 \n",
       "Q 1594 3097 1305 2825 \n",
       "Q 1016 2553 972 2059 \n",
       "L 3022 2063 \n",
       "z\n",
       "\" transform=\"scale(0.015625)\"/>\n",
       "      <path id=\"DejaVuSans-20\" transform=\"scale(0.015625)\"/>\n",
       "      <path id=\"DejaVuSans-6d\" d=\"M 3328 2828 \n",
       "Q 3544 3216 3844 3400 \n",
       "Q 4144 3584 4550 3584 \n",
       "Q 5097 3584 5394 3201 \n",
       "Q 5691 2819 5691 2113 \n",
       "L 5691 0 \n",
       "L 5113 0 \n",
       "L 5113 2094 \n",
       "Q 5113 2597 4934 2840 \n",
       "Q 4756 3084 4391 3084 \n",
       "Q 3944 3084 3684 2787 \n",
       "Q 3425 2491 3425 1978 \n",
       "L 3425 0 \n",
       "L 2847 0 \n",
       "L 2847 2094 \n",
       "Q 2847 2600 2669 2842 \n",
       "Q 2491 3084 2119 3084 \n",
       "Q 1678 3084 1418 2786 \n",
       "Q 1159 2488 1159 1978 \n",
       "L 1159 0 \n",
       "L 581 0 \n",
       "L 581 3500 \n",
       "L 1159 3500 \n",
       "L 1159 2956 \n",
       "Q 1356 3278 1631 3431 \n",
       "Q 1906 3584 2284 3584 \n",
       "Q 2666 3584 2933 3390 \n",
       "Q 3200 3197 3328 2828 \n",
       "z\n",
       "\" transform=\"scale(0.015625)\"/>\n",
       "      <path id=\"DejaVuSans-70\" d=\"M 1159 525 \n",
       "L 1159 -1331 \n",
       "L 581 -1331 \n",
       "L 581 3500 \n",
       "L 1159 3500 \n",
       "L 1159 2969 \n",
       "Q 1341 3281 1617 3432 \n",
       "Q 1894 3584 2278 3584 \n",
       "Q 2916 3584 3314 3078 \n",
       "Q 3713 2572 3713 1747 \n",
       "Q 3713 922 3314 415 \n",
       "Q 2916 -91 2278 -91 \n",
       "Q 1894 -91 1617 61 \n",
       "Q 1341 213 1159 525 \n",
       "z\n",
       "M 3116 1747 \n",
       "Q 3116 2381 2855 2742 \n",
       "Q 2594 3103 2138 3103 \n",
       "Q 1681 3103 1420 2742 \n",
       "Q 1159 2381 1159 1747 \n",
       "Q 1159 1113 1420 752 \n",
       "Q 1681 391 2138 391 \n",
       "Q 2594 391 2855 752 \n",
       "Q 3116 1113 3116 1747 \n",
       "z\n",
       "\" transform=\"scale(0.015625)\"/>\n",
       "      <path id=\"DejaVuSans-6c\" d=\"M 603 4863 \n",
       "L 1178 4863 \n",
       "L 1178 0 \n",
       "L 603 0 \n",
       "L 603 4863 \n",
       "z\n",
       "\" transform=\"scale(0.015625)\"/>\n",
       "     </defs>\n",
       "     <use xlink:href=\"#DejaVuSans-44\"/>\n",
       "     <use xlink:href=\"#DejaVuSans-61\" x=\"77.001953\"/>\n",
       "     <use xlink:href=\"#DejaVuSans-74\" x=\"138.28125\"/>\n",
       "     <use xlink:href=\"#DejaVuSans-61\" x=\"177.490234\"/>\n",
       "     <use xlink:href=\"#DejaVuSans-73\" x=\"238.769531\"/>\n",
       "     <use xlink:href=\"#DejaVuSans-65\" x=\"290.869141\"/>\n",
       "     <use xlink:href=\"#DejaVuSans-74\" x=\"352.392578\"/>\n",
       "     <use xlink:href=\"#DejaVuSans-20\" x=\"391.601562\"/>\n",
       "     <use xlink:href=\"#DejaVuSans-73\" x=\"423.388672\"/>\n",
       "     <use xlink:href=\"#DejaVuSans-61\" x=\"475.488281\"/>\n",
       "     <use xlink:href=\"#DejaVuSans-6d\" x=\"536.767578\"/>\n",
       "     <use xlink:href=\"#DejaVuSans-70\" x=\"634.179688\"/>\n",
       "     <use xlink:href=\"#DejaVuSans-6c\" x=\"697.65625\"/>\n",
       "     <use xlink:href=\"#DejaVuSans-65\" x=\"725.439453\"/>\n",
       "     <use xlink:href=\"#DejaVuSans-73\" x=\"786.962891\"/>\n",
       "    </g>\n",
       "   </g>\n",
       "   <g id=\"legend_1\">\n",
       "    <g id=\"patch_7\">\n",
       "     <path d=\"M 205.435 149.37625 \n",
       "L 273.283437 149.37625 \n",
       "Q 275.283437 149.37625 275.283437 147.37625 \n",
       "L 275.283437 119.02 \n",
       "Q 275.283437 117.02 273.283437 117.02 \n",
       "L 205.435 117.02 \n",
       "Q 203.435 117.02 203.435 119.02 \n",
       "L 203.435 147.37625 \n",
       "Q 203.435 149.37625 205.435 149.37625 \n",
       "z\n",
       "\" style=\"fill: #ffffff; opacity: 0.8; stroke: #cccccc; stroke-linejoin: miter\"/>\n",
       "    </g>\n",
       "    <g id=\"PathCollection_3\">\n",
       "     <g>\n",
       "      <use xlink:href=\"#m0129b643da\" x=\"217.435\" y=\"125.993437\" style=\"fill: #1f77b4; stroke: #333333\"/>\n",
       "     </g>\n",
       "    </g>\n",
       "    <g id=\"text_18\">\n",
       "     <!-- Class 0 -->\n",
       "     <g transform=\"translate(235.435 128.618437) scale(0.1 -0.1)\">\n",
       "      <defs>\n",
       "       <path id=\"DejaVuSans-43\" d=\"M 4122 4306 \n",
       "L 4122 3641 \n",
       "Q 3803 3938 3442 4084 \n",
       "Q 3081 4231 2675 4231 \n",
       "Q 1875 4231 1450 3742 \n",
       "Q 1025 3253 1025 2328 \n",
       "Q 1025 1406 1450 917 \n",
       "Q 1875 428 2675 428 \n",
       "Q 3081 428 3442 575 \n",
       "Q 3803 722 4122 1019 \n",
       "L 4122 359 \n",
       "Q 3791 134 3420 21 \n",
       "Q 3050 -91 2638 -91 \n",
       "Q 1578 -91 968 557 \n",
       "Q 359 1206 359 2328 \n",
       "Q 359 3453 968 4101 \n",
       "Q 1578 4750 2638 4750 \n",
       "Q 3056 4750 3426 4639 \n",
       "Q 3797 4528 4122 4306 \n",
       "z\n",
       "\" transform=\"scale(0.015625)\"/>\n",
       "      </defs>\n",
       "      <use xlink:href=\"#DejaVuSans-43\"/>\n",
       "      <use xlink:href=\"#DejaVuSans-6c\" x=\"69.824219\"/>\n",
       "      <use xlink:href=\"#DejaVuSans-61\" x=\"97.607422\"/>\n",
       "      <use xlink:href=\"#DejaVuSans-73\" x=\"158.886719\"/>\n",
       "      <use xlink:href=\"#DejaVuSans-73\" x=\"210.986328\"/>\n",
       "      <use xlink:href=\"#DejaVuSans-20\" x=\"263.085938\"/>\n",
       "      <use xlink:href=\"#DejaVuSans-30\" x=\"294.873047\"/>\n",
       "     </g>\n",
       "    </g>\n",
       "    <g id=\"PathCollection_4\">\n",
       "     <g>\n",
       "      <use xlink:href=\"#m526ce1d809\" x=\"217.435\" y=\"140.671562\" style=\"fill: #ff7f0e; stroke: #333333\"/>\n",
       "     </g>\n",
       "    </g>\n",
       "    <g id=\"text_19\">\n",
       "     <!-- Class 1 -->\n",
       "     <g transform=\"translate(235.435 143.296562) scale(0.1 -0.1)\">\n",
       "      <use xlink:href=\"#DejaVuSans-43\"/>\n",
       "      <use xlink:href=\"#DejaVuSans-6c\" x=\"69.824219\"/>\n",
       "      <use xlink:href=\"#DejaVuSans-61\" x=\"97.607422\"/>\n",
       "      <use xlink:href=\"#DejaVuSans-73\" x=\"158.886719\"/>\n",
       "      <use xlink:href=\"#DejaVuSans-73\" x=\"210.986328\"/>\n",
       "      <use xlink:href=\"#DejaVuSans-20\" x=\"263.085938\"/>\n",
       "      <use xlink:href=\"#DejaVuSans-31\" x=\"294.873047\"/>\n",
       "     </g>\n",
       "    </g>\n",
       "   </g>\n",
       "  </g>\n",
       " </g>\n",
       " <defs>\n",
       "  <clipPath id=\"p69f4b1a9ed\">\n",
       "   <rect x=\"58.523438\" y=\"22.318125\" width=\"221.76\" height=\"221.76\"/>\n",
       "  </clipPath>\n",
       " </defs>\n",
       "</svg>\n"
      ],
      "text/plain": [
       "<Figure size 400x400 with 1 Axes>"
      ]
     },
     "metadata": {},
     "output_type": "display_data"
    }
   ],
   "source": [
    "@torch.no_grad()  # Decorator, same effect as \"with torch.no_grad(): ...\" over the whole function.\n",
    "def visualize_classification(model, data, label):\n",
    "    if isinstance(data, Tensor):\n",
    "        data = data.cpu().numpy()\n",
    "    if isinstance(label, Tensor):\n",
    "        label = label.cpu().numpy()\n",
    "    data_0 = data[label == 0]\n",
    "    data_1 = data[label == 1]\n",
    "\n",
    "    plt.figure(figsize=(4, 4))\n",
    "    plt.scatter(data_0[:, 0], data_0[:, 1], edgecolor=\"#333\", label=\"Class 0\")\n",
    "    plt.scatter(data_1[:, 0], data_1[:, 1], edgecolor=\"#333\", label=\"Class 1\")\n",
    "    plt.title(\"Dataset samples\")\n",
    "    plt.ylabel(r\"$x_2$\")\n",
    "    plt.xlabel(r\"$x_1$\")\n",
    "    plt.legend()\n",
    "\n",
    "    # Let's make use of a lot of operations we have learned above\n",
    "    model.to(device)\n",
    "    c0 = Tensor(to_rgba(\"C0\")).to(device)\n",
    "    c1 = Tensor(to_rgba(\"C1\")).to(device)\n",
    "    x1 = torch.arange(-0.5, 1.5, step=0.01, device=device)\n",
    "    x2 = torch.arange(-0.5, 1.5, step=0.01, device=device)\n",
    "    xx1, xx2 = torch.meshgrid(x1, x2)  # Meshgrid function as in numpy\n",
    "    model_inputs = torch.stack([xx1, xx2], dim=-1)\n",
    "    preds = model(model_inputs)\n",
    "    preds = torch.sigmoid(preds)\n",
    "    # Specifying \"None\" in a dimension creates a new one\n",
    "    output_image = (1 - preds) * c0[None, None] + preds * c1[None, None]\n",
    "    output_image = (\n",
    "        output_image.cpu().numpy()\n",
    "    )  # Convert to numpy array. This only works for tensors on CPU, hence first push to CPU\n",
    "    plt.imshow(output_image, origin=\"lower\", extent=(-0.5, 1.5, -0.5, 1.5))\n",
    "    plt.grid(False)\n",
    "\n",
    "\n",
    "visualize_classification(model, dataset.data, dataset.label)\n",
    "plt.show()"
   ]
  },
  {
   "cell_type": "markdown",
   "id": "b8ac7242",
   "metadata": {},
   "source": [
    "#### 4. Escribe conclusiones sobre cómo te  fue siguiendo el tutorial, qué dificultades tuviste y qué cosas interesantes encontraste."
   ]
  },
  {
   "cell_type": "markdown",
   "id": "8cb1df27",
   "metadata": {},
   "source": [
    "Es fácil seguir las instrucciones del tutorial, sin embargo faltaban algunas instrucciones y configuraciones para que funcionara correctamente"
   ]
  },
  {
   "cell_type": "code",
   "execution_count": null,
   "id": "9e768dd7",
   "metadata": {},
   "outputs": [],
   "source": []
  }
 ],
 "metadata": {
  "colab": {
   "provenance": []
  },
  "jupytext": {
   "cell_metadata_filter": "colab,id,colab_type,-all",
   "formats": "ipynb,py:percent",
   "main_language": "python"
  },
  "kernelspec": {
   "display_name": "Python 3 (ipykernel)",
   "language": "python",
   "name": "python3"
  },
  "language_info": {
   "codemirror_mode": {
    "name": "ipython",
    "version": 3
   },
   "file_extension": ".py",
   "mimetype": "text/x-python",
   "name": "python",
   "nbconvert_exporter": "python",
   "pygments_lexer": "ipython3",
   "version": "3.10.11"
  },
  "papermill": {
   "default_parameters": {},
   "duration": 16.759473,
   "end_time": "2023-05-03T17:05:47.951877",
   "environment_variables": {},
   "exception": null,
   "input_path": "course_UvA-DL/01-introduction-to-pytorch/Introduction_to_PyTorch.ipynb",
   "output_path": ".notebooks/course_UvA-DL/01-introduction-to-pytorch.ipynb",
   "parameters": {},
   "start_time": "2023-05-03T17:05:31.192404",
   "version": "2.4.0"
  },
  "widgets": {
   "application/vnd.jupyter.widget-state+json": {}
  }
 },
 "nbformat": 4,
 "nbformat_minor": 5
}
