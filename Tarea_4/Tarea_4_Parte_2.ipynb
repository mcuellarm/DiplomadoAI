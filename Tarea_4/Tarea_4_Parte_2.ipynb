{
 "cells": [
  {
   "cell_type": "markdown",
   "id": "f72dc3de-2c05-48c1-9b29-b3eb54ef3fdc",
   "metadata": {},
   "source": [
    "# Tarea 4: Empezando con la Programación orientada a objetos\n",
    "\n",
    "## Parte 2\n"
   ]
  },
  {
   "cell_type": "markdown",
   "id": "edcd4f11-11f5-4784-9b49-b9dcd9d7b310",
   "metadata": {},
   "source": [
    "* 3. Escriba una clase con las siguientes funcionalidades:\n",
    "    * 3.1. Al instanciar un objeto, lee un conjunto de datos numéricos. Por ejemplo puede usar el mismo conjunto de datos iris.csv. Instancie los datos en un dataframe de Pandas\n",
    "    * 3.2 Implemente un método que calcule las estadísticas descriptivas básicas de cada una de las variables.\n",
    "    * 3.3 Implemente un método que entregue los nombre de las variables disponibles.\n",
    "    * 3.3 Implemente un método que reciba el nombre de una variable disponible dentro del objeto ( en el  dataframe) y regrese: sus estadísticas básicas:  media, mediana, desviación, percentiles q25, q50, q75 y dibuje un histograma de la distribución de la variable."
   ]
  },
  {
   "cell_type": "code",
   "execution_count": 23,
   "id": "26dbc235-186d-464b-839a-3af12a7d1299",
   "metadata": {},
   "outputs": [
    {
     "name": "stdout",
     "output_type": "stream",
     "text": [
      "Estadisticas de la variable sepal.length:\n",
      "Media: 5.843333333333334\n",
      "Mediana: 5.8\n",
      "Moda: 0    5.0\n",
      "Name: sepal.length, dtype: float64\n",
      "Estadisticas de la variable sepal.width:\n",
      "Media: 3.0573333333333337\n",
      "Mediana: 3.0\n",
      "Moda: 0    3.0\n",
      "Name: sepal.width, dtype: float64\n",
      "Estadisticas de la variable petal.length:\n",
      "Media: 3.7580000000000005\n",
      "Mediana: 4.35\n",
      "Moda: 0    1.4\n",
      "1    1.5\n",
      "Name: petal.length, dtype: float64\n",
      "Estadisticas de la variable petal.width:\n",
      "Media: 1.1993333333333336\n",
      "Mediana: 1.3\n",
      "Moda: 0    0.2\n",
      "Name: petal.width, dtype: float64\n",
      "Estadisticas de la variable variety:\n",
      "Media: No definida\n",
      "Mediana: No definida\n",
      "Moda: No definida\n",
      "\n",
      "\n",
      "Variables disponibles: \n",
      "   sepal.length\n",
      "   sepal.width\n",
      "   petal.length\n",
      "   petal.width\n",
      "   variety\n",
      "\n",
      "\n",
      "Estadísticas básicas de la variable: sepal.length\n",
      "   Media: 5.843333333333334\n",
      "   Mediana: 5.8\n",
      "   Moda: 0    5.0\n",
      "Name: sepal.length, dtype: float64\n",
      "   Desviación: 0.8253012917851409\n",
      "   Percentil q25: 5.1\n",
      "   Percentil q50: 5.8\n",
      "   Percentil q75: 6.4\n"
     ]
    },
    {
     "data": {
      "image/png": "[encoded data removed]",
      "text/plain": [
       "<Figure size 640x480 with 1 Axes>"
      ]
     },
     "metadata": {},
     "output_type": "display_data"
    }
   ],
   "source": [
    "import pandas as pd\n",
    "import matplotlib\n",
    "\n",
    "class datos_y_estadisticas:\n",
    "    def __init__(self, datos):\n",
    "        self.df = pd.read_csv(datos, delimiter=\",\")\n",
    "    \n",
    "    def getEstadisticas(self):\n",
    "        #print(self.df.head)\n",
    "        for col in self.df.columns:\n",
    "            print(f\"Estadisticas de la variable {col}:\");\n",
    "            \n",
    "            media = \"No definida\";\n",
    "            mediana = \"No definida\";\n",
    "            moda = \"No definida\";\n",
    "\n",
    "            if self.df[col].dtypes == \"float64\" or self.df[col].dtypes == \"int64\":\n",
    "                media = self.df[col].mean();\n",
    "                mediana = self.df[col].median();\n",
    "                moda = self.df[col].mode();\n",
    "            \n",
    "            print(f\"Media: {media}\");\n",
    "            print(f\"Mediana: {mediana}\");\n",
    "            print(f\"Moda: {moda}\");      \n",
    "    \n",
    "    def getVariablesDisponibles(self):\n",
    "        print(\"Variables disponibles: \");\n",
    "        for x in list(self.df.columns):\n",
    "            print (f\"   {x}\");\n",
    "        \n",
    "    def getEstadisticas_por_variable(self, variable):\n",
    "        if self.df[variable].dtypes == \"float64\" or self.df[variable].dtypes == \"int64\":\n",
    "            print(\"Estadísticas básicas de la variable:\", variable);\n",
    "            media = self.df[variable].mean();\n",
    "            print(f\"   Media: {media}\");\n",
    "            mediana = self.df[variable].median();\n",
    "            print(f\"   Mediana: {mediana}\");\n",
    "            moda = self.df[variable].mode();\n",
    "            print(f\"   Moda: {moda}\"); \n",
    "            desviacion = self.df[variable].std(ddof=0);\n",
    "            print(f\"   Desviación: {desviacion}\"); \n",
    "            q25 = self.df[variable].quantile(0.25);\n",
    "            print(f\"   Percentil q25: {q25}\"); \n",
    "            q50 = self.df[variable].quantile(0.5);\n",
    "            print(f\"   Percentil q50: {q50}\"); \n",
    "            q75 = self.df[variable].quantile(0.75);\n",
    "            print(f\"   Percentil q75: {q75}\"); \n",
    "            histog = self.df.hist(column=variable);\n",
    "        else:\n",
    "            print(\"La variable no es numérica.\")\n",
    "        \n",
    "\n",
    "datos = datos_y_estadisticas(\"iris.csv\");\n",
    "datos.getEstadisticas()\n",
    "print(\"\\n\");\n",
    "datos.getVariablesDisponibles();\n",
    "print(\"\\n\");\n",
    "datos.getEstadisticas_por_variable(\"sepal.length\")"
   ]
  },
  {
   "cell_type": "code",
   "execution_count": null,
   "id": "5345a981-9daa-443c-8ea1-b4d899493eab",
   "metadata": {},
   "outputs": [],
   "source": []
  }
 ],
 "metadata": {
  "kernelspec": {
   "display_name": "Python 3 (ipykernel)",
   "language": "python",
   "name": "python3"
  },
  "language_info": {
   "codemirror_mode": {
    "name": "ipython",
    "version": 3
   },
   "file_extension": ".py",
   "mimetype": "text/x-python",
   "name": "python",
   "nbconvert_exporter": "python",
   "pygments_lexer": "ipython3",
   "version": "3.8.16"
  }
 },
 "nbformat": 4,
 "nbformat_minor": 5
}
