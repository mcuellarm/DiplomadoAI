{
 "cells": [
  {
   "cell_type": "markdown",
   "id": "ee0fceed-a510-438f-8c05-2eb75953c659",
   "metadata": {},
   "source": [
    "# Tarea 7: Sobre los tipos de creatividad según Margaret Boden y el primer Perceptrón"
   ]
  },
  {
   "cell_type": "markdown",
   "id": "83f40790-60da-4937-a743-4227583e28a2",
   "metadata": {},
   "source": [
    "1. Busca ejemplos de diferentes tipos de creatividad según la científica cognitiva Margaret Boden,  los cuales corresponden a: Creatividad exploratoria, por combinación y creatividad transformadora. \n",
    "Referencia bibliográfica: MARGARET, BODEN. La mente creativa. Mitos y Mecanismos Edit. Gedisa. Barcelona, 1994)."
   ]
  },
  {
   "cell_type": "markdown",
   "id": "d9756239-0e04-4458-bf64-e52f4ad4d07c",
   "metadata": {},
   "source": [
    "### A. Creatividad exploratoria\n",
    "\n",
    "* Un diseñador gráfico que combina elementos de diferentes estilos artísticos para crear una estética visual única y original en una campaña publicitaria.\n",
    "\n",
    "* Un científico que utiliza principios de la biología y la ingeniería para diseñar nuevos dispositivos médicos que imitan funciones biológicas y mejoran los tratamientos médicos existentes.\n",
    "\n",
    "* Un chef que fusiona ingredientes y técnicas culinarias de diferentes culturas para crear platos únicos y deliciosos que nunca se han visto antes.\n",
    "\n",
    "### B. Creatividad por combinación\n",
    "\n",
    "* Un músico que fusiona géneros musicales diferentes, como el jazz y el hip-hop, creando un estilo musical único y innovador.\n",
    "\n",
    "* Un inventor que combina tecnologías existentes de diferentes industrias para desarrollar un dispositivo revolucionario que soluciona un problema específico.\n",
    "\n",
    "* Un diseñador de moda que mezcla diferentes telas, estampados y estilos de prendas para crear una colección de ropa que rompe con las convenciones y sorprende a la audiencia.\n",
    "\n",
    "### Creatividad transformadora\n",
    "\n",
    "* Un artista que desarrolla una nueva técnica artística que desafía las convenciones establecidas y abre nuevas posibilidades de expresión creativa.\n",
    "\n",
    "* Un líder empresarial que introduce un modelo de negocio innovador que cambia la forma en que se aborda un determinado sector, rompiendo con las prácticas tradicionales y generando un impacto transformador en la industria.\n",
    "\n",
    "* Un diseñador de productos que desarrolla un enfoque radicalmente diferente para abordar un problema de diseño, generando soluciones innovadoras que desafían las expectativas existentes."
   ]
  },
  {
   "cell_type": "code",
   "execution_count": null,
   "id": "4539380e-6da8-40f4-8283-b32f9167f9fb",
   "metadata": {},
   "outputs": [],
   "source": []
  }
 ],
 "metadata": {
  "kernelspec": {
   "display_name": "Python 3 (ipykernel)",
   "language": "python",
   "name": "python3"
  },
  "language_info": {
   "codemirror_mode": {
    "name": "ipython",
    "version": 3
   },
   "file_extension": ".py",
   "mimetype": "text/x-python",
   "name": "python",
   "nbconvert_exporter": "python",
   "pygments_lexer": "ipython3",
   "version": "3.8.16"
  }
 },
 "nbformat": 4,
 "nbformat_minor": 5
}
