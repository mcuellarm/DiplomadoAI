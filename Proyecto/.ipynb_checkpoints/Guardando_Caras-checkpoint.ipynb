{
 "cells": [
  {
   "cell_type": "code",
   "execution_count": 1,
   "id": "0e663212",
   "metadata": {},
   "outputs": [
    {
     "name": "stdout",
     "output_type": "stream",
     "text": [
      "1/1 [==============================] - 0s 353ms/step\n",
      "1/1 [==============================] - 0s 242ms/step\n",
      "1/1 [==============================] - 0s 47ms/step\n",
      "1/1 [==============================] - 0s 53ms/step\n",
      "1/1 [==============================] - 0s 96ms/step\n",
      "1/1 [==============================] - 0s 54ms/step\n",
      "1/1 [==============================] - 0s 52ms/step\n",
      "2/2 [==============================] - 0s 14ms/step\n",
      "1/1 [==============================] - 0s 347ms/step\n",
      "(183, 275, 3)\n"
     ]
    }
   ],
   "source": [
    "import os\n",
    "import cv2\n",
    "from matplotlib import pyplot\n",
    "from mtcnn.mtcnn import MTCNN\n",
    "import numpy as np\n",
    " \n",
    " #Cargar imagenes\n",
    "def cargar_imagen(directorio, nombre):\n",
    "    #return cv2.cvtColor(cv2.imread(f'{directorio}/{nombre}'),cv2.COLOR_BGR2RGB)\n",
    "    return cv2.imread(f'{directorio}/{nombre}',1)\n",
    "\n",
    " #----------------- Detectamos el rostro y exportamos los pixeles --------------------------\n",
    "    \n",
    "def reg_rostro(img, lista_resultados):\n",
    "    #data = pyplot.imread(img)\n",
    "    data = cargar_imagen(\"Conocidos\", \"varios.jpg\")\n",
    "    cv2.imshow('Imagen', data)\n",
    "    cv2.waitKey(0)\n",
    "    print(data.shape)\n",
    "    cv2.imwrite(\"./Resultados/orig.jpg\",data)\n",
    "    for i in range(len(lista_resultados)):\n",
    "        x1,y1,ancho, alto = lista_resultados[i]['box']\n",
    "        x2,y2 = x1 + ancho, y1 + alto\n",
    "        #pyplot.subplot(1, len(lista_resultados), i+1)\n",
    "        #pyplot.axis('off')\n",
    "        cara_reg = data[y1:y2, x1:x2]\n",
    "        cara_reg = cv2.resize(cara_reg,dsize=(96,96)) #Guardamos la imagen con un tamaño de 150x200\n",
    "        cv2.imwrite(\"./Resultados/\"+str(i)+\".jpg\",cara_reg)\n",
    "        #pyplot.imshow(data[y1:y2, x1:x2])\n",
    "    #pyplot.show()\n",
    "\n",
    "img = \"./Conocidos/varios.jpg\"\n",
    "#pixeles = pyplot.imread(img)\n",
    "pixeles = cargar_imagen(\"Conocidos\", \"varios.jpg\")\n",
    "detector = MTCNN()\n",
    "caras = detector.detect_faces(pixeles)\n",
    "reg_rostro(img, caras)"
   ]
  },
  {
   "cell_type": "code",
   "execution_count": null,
   "id": "655b6211",
   "metadata": {},
   "outputs": [],
   "source": []
  }
 ],
 "metadata": {
  "kernelspec": {
   "display_name": "Python 3 (ipykernel)",
   "language": "python",
   "name": "python3"
  },
  "language_info": {
   "codemirror_mode": {
    "name": "ipython",
    "version": 3
   },
   "file_extension": ".py",
   "mimetype": "text/x-python",
   "name": "python",
   "nbconvert_exporter": "python",
   "pygments_lexer": "ipython3",
   "version": "3.10.11"
  }
 },
 "nbformat": 4,
 "nbformat_minor": 5
}
