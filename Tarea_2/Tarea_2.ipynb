{
 "cells": [
  {
   "cell_type": "markdown",
   "id": "0d9a0504-c8f0-4677-bae3-c2d103efca58",
   "metadata": {},
   "source": [
    "# Empezando a programar en Python\n",
    "\n",
    "*19 de abril de 2023*\n",
    "\n",
    "## Mauricio Ricardo Cuellar Martinez"
   ]
  },
  {
   "cell_type": "markdown",
   "id": "75add474-e68b-42cc-b7f8-5f593f3c7595",
   "metadata": {},
   "source": [
    "**Parte 1**"
   ]
  },
  {
   "cell_type": "code",
   "execution_count": 14,
   "id": "9192e1b3-a9ba-45f7-a86f-55c4eb971bff",
   "metadata": {},
   "outputs": [
    {
     "name": "stdin",
     "output_type": "stream",
     "text": [
      "Ingrese un valor para la variable 1 y presione Enter:  6\n",
      "Ingrese un valor para la variable 2 y presione Enter:  7\n",
      "Ingrese un valor para la variable 3 y presione Enter:  3\n",
      "Ingrese un valor para la variable 4 y presione Enter:  3\n"
     ]
    },
    {
     "name": "stdout",
     "output_type": "stream",
     "text": [
      "El promedio de los números ingresados es:  4.75\n"
     ]
    }
   ],
   "source": [
    "num1 = input(\"Ingrese un valor para la variable 1 y presione Enter: \")\n",
    "num2 = input(\"Ingrese un valor para la variable 2 y presione Enter: \")\n",
    "num3 = input(\"Ingrese un valor para la variable 3 y presione Enter: \")\n",
    "num4 = input(\"Ingrese un valor para la variable 4 y presione Enter: \")\n",
    "\n",
    "num1, num2, num3, num4 = float(num1), float(num2), float(num3), float(num4)\n",
    "\n",
    "promedio = round((num1 + num2 + num3 + num4)/4, 3)\n",
    "\n",
    "print(\"El promedio de los números ingresados es: \", promedio)"
   ]
  },
  {
   "cell_type": "markdown",
   "id": "143a27d7-18c4-4da6-972f-fac02876d8d3",
   "metadata": {},
   "source": [
    "**Parte 2**"
   ]
  },
  {
   "cell_type": "code",
   "execution_count": 39,
   "id": "bcf7cc8a-f0ea-4cd8-b56f-33d0bf68cbe0",
   "metadata": {},
   "outputs": [
    {
     "name": "stdin",
     "output_type": "stream",
     "text": [
      "Ingrese 5 numeros separados por ',' y presione Enter:  2,3,5,1,8,9,4,5\n"
     ]
    },
    {
     "name": "stdout",
     "output_type": "stream",
     "text": [
      "El promedio de los números ingresados es:  4.625\n",
      "Los números ingresados que son mayores al promedio son:  5, 8, 9, 5\n"
     ]
    }
   ],
   "source": [
    "cadena = input(\"Ingrese 5 numeros separados por ',' y presione Enter: \")\n",
    "lista = [int(x) for x in cadena.split(\",\")]\n",
    "\n",
    "promedio = 0\n",
    "for i in lista:\n",
    "    promedio += i\n",
    "\n",
    "promedio /= len(lista)\n",
    "print(\"El promedio de los números ingresados es: \", promedio)\n",
    "\n",
    "mayores_al_promedio = [ str(x) for x in lista if x > promedio]\n",
    "print(\"Los números ingresados que son mayores al promedio son: \", \", \".join(mayores_al_promedio))"
   ]
  }
 ],
 "metadata": {
  "kernelspec": {
   "display_name": "Python 3 (ipykernel)",
   "language": "python",
   "name": "python3"
  },
  "language_info": {
   "codemirror_mode": {
    "name": "ipython",
    "version": 3
   },
   "file_extension": ".py",
   "mimetype": "text/x-python",
   "name": "python",
   "nbconvert_exporter": "python",
   "pygments_lexer": "ipython3",
   "version": "3.8.16"
  }
 },
 "nbformat": 4,
 "nbformat_minor": 5
}
