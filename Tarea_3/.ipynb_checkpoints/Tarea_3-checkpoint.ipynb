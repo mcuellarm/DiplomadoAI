{
 "cells": [
  {
   "cell_type": "markdown",
   "id": "6e812d0f-ca5f-4682-99af-f8150cbe29fd",
   "metadata": {},
   "source": [
    "# Tarea 3. Funciones"
   ]
  },
  {
   "cell_type": "markdown",
   "id": "6136e6a1-6a8d-4dc4-9bf3-1caa6df6d6c2",
   "metadata": {},
   "source": [
    "**Ejercicio 1:** Escriba una función  que reciba la fecha de nacimiento de un a persona y calcule la edad de la persona"
   ]
  },
  {
   "cell_type": "code",
   "execution_count": 17,
   "id": "72cc86dc-412a-4ed6-8eeb-6e48b4d87c81",
   "metadata": {},
   "outputs": [
    {
     "name": "stdout",
     "output_type": "stream",
     "text": [
      "33 años\n"
     ]
    }
   ],
   "source": [
    "from datetime import datetime\n",
    "from dateutil.relativedelta import relativedelta\n",
    "\n",
    "def calcularEdad(fechaN):\n",
    "    edad = relativedelta(datetime.now(), fechaN)\n",
    "    return edad.years\n",
    "\n",
    "fechaNacimiento = datetime.strptime(\"30-10-1989\", '%d-%m-%Y')\n",
    "print(f\"{calcularEdad(fechaNacimiento)} años\")"
   ]
  },
  {
   "cell_type": "markdown",
   "id": "4326b08e-37fc-4f6b-a2d6-09e08c90f33a",
   "metadata": {},
   "source": [
    "**Ejercicio 2:** Crea una función EscribirCentrado, que reciba como parámetro un texto y lo escriba centrado en pantalla (suponiendo una anchura de 80 columnas; pista: deberás escribir 40 - longitud/2 espacios antes del texto).  "
   ]
  },
  {
   "cell_type": "code",
   "execution_count": 44,
   "id": "83711221-4f41-461b-a3cc-3a5cfdfa3a91",
   "metadata": {},
   "outputs": [
    {
     "name": "stdout",
     "output_type": "stream",
     "text": [
      "                                Texto de prueba 1\n",
      "                             Texto de prueba numero 2\n",
      " Python es un lenguaje de programación ampliamente utilizado en las aplicaciones \n",
      " web, el desarrollo de software, la ciencia de datos y el machine learning (ML). \n",
      " Los desarrolladores utilizan Python porque es eficiente y fácil de aprender, ade\n",
      " más de que se puede ejecutar en muchas plataformas diferentes. El software Pytho\n",
      " n se puede descargar gratis, se integra bien a todos los tipos de sistemas y aum\n",
      "                        enta la velocidad del desarrollo.\n"
     ]
    }
   ],
   "source": [
    "def EscribirCentrado(texto):\n",
    "    lista = dividirTexto(texto)\n",
    "    for item in lista:\n",
    "        \n",
    "        espacios = \"\";\n",
    "\n",
    "        for x in range(0,int(40-len(item)/2)):\n",
    "            espacios += \" \"\n",
    "        print(espacios, item)\n",
    "\n",
    "def dividirTexto(texto):\n",
    "    listaTexto = []\n",
    "    if len(texto) > 80:\n",
    "        listaTexto.append(texto[0:80])\n",
    "        listaTexto.extend(dividirTexto(texto[80:len(texto)]))\n",
    "        return listaTexto\n",
    "    else:\n",
    "        return [texto]\n",
    "\n",
    "EscribirCentrado(\"Texto de prueba 1\")\n",
    "EscribirCentrado(\"Texto de prueba numero 2\")\n",
    "EscribirCentrado(\"Python es un lenguaje de programación ampliamente utilizado en las aplicaciones web, el desarrollo de software, la ciencia de datos y el machine learning (ML). Los desarrolladores utilizan Python porque es eficiente y fácil de aprender, además de que se puede ejecutar en muchas plataformas diferentes. El software Python se puede descargar gratis, se integra bien a todos los tipos de sistemas y aumenta la velocidad del desarrollo.\")\n"
   ]
  },
  {
   "cell_type": "markdown",
   "id": "cb756ef3-b230-43db-ae52-3450a57d9660",
   "metadata": {},
   "source": [
    "**Ejercicio 3:** Construya una función decorada que reciba un texto y lo escriba marcado con Markdown en itálica y resaltada (bold). Revise la lección de decoradores, no vista en clase."
   ]
  },
  {
   "cell_type": "code",
   "execution_count": 57,
   "id": "3a5dcdfa-e027-4340-8390-b9d410ad09d6",
   "metadata": {},
   "outputs": [
    {
     "data": {
      "text/markdown": [
       "***Texto en itálica y resaltada***"
      ],
      "text/plain": [
       "<IPython.core.display.Markdown object>"
      ]
     },
     "metadata": {},
     "output_type": "display_data"
    }
   ],
   "source": [
    "from IPython.display import display, Markdown\n",
    "\n",
    "\n",
    "\n",
    "def printMarkdown(txtOrg):\n",
    "    def addMarkdown():\n",
    "        return \"***\"+txtOrg()+\"***\"\n",
    "    \n",
    "    return addMarkdown\n",
    "\n",
    "def textoOriginal():\n",
    "    return \"Texto en itálica y resaltada\"\n",
    "\n",
    "imprimir = printMarkdown(textoOriginal)  \n",
    "\n",
    "display(Markdown(imprimir()))"
   ]
  },
  {
   "cell_type": "markdown",
   "id": "545aaf76-38a2-4242-8642-e4c343fd30a9",
   "metadata": {},
   "source": [
    "**Ejercicio 4:** Crea un programa que pida dos número enteros al usuario y diga si alguno de ellos es múltiplo del otro. "
   ]
  },
  {
   "cell_type": "code",
   "execution_count": 71,
   "id": "2656cf58-fc2a-4813-b612-7a88f8bf9a10",
   "metadata": {},
   "outputs": [
    {
     "name": "stdin",
     "output_type": "stream",
     "text": [
      "Ingrese el primer número y presione Enter:  3\n",
      "Ingrese el segundo número y presione Enter:  6\n"
     ]
    },
    {
     "name": "stdout",
     "output_type": "stream",
     "text": [
      "6 es múltiplo de 3.\n"
     ]
    }
   ],
   "source": [
    "num1 = int(input(\"Ingrese el primer número y presione Enter: \"))\n",
    "num2 = int(input(\"Ingrese el segundo número y presione Enter: \"))\n",
    "\n",
    "if num1 % num2 == 0:\n",
    "    print (f\"{num1} es múltiplo de {num2}.\")\n",
    "elif (num2 % num1) == 0:\n",
    "    print (f\"{num2} es múltiplo de {num1}.\")"
   ]
  },
  {
   "cell_type": "markdown",
   "id": "06b91cd1-c344-4cfd-ad47-04c348b2a46f",
   "metadata": {},
   "source": [
    "**Ejercicio 5:** Crear una función que reciba una lista  de 24 valores de temperatura leída hora en un día y que calcule la temperatura media  Cree una lista con 24 valores de temperatura de un día de Bogotá y pruebe su función. Invente los datos."
   ]
  },
  {
   "cell_type": "code",
   "execution_count": 73,
   "id": "9f4b74b1-6c72-4f85-9d5e-6e8e49809328",
   "metadata": {},
   "outputs": [
    {
     "name": "stdout",
     "output_type": "stream",
     "text": [
      "La temperatura promedio es:  10.416666666666666\n"
     ]
    }
   ],
   "source": [
    "def media(lista):\n",
    "    total = 0\n",
    "    for i in range(0,24):\n",
    "        total += lista[i]\n",
    "    \n",
    "    return total/24\n",
    "\n",
    "listTemperatura = [9, 9, 8, 8, 7, 7, 8, 8, 9, 9, 10, 10, 13, 15, 15, 16, 15, 14, 13, 10, 10, 9, 9, 9]\n",
    "\n",
    "print(\"La temperatura promedio es: \", media(listTemperatura))"
   ]
  },
  {
   "cell_type": "markdown",
   "id": "94f0db58-9991-4cd5-a2c7-554305215bf6",
   "metadata": {},
   "source": [
    "**Ejercicio 5.2:** Crea un función “ConvertirEspaciado”, que reciba como parámetro un texto y devuelve una cadena con un espacio adicional tras cada letra. Por ejemplo, “Hola, tú” devolverá “H o l a , t ú “.  Pruebe"
   ]
  },
  {
   "cell_type": "code",
   "execution_count": 81,
   "id": "59e72da5-0c5e-46d6-bcc7-f215ade537d3",
   "metadata": {},
   "outputs": [
    {
     "name": "stdout",
     "output_type": "stream",
     "text": [
      "E s t a e s u n a p r u e b a d e e s p a c i a d o , g r a c i a s\n"
     ]
    }
   ],
   "source": [
    "def convertirEspaciado(texto):\n",
    "    lista = [x for x in texto if x != \" \"]\n",
    "    return \" \".join(lista)\n",
    "\n",
    "print(convertirEspaciado(\"Esta es una prueba de espaciado, gracias\"))"
   ]
  },
  {
   "cell_type": "markdown",
   "id": "065b9693-9cdd-43a6-a5f8-d93f5b2b2308",
   "metadata": {},
   "source": [
    "**Ejercicio 6:** Crea una función “calcularMaxMin” que recibe una arreglo con valores numérico y devuelve el valor máximo y el mínimo. "
   ]
  },
  {
   "cell_type": "code",
   "execution_count": 86,
   "id": "7bf8da95-6868-4635-a807-8d836ce4bbb2",
   "metadata": {},
   "outputs": [
    {
     "name": "stdout",
     "output_type": "stream",
     "text": [
      "El mínimo es -2, y el máximo es 56\n"
     ]
    }
   ],
   "source": [
    "def calcularMaxMin(lista):\n",
    "    min = lista[0]\n",
    "    max = lista[0]\n",
    "    \n",
    "    for i in lista:\n",
    "        max = i if i > max else max\n",
    "        min = i if i < min else min\n",
    "        \n",
    "    return (min, max)\n",
    "\n",
    "lista = [1,2,3,0,8,56,4,-2,4,9]\n",
    "(min, max) = calcularMaxMin(lista)\n",
    "\n",
    "print(f\"El mínimo es {min}, y el máximo es {max}\")"
   ]
  },
  {
   "cell_type": "markdown",
   "id": "a71c27d6-5300-4f12-91e8-455429531e66",
   "metadata": {},
   "source": [
    "**Ejercicio 7:** Diseñar una función que calcule el área y el perímetro de una circunferencia. "
   ]
  },
  {
   "cell_type": "code",
   "execution_count": 87,
   "id": "7228c6ef-5ab6-497a-afb7-1dbfed61d142",
   "metadata": {},
   "outputs": [
    {
     "name": "stdout",
     "output_type": "stream",
     "text": [
      "Para un círculo de radio 5, el perímetro es 31.41592653589793 y el área es 78.53981633974483\n"
     ]
    }
   ],
   "source": [
    "import math\n",
    "\n",
    "def areaPerimetro(r):\n",
    "    p = 2 * math.pi * r\n",
    "    a = math.pi * (r)**2\n",
    "    \n",
    "    return a, p\n",
    "\n",
    "radio = 5\n",
    "area, perimetro = areaPerimetro(radio)\n",
    "\n",
    "print(f\"Para un círculo de radio {radio}, el perímetro es {perimetro} y el área es {area}\")"
   ]
  },
  {
   "cell_type": "markdown",
   "id": "1420c2f5-d7fa-4eee-b77f-f475f1b4b8fb",
   "metadata": {},
   "source": [
    "**Ejercicio 8:** Crear una función  llamada “Login”, que recibe un nombre de usuario y una contraseña y devuelva Verdadero si el nombre de usuario es “usuario1” y la contraseña es “asdasd”. Además recibe el número de intentos que se ha intentado hacer login y si no se ha podido hacer login incremente este valor."
   ]
  },
  {
   "cell_type": "code",
   "execution_count": 94,
   "id": "f03739d9-c063-4fed-b383-a52ed5c03b74",
   "metadata": {},
   "outputs": [
    {
     "name": "stdin",
     "output_type": "stream",
     "text": [
      "Ingrese el usuario:  osd\n",
      "Ingrese la contraseña asd\n"
     ]
    },
    {
     "name": "stdout",
     "output_type": "stream",
     "text": [
      "Usuario o contraseña incorrectos. 1 intentos\n"
     ]
    },
    {
     "name": "stdin",
     "output_type": "stream",
     "text": [
      "Ingrese el usuario:  asf\n",
      "Ingrese la contraseña asdf\n"
     ]
    },
    {
     "name": "stdout",
     "output_type": "stream",
     "text": [
      "Usuario o contraseña incorrectos. 2 intentos\n"
     ]
    },
    {
     "name": "stdin",
     "output_type": "stream",
     "text": [
      "Ingrese el usuario:  wqer\n",
      "Ingrese la contraseña er\n"
     ]
    },
    {
     "name": "stdout",
     "output_type": "stream",
     "text": [
      "Usuario o contraseña incorrectos. 3 intentos\n"
     ]
    },
    {
     "name": "stdin",
     "output_type": "stream",
     "text": [
      "Ingrese el usuario:  user\n",
      "Ingrese la contraseña as\n"
     ]
    },
    {
     "name": "stdout",
     "output_type": "stream",
     "text": [
      "Usuario o contraseña incorrectos. 4 intentos\n"
     ]
    },
    {
     "name": "stdin",
     "output_type": "stream",
     "text": [
      "Ingrese el usuario:  usuario1\n",
      "Ingrese la contraseña asdasd\n"
     ]
    },
    {
     "name": "stdout",
     "output_type": "stream",
     "text": [
      "Login correcto en 5 intentos\n"
     ]
    }
   ],
   "source": [
    "def login(n, user, pswd):\n",
    "    \n",
    "    return (n+1, (user == \"usuario1\" and pswd == \"asdasd\"))\n",
    "\n",
    "intentos = 0\n",
    "while(True):\n",
    "    user = input(\"Ingrese el usuario: \")\n",
    "    pas = input(\"Ingrese la contraseña\")\n",
    "    \n",
    "    intentos, correcto = login(intentos, user, pas)\n",
    "    \n",
    "    if correcto:\n",
    "        print(\"Login correcto en {} intentos\".format(intentos))\n",
    "        break\n",
    "    else:\n",
    "        print(\"Usuario o contraseña incorrectos. {} intentos\".format(intentos))"
   ]
  },
  {
   "cell_type": "markdown",
   "id": "f70637ee-3894-41ee-b165-d06d08e6cda5",
   "metadata": {},
   "source": [
    "**Ejercicio 9:** Crear una función recursiva que permita calcular el factorial de un número. Realiza un programa principal donde se lea un entero y se muestre el resultado del factorial. Revise la lección de funciones."
   ]
  },
  {
   "cell_type": "code",
   "execution_count": 98,
   "id": "d27a26c4-13ec-4d7b-9aef-511ac170046a",
   "metadata": {},
   "outputs": [
    {
     "name": "stdin",
     "output_type": "stream",
     "text": [
      "Ingrese un número para calcular el factorial:  6\n"
     ]
    },
    {
     "name": "stdout",
     "output_type": "stream",
     "text": [
      "El factorial de 6 es: 720\n"
     ]
    }
   ],
   "source": [
    "def factorial(n):\n",
    "    return n*(factorial(n-1) if n>1 else 1)\n",
    "\n",
    "n = int(input(\"Ingrese un número para calcular el factorial: \"))\n",
    "print(f\"El factorial de {n} es: {factorial(n)}\")"
   ]
  },
  {
   "cell_type": "markdown",
   "id": "a8511195-525e-4f1b-aa8d-0c0bd72328da",
   "metadata": {},
   "source": [
    "**Ejercicio 10:** Escribir dos funciones que permitan calcular:\n",
    "* La cantidad de segundos en un tiempo dado en horas, minutos y segundos.\n",
    "* La cantidad de horas, minutos y segundos de un tiempo dado en segundos"
   ]
  },
  {
   "cell_type": "code",
   "execution_count": 111,
   "id": "d5470f10-1706-45c5-9ca4-bd38226dbcd5",
   "metadata": {},
   "outputs": [
    {
     "name": "stdout",
     "output_type": "stream",
     "text": [
      "7390\n",
      "2h, 3m, 10s\n"
     ]
    }
   ],
   "source": [
    "def time2secs(h, m, s):\n",
    "    return (h*3600 + m*60 + s)\n",
    "\n",
    "def secs2time(s):\n",
    "    h, m = 0, 0\n",
    "    \n",
    "    if s % 3600 > 0:\n",
    "        h = s // 3600\n",
    "        s = (s % 3600)\n",
    "    if n % 60 > 0:\n",
    "        m = s // 60\n",
    "        s = (s % 60)\n",
    "        \n",
    "    return h, m, s\n",
    "\n",
    "print(time2secs(2,3,10))#(hh,mm,ss)\n",
    "\n",
    "h, m, s =secs2time(7390)\n",
    "print(f\"{h}h, {m}m, {s}s\")"
   ]
  },
  {
   "cell_type": "markdown",
   "id": "f6d353ca-7dfa-4e99-a5f1-7b20d82d22c8",
   "metadata": {},
   "source": [
    "**Ejercicio 11:** Crea una función  que lea una tupla, invierta los valores de la tupla y regrese una nueva tupla invirtiendo los valores. Recuerde que las tuplas son inmutables."
   ]
  },
  {
   "cell_type": "code",
   "execution_count": 117,
   "id": "e89911c7-6a97-410d-89cf-0a0b0112893c",
   "metadata": {},
   "outputs": [
    {
     "data": {
      "text/plain": [
       "(4, 9, 6, 3)"
      ]
     },
     "execution_count": 117,
     "metadata": {},
     "output_type": "execute_result"
    }
   ],
   "source": [
    "def invTupla(tup):\n",
    "    lista = list(tup)\n",
    "    lista.reverse()\n",
    "    \n",
    "    return tuple(lista)\n",
    "\n",
    "n = (3, 6, 9, 4)\n",
    "invTupla(n)"
   ]
  },
  {
   "cell_type": "markdown",
   "id": "c17568f6-6964-4f3c-a14a-1cd2a5ec7823",
   "metadata": {},
   "source": [
    "**Ejercicio 12:** Escriba una función que lea una lista y calcule la media geométrica de sus valores, usando funtools.reduce."
   ]
  },
  {
   "cell_type": "code",
   "execution_count": 125,
   "id": "e90efe84-baf2-4d22-b747-69094627ae0d",
   "metadata": {},
   "outputs": [
    {
     "name": "stdout",
     "output_type": "stream",
     "text": [
      "5.009970139234591\n"
     ]
    }
   ],
   "source": [
    "from functools import reduce \n",
    "\n",
    "def mediaGeo(lista):\n",
    "    return reduce(lambda x, y: x * y, lista)**(1/len(lista))\n",
    "\n",
    "nums = [5, 6, 3 ,7]\n",
    "print(mediaGeo(nums))"
   ]
  },
  {
   "cell_type": "code",
   "execution_count": null,
   "id": "473d3be8-551c-4b4e-b675-60101b58c9ac",
   "metadata": {},
   "outputs": [],
   "source": []
  }
 ],
 "metadata": {
  "kernelspec": {
   "display_name": "Python 3 (ipykernel)",
   "language": "python",
   "name": "python3"
  },
  "language_info": {
   "codemirror_mode": {
    "name": "ipython",
    "version": 3
   },
   "file_extension": ".py",
   "mimetype": "text/x-python",
   "name": "python",
   "nbconvert_exporter": "python",
   "pygments_lexer": "ipython3",
   "version": "3.8.16"
  }
 },
 "nbformat": 4,
 "nbformat_minor": 5
}
